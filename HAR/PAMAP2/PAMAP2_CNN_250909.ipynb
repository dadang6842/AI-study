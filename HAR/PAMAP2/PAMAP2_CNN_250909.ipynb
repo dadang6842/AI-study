{
  "nbformat": 4,
  "nbformat_minor": 0,
  "metadata": {
    "colab": {
      "provenance": [],
      "gpuType": "T4"
    },
    "kernelspec": {
      "name": "python3",
      "display_name": "Python 3"
    },
    "language_info": {
      "name": "python"
    },
    "accelerator": "GPU"
  },
  "cells": [
    {
      "cell_type": "markdown",
      "source": [
        "# PAMAP2 - CNN\n",
        "- pytorch\n",
        "- 피험자 별로 데이터 split(subject-based split)\n",
        "- 성능 저하\n",
        "- cnn 모델을 한 레이어 추가, linear interpolation 대신 ffill, bfill 사용, early stopping의 patience를 50으로 늘림 등의 방법을 써봤지만 성능이 더 저하됨\n",
        "- subject-based split을 하면 겪는 문제라고 함 (완전 처음 보는 데이터이기 때문)\n"
      ],
      "metadata": {
        "id": "yb1xJ7xzy3SB"
      }
    },
    {
      "cell_type": "code",
      "execution_count": null,
      "metadata": {
        "id": "tljOdIrkyypo"
      },
      "outputs": [],
      "source": [
        "import numpy as np\n",
        "import pandas as pd\n",
        "import torch\n",
        "import torch.nn as nn\n",
        "import torch.optim as optim\n",
        "from torch.utils.data import Dataset, DataLoader\n",
        "from sklearn.preprocessing import MinMaxScaler\n",
        "from sklearn.metrics import classification_report, confusion_matrix\n",
        "from scipy import stats\n",
        "import matplotlib.pyplot as plt\n",
        "import seaborn as sns\n",
        "import os\n",
        "from torchsummary import summary"
      ]
    },
    {
      "cell_type": "code",
      "source": [
        "# !pip install torchsummary"
      ],
      "metadata": {
        "id": "hhRcPmYP63n_"
      },
      "execution_count": null,
      "outputs": []
    },
    {
      "cell_type": "code",
      "source": [
        "from google.colab import drive\n",
        "drive.mount('/content/drive')"
      ],
      "metadata": {
        "colab": {
          "base_uri": "https://localhost:8080/"
        },
        "id": "cDhML2I_zFhZ",
        "outputId": "2bcaccd9-6fd7-4774-9faa-5f69640b0e33"
      },
      "execution_count": null,
      "outputs": [
        {
          "output_type": "stream",
          "name": "stdout",
          "text": [
            "Drive already mounted at /content/drive; to attempt to forcibly remount, call drive.mount(\"/content/drive\", force_remount=True).\n"
          ]
        }
      ]
    },
    {
      "cell_type": "code",
      "source": [
        "df = pd.read_csv('/content/drive/MyDrive/AI_data/PAMAP2/PAMAP2_integrated_data.csv')"
      ],
      "metadata": {
        "id": "9aUKQp_azLHM"
      },
      "execution_count": null,
      "outputs": []
    },
    {
      "cell_type": "code",
      "source": [
        "df.info()"
      ],
      "metadata": {
        "colab": {
          "base_uri": "https://localhost:8080/"
        },
        "id": "Vvqkqz0EzM7z",
        "outputId": "874cfb7b-1835-4794-d9ad-8d4df37a4452"
      },
      "execution_count": null,
      "outputs": [
        {
          "output_type": "stream",
          "name": "stdout",
          "text": [
            "<class 'pandas.core.frame.DataFrame'>\n",
            "RangeIndex: 3850505 entries, 0 to 3850504\n",
            "Data columns (total 55 columns):\n",
            " #   Column           Dtype  \n",
            "---  ------           -----  \n",
            " 0   timestamp        float64\n",
            " 1   activityID       float64\n",
            " 2   heart_rate       float64\n",
            " 3   hand_temp        float64\n",
            " 4   hand_acc_16g_x   float64\n",
            " 5   hand_acc_16g_y   float64\n",
            " 6   hand_acc_16g_z   float64\n",
            " 7   hand_acc_6g_x    float64\n",
            " 8   hand_acc_6g_y    float64\n",
            " 9   hand_acc_6g_z    float64\n",
            " 10  hand_gyro_x      float64\n",
            " 11  hand_gyro_y      float64\n",
            " 12  hand_gyro_z      float64\n",
            " 13  hand_mag_x       float64\n",
            " 14  hand_mag_y       float64\n",
            " 15  hand_mag_z       float64\n",
            " 16  hand_orient_1    float64\n",
            " 17  hand_orient_2    float64\n",
            " 18  hand_orient_3    float64\n",
            " 19  hand_orient_4    float64\n",
            " 20  chest_temp       float64\n",
            " 21  chest_acc_16g_x  float64\n",
            " 22  chest_acc_16g_y  float64\n",
            " 23  chest_acc_16g_z  float64\n",
            " 24  chest_acc_6g_x   float64\n",
            " 25  chest_acc_6g_y   float64\n",
            " 26  chest_acc_6g_z   float64\n",
            " 27  chest_gyro_x     float64\n",
            " 28  chest_gyro_y     float64\n",
            " 29  chest_gyro_z     float64\n",
            " 30  chest_mag_x      float64\n",
            " 31  chest_mag_y      float64\n",
            " 32  chest_mag_z      float64\n",
            " 33  chest_orient_1   float64\n",
            " 34  chest_orient_2   float64\n",
            " 35  chest_orient_3   float64\n",
            " 36  chest_orient_4   float64\n",
            " 37  ankle_temp       float64\n",
            " 38  ankle_acc_16g_x  float64\n",
            " 39  ankle_acc_16g_y  float64\n",
            " 40  ankle_acc_16g_z  float64\n",
            " 41  ankle_acc_6g_x   float64\n",
            " 42  ankle_acc_6g_y   float64\n",
            " 43  ankle_acc_6g_z   float64\n",
            " 44  ankle_gyro_x     float64\n",
            " 45  ankle_gyro_y     float64\n",
            " 46  ankle_gyro_z     float64\n",
            " 47  ankle_mag_x      float64\n",
            " 48  ankle_mag_y      float64\n",
            " 49  ankle_mag_z      float64\n",
            " 50  ankle_orient_1   float64\n",
            " 51  ankle_orient_2   float64\n",
            " 52  ankle_orient_3   float64\n",
            " 53  ankle_orient_4   float64\n",
            " 54  subject          object \n",
            "dtypes: float64(54), object(1)\n",
            "memory usage: 1.6+ GB\n"
          ]
        }
      ]
    },
    {
      "cell_type": "code",
      "source": [
        "df = df.drop(columns=['timestamp', 'heart_rate', 'hand_temp', 'hand_acc_6g_x', 'hand_acc_6g_y', 'hand_acc_6g_z',\n",
        "                     'hand_orient_1', 'hand_orient_2', 'hand_orient_3', 'hand_orient_4',\n",
        "                     'chest_temp', 'chest_acc_6g_x', 'chest_acc_6g_y', 'chest_acc_6g_z',\n",
        "                     'chest_orient_1', 'chest_orient_2', 'chest_orient_3', 'chest_orient_4',\n",
        "                     'ankle_temp', 'ankle_acc_6g_x', 'ankle_acc_6g_y', 'ankle_acc_6g_z',\n",
        "                     'ankle_orient_1', 'ankle_orient_2', 'ankle_orient_3', 'ankle_orient_4'])"
      ],
      "metadata": {
        "id": "gzT-kAXgzQO8"
      },
      "execution_count": null,
      "outputs": []
    },
    {
      "cell_type": "code",
      "source": [
        "df.isna().sum()"
      ],
      "metadata": {
        "colab": {
          "base_uri": "https://localhost:8080/",
          "height": 993
        },
        "id": "Uf7MQgBazSDO",
        "outputId": "9a746068-b444-46fe-c4ff-aed09911f7c7"
      },
      "execution_count": null,
      "outputs": [
        {
          "output_type": "execute_result",
          "data": {
            "text/plain": [
              "activityID             0\n",
              "hand_acc_16g_x     14338\n",
              "hand_acc_16g_y     14338\n",
              "hand_acc_16g_z     14338\n",
              "hand_gyro_x        14338\n",
              "hand_gyro_y        14338\n",
              "hand_gyro_z        14338\n",
              "hand_mag_x         14338\n",
              "hand_mag_y         14338\n",
              "hand_mag_z         14338\n",
              "chest_acc_16g_x     4310\n",
              "chest_acc_16g_y     4310\n",
              "chest_acc_16g_z     4310\n",
              "chest_gyro_x        4310\n",
              "chest_gyro_y        4310\n",
              "chest_gyro_z        4310\n",
              "chest_mag_x         4310\n",
              "chest_mag_y         4310\n",
              "chest_mag_z         4310\n",
              "ankle_acc_16g_x    13556\n",
              "ankle_acc_16g_y    13556\n",
              "ankle_acc_16g_z    13556\n",
              "ankle_gyro_x       13556\n",
              "ankle_gyro_y       13556\n",
              "ankle_gyro_z       13556\n",
              "ankle_mag_x        13556\n",
              "ankle_mag_y        13556\n",
              "ankle_mag_z        13556\n",
              "subject                0\n",
              "dtype: int64"
            ],
            "text/html": [
              "<div>\n",
              "<style scoped>\n",
              "    .dataframe tbody tr th:only-of-type {\n",
              "        vertical-align: middle;\n",
              "    }\n",
              "\n",
              "    .dataframe tbody tr th {\n",
              "        vertical-align: top;\n",
              "    }\n",
              "\n",
              "    .dataframe thead th {\n",
              "        text-align: right;\n",
              "    }\n",
              "</style>\n",
              "<table border=\"1\" class=\"dataframe\">\n",
              "  <thead>\n",
              "    <tr style=\"text-align: right;\">\n",
              "      <th></th>\n",
              "      <th>0</th>\n",
              "    </tr>\n",
              "  </thead>\n",
              "  <tbody>\n",
              "    <tr>\n",
              "      <th>activityID</th>\n",
              "      <td>0</td>\n",
              "    </tr>\n",
              "    <tr>\n",
              "      <th>hand_acc_16g_x</th>\n",
              "      <td>14338</td>\n",
              "    </tr>\n",
              "    <tr>\n",
              "      <th>hand_acc_16g_y</th>\n",
              "      <td>14338</td>\n",
              "    </tr>\n",
              "    <tr>\n",
              "      <th>hand_acc_16g_z</th>\n",
              "      <td>14338</td>\n",
              "    </tr>\n",
              "    <tr>\n",
              "      <th>hand_gyro_x</th>\n",
              "      <td>14338</td>\n",
              "    </tr>\n",
              "    <tr>\n",
              "      <th>hand_gyro_y</th>\n",
              "      <td>14338</td>\n",
              "    </tr>\n",
              "    <tr>\n",
              "      <th>hand_gyro_z</th>\n",
              "      <td>14338</td>\n",
              "    </tr>\n",
              "    <tr>\n",
              "      <th>hand_mag_x</th>\n",
              "      <td>14338</td>\n",
              "    </tr>\n",
              "    <tr>\n",
              "      <th>hand_mag_y</th>\n",
              "      <td>14338</td>\n",
              "    </tr>\n",
              "    <tr>\n",
              "      <th>hand_mag_z</th>\n",
              "      <td>14338</td>\n",
              "    </tr>\n",
              "    <tr>\n",
              "      <th>chest_acc_16g_x</th>\n",
              "      <td>4310</td>\n",
              "    </tr>\n",
              "    <tr>\n",
              "      <th>chest_acc_16g_y</th>\n",
              "      <td>4310</td>\n",
              "    </tr>\n",
              "    <tr>\n",
              "      <th>chest_acc_16g_z</th>\n",
              "      <td>4310</td>\n",
              "    </tr>\n",
              "    <tr>\n",
              "      <th>chest_gyro_x</th>\n",
              "      <td>4310</td>\n",
              "    </tr>\n",
              "    <tr>\n",
              "      <th>chest_gyro_y</th>\n",
              "      <td>4310</td>\n",
              "    </tr>\n",
              "    <tr>\n",
              "      <th>chest_gyro_z</th>\n",
              "      <td>4310</td>\n",
              "    </tr>\n",
              "    <tr>\n",
              "      <th>chest_mag_x</th>\n",
              "      <td>4310</td>\n",
              "    </tr>\n",
              "    <tr>\n",
              "      <th>chest_mag_y</th>\n",
              "      <td>4310</td>\n",
              "    </tr>\n",
              "    <tr>\n",
              "      <th>chest_mag_z</th>\n",
              "      <td>4310</td>\n",
              "    </tr>\n",
              "    <tr>\n",
              "      <th>ankle_acc_16g_x</th>\n",
              "      <td>13556</td>\n",
              "    </tr>\n",
              "    <tr>\n",
              "      <th>ankle_acc_16g_y</th>\n",
              "      <td>13556</td>\n",
              "    </tr>\n",
              "    <tr>\n",
              "      <th>ankle_acc_16g_z</th>\n",
              "      <td>13556</td>\n",
              "    </tr>\n",
              "    <tr>\n",
              "      <th>ankle_gyro_x</th>\n",
              "      <td>13556</td>\n",
              "    </tr>\n",
              "    <tr>\n",
              "      <th>ankle_gyro_y</th>\n",
              "      <td>13556</td>\n",
              "    </tr>\n",
              "    <tr>\n",
              "      <th>ankle_gyro_z</th>\n",
              "      <td>13556</td>\n",
              "    </tr>\n",
              "    <tr>\n",
              "      <th>ankle_mag_x</th>\n",
              "      <td>13556</td>\n",
              "    </tr>\n",
              "    <tr>\n",
              "      <th>ankle_mag_y</th>\n",
              "      <td>13556</td>\n",
              "    </tr>\n",
              "    <tr>\n",
              "      <th>ankle_mag_z</th>\n",
              "      <td>13556</td>\n",
              "    </tr>\n",
              "    <tr>\n",
              "      <th>subject</th>\n",
              "      <td>0</td>\n",
              "    </tr>\n",
              "  </tbody>\n",
              "</table>\n",
              "</div><br><label><b>dtype:</b> int64</label>"
            ]
          },
          "metadata": {},
          "execution_count": 31
        }
      ]
    },
    {
      "cell_type": "code",
      "source": [
        "activity_mapping = {\n",
        "    1: 0, 2: 1, 3: 2, 4: 3, 5: 4, 6: 5, 7: 6,\n",
        "    12: 7, 13: 8, 16: 9, 17: 10, 24: 11\n",
        "}\n",
        "df = df[df[\"activityID\"].isin(activity_mapping.keys())]\n",
        "\n",
        "# Handle NaN values by activity\n",
        "df_list = []\n",
        "for activity_id in df['activityID'].unique():\n",
        "    activity_df = df[df['activityID'] == activity_id].copy()\n",
        "    # linear interpolation\n",
        "    activity_df = activity_df.interpolate(method='linear')\n",
        "    # NaN 값이 남아 있을 때 forward/backward fill 처리\n",
        "    activity_df = activity_df.fillna(method='ffill').fillna(method='bfill')\n",
        "    df_list.append(activity_df)\n",
        "\n",
        "df_processed = pd.concat(df_list, ignore_index=True)"
      ],
      "metadata": {
        "colab": {
          "base_uri": "https://localhost:8080/"
        },
        "id": "KC5ybPy_zlFx",
        "outputId": "97ce9241-696e-45b1-e050-9072da0e0e74"
      },
      "execution_count": null,
      "outputs": [
        {
          "output_type": "stream",
          "name": "stderr",
          "text": [
            "/tmp/ipython-input-2756959744.py:12: FutureWarning: DataFrame.interpolate with object dtype is deprecated and will raise in a future version. Call obj.infer_objects(copy=False) before interpolating instead.\n",
            "  activity_df = activity_df.interpolate(method='linear')\n",
            "/tmp/ipython-input-2756959744.py:14: FutureWarning: DataFrame.fillna with 'method' is deprecated and will raise in a future version. Use obj.ffill() or obj.bfill() instead.\n",
            "  activity_df = activity_df.fillna(method='ffill').fillna(method='bfill')\n",
            "/tmp/ipython-input-2756959744.py:12: FutureWarning: DataFrame.interpolate with object dtype is deprecated and will raise in a future version. Call obj.infer_objects(copy=False) before interpolating instead.\n",
            "  activity_df = activity_df.interpolate(method='linear')\n",
            "/tmp/ipython-input-2756959744.py:14: FutureWarning: DataFrame.fillna with 'method' is deprecated and will raise in a future version. Use obj.ffill() or obj.bfill() instead.\n",
            "  activity_df = activity_df.fillna(method='ffill').fillna(method='bfill')\n",
            "/tmp/ipython-input-2756959744.py:12: FutureWarning: DataFrame.interpolate with object dtype is deprecated and will raise in a future version. Call obj.infer_objects(copy=False) before interpolating instead.\n",
            "  activity_df = activity_df.interpolate(method='linear')\n",
            "/tmp/ipython-input-2756959744.py:14: FutureWarning: DataFrame.fillna with 'method' is deprecated and will raise in a future version. Use obj.ffill() or obj.bfill() instead.\n",
            "  activity_df = activity_df.fillna(method='ffill').fillna(method='bfill')\n",
            "/tmp/ipython-input-2756959744.py:12: FutureWarning: DataFrame.interpolate with object dtype is deprecated and will raise in a future version. Call obj.infer_objects(copy=False) before interpolating instead.\n",
            "  activity_df = activity_df.interpolate(method='linear')\n",
            "/tmp/ipython-input-2756959744.py:14: FutureWarning: DataFrame.fillna with 'method' is deprecated and will raise in a future version. Use obj.ffill() or obj.bfill() instead.\n",
            "  activity_df = activity_df.fillna(method='ffill').fillna(method='bfill')\n",
            "/tmp/ipython-input-2756959744.py:12: FutureWarning: DataFrame.interpolate with object dtype is deprecated and will raise in a future version. Call obj.infer_objects(copy=False) before interpolating instead.\n",
            "  activity_df = activity_df.interpolate(method='linear')\n",
            "/tmp/ipython-input-2756959744.py:14: FutureWarning: DataFrame.fillna with 'method' is deprecated and will raise in a future version. Use obj.ffill() or obj.bfill() instead.\n",
            "  activity_df = activity_df.fillna(method='ffill').fillna(method='bfill')\n",
            "/tmp/ipython-input-2756959744.py:12: FutureWarning: DataFrame.interpolate with object dtype is deprecated and will raise in a future version. Call obj.infer_objects(copy=False) before interpolating instead.\n",
            "  activity_df = activity_df.interpolate(method='linear')\n",
            "/tmp/ipython-input-2756959744.py:14: FutureWarning: DataFrame.fillna with 'method' is deprecated and will raise in a future version. Use obj.ffill() or obj.bfill() instead.\n",
            "  activity_df = activity_df.fillna(method='ffill').fillna(method='bfill')\n",
            "/tmp/ipython-input-2756959744.py:12: FutureWarning: DataFrame.interpolate with object dtype is deprecated and will raise in a future version. Call obj.infer_objects(copy=False) before interpolating instead.\n",
            "  activity_df = activity_df.interpolate(method='linear')\n",
            "/tmp/ipython-input-2756959744.py:14: FutureWarning: DataFrame.fillna with 'method' is deprecated and will raise in a future version. Use obj.ffill() or obj.bfill() instead.\n",
            "  activity_df = activity_df.fillna(method='ffill').fillna(method='bfill')\n",
            "/tmp/ipython-input-2756959744.py:12: FutureWarning: DataFrame.interpolate with object dtype is deprecated and will raise in a future version. Call obj.infer_objects(copy=False) before interpolating instead.\n",
            "  activity_df = activity_df.interpolate(method='linear')\n",
            "/tmp/ipython-input-2756959744.py:14: FutureWarning: DataFrame.fillna with 'method' is deprecated and will raise in a future version. Use obj.ffill() or obj.bfill() instead.\n",
            "  activity_df = activity_df.fillna(method='ffill').fillna(method='bfill')\n",
            "/tmp/ipython-input-2756959744.py:12: FutureWarning: DataFrame.interpolate with object dtype is deprecated and will raise in a future version. Call obj.infer_objects(copy=False) before interpolating instead.\n",
            "  activity_df = activity_df.interpolate(method='linear')\n",
            "/tmp/ipython-input-2756959744.py:14: FutureWarning: DataFrame.fillna with 'method' is deprecated and will raise in a future version. Use obj.ffill() or obj.bfill() instead.\n",
            "  activity_df = activity_df.fillna(method='ffill').fillna(method='bfill')\n",
            "/tmp/ipython-input-2756959744.py:12: FutureWarning: DataFrame.interpolate with object dtype is deprecated and will raise in a future version. Call obj.infer_objects(copy=False) before interpolating instead.\n",
            "  activity_df = activity_df.interpolate(method='linear')\n",
            "/tmp/ipython-input-2756959744.py:14: FutureWarning: DataFrame.fillna with 'method' is deprecated and will raise in a future version. Use obj.ffill() or obj.bfill() instead.\n",
            "  activity_df = activity_df.fillna(method='ffill').fillna(method='bfill')\n",
            "/tmp/ipython-input-2756959744.py:12: FutureWarning: DataFrame.interpolate with object dtype is deprecated and will raise in a future version. Call obj.infer_objects(copy=False) before interpolating instead.\n",
            "  activity_df = activity_df.interpolate(method='linear')\n",
            "/tmp/ipython-input-2756959744.py:14: FutureWarning: DataFrame.fillna with 'method' is deprecated and will raise in a future version. Use obj.ffill() or obj.bfill() instead.\n",
            "  activity_df = activity_df.fillna(method='ffill').fillna(method='bfill')\n",
            "/tmp/ipython-input-2756959744.py:12: FutureWarning: DataFrame.interpolate with object dtype is deprecated and will raise in a future version. Call obj.infer_objects(copy=False) before interpolating instead.\n",
            "  activity_df = activity_df.interpolate(method='linear')\n",
            "/tmp/ipython-input-2756959744.py:14: FutureWarning: DataFrame.fillna with 'method' is deprecated and will raise in a future version. Use obj.ffill() or obj.bfill() instead.\n",
            "  activity_df = activity_df.fillna(method='ffill').fillna(method='bfill')\n"
          ]
        }
      ]
    },
    {
      "cell_type": "code",
      "source": [
        "df['activityID'].value_counts()"
      ],
      "metadata": {
        "colab": {
          "base_uri": "https://localhost:8080/",
          "height": 491
        },
        "id": "lAs-VXKB-jUB",
        "outputId": "77cf8ee7-12ad-4414-d852-a54c713b08d7"
      },
      "execution_count": null,
      "outputs": [
        {
          "output_type": "execute_result",
          "data": {
            "text/plain": [
              "activityID\n",
              "4.0     238761\n",
              "17.0    238690\n",
              "1.0     192523\n",
              "3.0     189931\n",
              "7.0     188107\n",
              "2.0     185188\n",
              "16.0    175353\n",
              "6.0     164600\n",
              "12.0    117216\n",
              "13.0    104944\n",
              "5.0      98199\n",
              "24.0     49360\n",
              "Name: count, dtype: int64"
            ],
            "text/html": [
              "<div>\n",
              "<style scoped>\n",
              "    .dataframe tbody tr th:only-of-type {\n",
              "        vertical-align: middle;\n",
              "    }\n",
              "\n",
              "    .dataframe tbody tr th {\n",
              "        vertical-align: top;\n",
              "    }\n",
              "\n",
              "    .dataframe thead th {\n",
              "        text-align: right;\n",
              "    }\n",
              "</style>\n",
              "<table border=\"1\" class=\"dataframe\">\n",
              "  <thead>\n",
              "    <tr style=\"text-align: right;\">\n",
              "      <th></th>\n",
              "      <th>count</th>\n",
              "    </tr>\n",
              "    <tr>\n",
              "      <th>activityID</th>\n",
              "      <th></th>\n",
              "    </tr>\n",
              "  </thead>\n",
              "  <tbody>\n",
              "    <tr>\n",
              "      <th>4.0</th>\n",
              "      <td>238761</td>\n",
              "    </tr>\n",
              "    <tr>\n",
              "      <th>17.0</th>\n",
              "      <td>238690</td>\n",
              "    </tr>\n",
              "    <tr>\n",
              "      <th>1.0</th>\n",
              "      <td>192523</td>\n",
              "    </tr>\n",
              "    <tr>\n",
              "      <th>3.0</th>\n",
              "      <td>189931</td>\n",
              "    </tr>\n",
              "    <tr>\n",
              "      <th>7.0</th>\n",
              "      <td>188107</td>\n",
              "    </tr>\n",
              "    <tr>\n",
              "      <th>2.0</th>\n",
              "      <td>185188</td>\n",
              "    </tr>\n",
              "    <tr>\n",
              "      <th>16.0</th>\n",
              "      <td>175353</td>\n",
              "    </tr>\n",
              "    <tr>\n",
              "      <th>6.0</th>\n",
              "      <td>164600</td>\n",
              "    </tr>\n",
              "    <tr>\n",
              "      <th>12.0</th>\n",
              "      <td>117216</td>\n",
              "    </tr>\n",
              "    <tr>\n",
              "      <th>13.0</th>\n",
              "      <td>104944</td>\n",
              "    </tr>\n",
              "    <tr>\n",
              "      <th>5.0</th>\n",
              "      <td>98199</td>\n",
              "    </tr>\n",
              "    <tr>\n",
              "      <th>24.0</th>\n",
              "      <td>49360</td>\n",
              "    </tr>\n",
              "  </tbody>\n",
              "</table>\n",
              "</div><br><label><b>dtype:</b> int64</label>"
            ]
          },
          "metadata": {},
          "execution_count": 33
        }
      ]
    },
    {
      "cell_type": "code",
      "source": [
        "scaler = MinMaxScaler()\n",
        "features_to_scale = df_processed.columns.drop(['subject', 'activityID'])\n",
        "df_processed[features_to_scale] = scaler.fit_transform(df_processed[features_to_scale])"
      ],
      "metadata": {
        "id": "TvMneW4i1ddE"
      },
      "execution_count": null,
      "outputs": []
    },
    {
      "cell_type": "code",
      "source": [
        "TIME_STEPS = 100 # 1 sec (100Hz sampling)\n",
        "STEPS = 50       # 50% overlap\n",
        "\n",
        "def create_dataset(X, y, time_steps, step=1):\n",
        "    Xs, ys = [], []\n",
        "    for i in range(0, len(X) - time_steps, step):\n",
        "        x = X.iloc[i:(i + time_steps)].values\n",
        "        labels = y.iloc[i: i + time_steps]\n",
        "        Xs.append(x)\n",
        "        ys.append(stats.mode(labels)[0])\n",
        "    return np.array(Xs), np.array(ys).reshape(-1, 1)"
      ],
      "metadata": {
        "id": "1SmnsdL61mlY"
      },
      "execution_count": null,
      "outputs": []
    },
    {
      "cell_type": "code",
      "source": [
        "train_df = df_processed[~df_processed['subject'].isin(['Protocol_subject101', 'Protocol_subject102'])]\n",
        "val_df = df_processed[df_processed['subject'] == 'Protocol_subject101']\n",
        "test_df = df_processed[df_processed['subject'] == 'Protocol_subject102']\n",
        "\n",
        "print(f\"Train subjects: {train_df['subject'].unique()}\")\n",
        "print(f\"Val subjects: {val_df['subject'].unique()}\")\n",
        "print(f\"Test subjects: {test_df['subject'].unique()}\")"
      ],
      "metadata": {
        "colab": {
          "base_uri": "https://localhost:8080/"
        },
        "id": "xJVbch0u3_NY",
        "outputId": "c36be19f-28ee-4433-b9c0-afe364f4109e"
      },
      "execution_count": null,
      "outputs": [
        {
          "output_type": "stream",
          "name": "stdout",
          "text": [
            "Train subjects: ['Protocol_subject103' 'Protocol_subject104' 'Protocol_subject105'\n",
            " 'Protocol_subject106' 'Protocol_subject107' 'Protocol_subject108'\n",
            " 'Protocol_subject109']\n",
            "Val subjects: ['Protocol_subject101']\n",
            "Test subjects: ['Protocol_subject102']\n"
          ]
        }
      ]
    },
    {
      "cell_type": "code",
      "source": [
        "def prepare_data_split(df):\n",
        "    X = df.drop(columns=['activityID', 'subject'])\n",
        "    y = df['activityID'].map(activity_mapping)\n",
        "    X_seq, y_seq = create_dataset(X, y, TIME_STEPS, STEPS)\n",
        "    return X_seq, y_seq.flatten()"
      ],
      "metadata": {
        "id": "m2KXo6724Hlk"
      },
      "execution_count": null,
      "outputs": []
    },
    {
      "cell_type": "code",
      "source": [
        "X_train, y_train = prepare_data_split(train_df)\n",
        "X_val, y_val = prepare_data_split(val_df)\n",
        "X_test, y_test = prepare_data_split(test_df)\n",
        "\n",
        "print(f\"\\nSubject-based data split:\")\n",
        "print(f\"Train set size: X_train.shape = {X_train.shape}, y_train.shape = {y_train.shape}\")\n",
        "print(f\"Validation set size: X_val.shape = {X_val.shape}, y_val.shape = {y_val.shape}\")\n",
        "print(f\"Test set size: X_test.shape = {X_test.shape}, y_test.shape = {y_test.shape}\")"
      ],
      "metadata": {
        "colab": {
          "base_uri": "https://localhost:8080/"
        },
        "id": "wX6MwGxn4Lp6",
        "outputId": "526b7498-d570-4650-e10c-43cb9946a044"
      },
      "execution_count": null,
      "outputs": [
        {
          "output_type": "stream",
          "name": "stdout",
          "text": [
            "\n",
            "Subject-based data split:\n",
            "Train set size: X_train.shape = (28590, 100, 27), y_train.shape = (28590,)\n",
            "Validation set size: X_val.shape = (4998, 100, 27), y_val.shape = (4998,)\n",
            "Test set size: X_test.shape = (5265, 100, 27), y_test.shape = (5265,)\n"
          ]
        }
      ]
    },
    {
      "cell_type": "code",
      "source": [
        "class PAMAP2Dataset(Dataset):\n",
        "    def __init__(self, X, y):\n",
        "        self.X = torch.FloatTensor(X)\n",
        "        self.y = torch.LongTensor(y)\n",
        "\n",
        "    def __len__(self):\n",
        "        return len(self.X)\n",
        "\n",
        "    def __getitem__(self, idx):\n",
        "        return self.X[idx], self.y[idx]"
      ],
      "metadata": {
        "id": "jF3Mgif-4dS7"
      },
      "execution_count": null,
      "outputs": []
    },
    {
      "cell_type": "code",
      "source": [
        "train_dataset = PAMAP2Dataset(X_train, y_train)\n",
        "val_dataset = PAMAP2Dataset(X_val, y_val)\n",
        "test_dataset = PAMAP2Dataset(X_test, y_test)"
      ],
      "metadata": {
        "id": "9Fj_7VRR42P4"
      },
      "execution_count": null,
      "outputs": []
    },
    {
      "cell_type": "code",
      "source": [
        "batch_size = 64\n",
        "\n",
        "train_loader = DataLoader(train_dataset, batch_size=batch_size, shuffle=True)\n",
        "val_loader = DataLoader(val_dataset, batch_size=batch_size, shuffle=False)\n",
        "test_loader = DataLoader(test_dataset, batch_size=batch_size, shuffle=False)"
      ],
      "metadata": {
        "id": "w9dSFHR444UK"
      },
      "execution_count": null,
      "outputs": []
    },
    {
      "cell_type": "code",
      "source": [
        "# CNN-only Model\n",
        "class PAMAP2_CNN(nn.Module):\n",
        "    def __init__(self, input_features, num_classes):\n",
        "        super(PAMAP2_CNN, self).__init__()\n",
        "\n",
        "        self.conv_layers = nn.Sequential(\n",
        "            nn.Conv1d(input_features, 64, kernel_size=5, padding=2),\n",
        "            nn.ReLU(),\n",
        "            nn.BatchNorm1d(64),\n",
        "\n",
        "            nn.Conv1d(64, 128, kernel_size=3, padding=1),\n",
        "            nn.ReLU(),\n",
        "            nn.BatchNorm1d(128),\n",
        "            nn.Dropout(0.3),\n",
        "            nn.MaxPool1d(2),\n",
        "\n",
        "            nn.Conv1d(128, 256, kernel_size=3, padding=1),\n",
        "            nn.ReLU(),\n",
        "            nn.BatchNorm1d(256),\n",
        "            nn.Dropout(0.3),\n",
        "            nn.MaxPool1d(2),\n",
        "\n",
        "            nn.Conv1d(256, 512, kernel_size=3, padding=1),\n",
        "            nn.ReLU(),\n",
        "            nn.BatchNorm1d(512),\n",
        "            nn.Dropout(0.3),\n",
        "        )\n",
        "\n",
        "        self.global_avg_pool = nn.AdaptiveAvgPool1d(1)\n",
        "\n",
        "        self.classifier = nn.Sequential(\n",
        "            nn.Linear(512, 256),\n",
        "            nn.ReLU(),\n",
        "            nn.BatchNorm1d(256),\n",
        "            nn.Dropout(0.5),\n",
        "            nn.Linear(256, 128),\n",
        "            nn.ReLU(),\n",
        "            nn.BatchNorm1d(128),\n",
        "            nn.Dropout(0.5),\n",
        "            nn.Linear(128, num_classes)\n",
        "        )\n",
        "\n",
        "    def forward(self, x):\n",
        "        # Input shape: (batch_size, seq_len, features)\n",
        "        # Conv1d expects: (batch_size, features, seq_len)\n",
        "        x = x.transpose(1, 2)\n",
        "\n",
        "        x = self.conv_layers(x)\n",
        "        x = self.global_avg_pool(x)\n",
        "        x = x.squeeze(-1)  # Remove last dimension: (batch_size, 512, 1) -> (batch_size, 512)\n",
        "        x = self.classifier(x)\n",
        "\n",
        "        return x"
      ],
      "metadata": {
        "id": "ZhKU5zSJ5IGt"
      },
      "execution_count": null,
      "outputs": []
    },
    {
      "cell_type": "code",
      "source": [
        "input_features = X_train.shape[2]\n",
        "num_classes = len(np.unique(y_train))\n",
        "\n",
        "device = torch.device('cuda' if torch.cuda.is_available() else 'cpu')\n",
        "print(f\"Using device: {device}\")\n",
        "\n",
        "model = PAMAP2_CNN(input_features, num_classes).to(device)\n",
        "\n",
        "summary(model, input_size=(TIME_STEPS, input_features))"
      ],
      "metadata": {
        "colab": {
          "base_uri": "https://localhost:8080/"
        },
        "id": "ErTR092K6u00",
        "outputId": "87b728a5-dc00-451e-ff3b-06645ada59f1"
      },
      "execution_count": null,
      "outputs": [
        {
          "output_type": "stream",
          "name": "stdout",
          "text": [
            "Using device: cuda\n",
            "----------------------------------------------------------------\n",
            "        Layer (type)               Output Shape         Param #\n",
            "================================================================\n",
            "            Conv1d-1              [-1, 64, 100]           8,704\n",
            "              ReLU-2              [-1, 64, 100]               0\n",
            "       BatchNorm1d-3              [-1, 64, 100]             128\n",
            "            Conv1d-4             [-1, 128, 100]          24,704\n",
            "              ReLU-5             [-1, 128, 100]               0\n",
            "       BatchNorm1d-6             [-1, 128, 100]             256\n",
            "           Dropout-7             [-1, 128, 100]               0\n",
            "         MaxPool1d-8              [-1, 128, 50]               0\n",
            "            Conv1d-9              [-1, 256, 50]          98,560\n",
            "             ReLU-10              [-1, 256, 50]               0\n",
            "      BatchNorm1d-11              [-1, 256, 50]             512\n",
            "          Dropout-12              [-1, 256, 50]               0\n",
            "        MaxPool1d-13              [-1, 256, 25]               0\n",
            "           Conv1d-14              [-1, 512, 25]         393,728\n",
            "             ReLU-15              [-1, 512, 25]               0\n",
            "      BatchNorm1d-16              [-1, 512, 25]           1,024\n",
            "          Dropout-17              [-1, 512, 25]               0\n",
            "AdaptiveAvgPool1d-18               [-1, 512, 1]               0\n",
            "           Linear-19                  [-1, 256]         131,328\n",
            "             ReLU-20                  [-1, 256]               0\n",
            "      BatchNorm1d-21                  [-1, 256]             512\n",
            "          Dropout-22                  [-1, 256]               0\n",
            "           Linear-23                  [-1, 128]          32,896\n",
            "             ReLU-24                  [-1, 128]               0\n",
            "      BatchNorm1d-25                  [-1, 128]             256\n",
            "          Dropout-26                  [-1, 128]               0\n",
            "           Linear-27                   [-1, 12]           1,548\n",
            "================================================================\n",
            "Total params: 694,156\n",
            "Trainable params: 694,156\n",
            "Non-trainable params: 0\n",
            "----------------------------------------------------------------\n",
            "Input size (MB): 0.01\n",
            "Forward/backward pass size (MB): 1.43\n",
            "Params size (MB): 2.65\n",
            "Estimated Total Size (MB): 4.09\n",
            "----------------------------------------------------------------\n"
          ]
        }
      ]
    },
    {
      "cell_type": "code",
      "source": [
        "criterion = nn.CrossEntropyLoss()\n",
        "optimizer = optim.Adam(model.parameters(), lr=0.001)\n",
        "scheduler = optim.lr_scheduler.ReduceLROnPlateau(optimizer, mode='min', factor=0.1, patience=10, min_lr=1e-5)"
      ],
      "metadata": {
        "id": "ugoSEQ6X7IuH"
      },
      "execution_count": null,
      "outputs": []
    },
    {
      "cell_type": "code",
      "source": [
        "def train_epoch(model, loader, criterion, optimizer, device):\n",
        "    model.train()\n",
        "    running_loss = 0.0\n",
        "    correct = 0\n",
        "    total = 0\n",
        "\n",
        "    for batch_idx, (data, target) in enumerate(loader):\n",
        "        data, target = data.to(device), target.to(device)\n",
        "\n",
        "        optimizer.zero_grad()\n",
        "        output = model(data)\n",
        "        loss = criterion(output, target)\n",
        "        loss.backward()\n",
        "        optimizer.step()\n",
        "\n",
        "        running_loss += loss.item()\n",
        "        _, predicted = torch.max(output.data, 1)\n",
        "        total += target.size(0)\n",
        "        correct += (predicted == target).sum().item()\n",
        "\n",
        "    epoch_loss = running_loss / len(loader)\n",
        "    epoch_acc = 100 * correct / total\n",
        "    return epoch_loss, epoch_acc\n",
        "\n",
        "def validate_epoch(model, loader, criterion, device):\n",
        "    model.eval()\n",
        "    running_loss = 0.0\n",
        "    correct = 0\n",
        "    total = 0\n",
        "\n",
        "    with torch.no_grad():\n",
        "        for data, target in loader:\n",
        "            data, target = data.to(device), target.to(device)\n",
        "            output = model(data)\n",
        "            loss = criterion(output, target)\n",
        "\n",
        "            running_loss += loss.item()\n",
        "            _, predicted = torch.max(output.data, 1)\n",
        "            total += target.size(0)\n",
        "            correct += (predicted == target).sum().item()\n",
        "\n",
        "    epoch_loss = running_loss / len(loader)\n",
        "    epoch_acc = 100 * correct / total\n",
        "    return epoch_loss, epoch_acc"
      ],
      "metadata": {
        "id": "gcpMxXxo7agR"
      },
      "execution_count": null,
      "outputs": []
    },
    {
      "cell_type": "code",
      "source": [
        "num_epochs = 100\n",
        "best_val_loss = float('inf')\n",
        "patience = 20\n",
        "patience_counter = 0\n",
        "\n",
        "train_losses, train_accuracies = [], []\n",
        "val_losses, val_accuracies = [], []\n",
        "\n",
        "print(\"Starting training...\")\n",
        "for epoch in range(num_epochs):\n",
        "    # Training\n",
        "    train_loss, train_acc = train_epoch(model, train_loader, criterion, optimizer, device)\n",
        "    train_losses.append(train_loss)\n",
        "    train_accuracies.append(train_acc)\n",
        "\n",
        "    # Validation\n",
        "    val_loss, val_acc = validate_epoch(model, val_loader, criterion, device)\n",
        "    val_losses.append(val_loss)\n",
        "    val_accuracies.append(val_acc)\n",
        "\n",
        "    # Learning rate scheduling\n",
        "    scheduler.step(val_loss)\n",
        "\n",
        "    print(f'Epoch [{epoch+1}/{num_epochs}]')\n",
        "    print(f'Train Loss: {train_loss:.4f}, Train Acc: {train_acc:.2f}%')\n",
        "    print(f'Val Loss: {val_loss:.4f}, Val Acc: {val_acc:.2f}%')\n",
        "    print('-' * 50)\n",
        "\n",
        "    # Early stopping\n",
        "    if val_loss < best_val_loss:\n",
        "        best_val_loss = val_loss\n",
        "        patience_counter = 0\n",
        "        # Save best model\n",
        "        torch.save(model.state_dict(), 'PAMAP2_CNN_best.pth')\n",
        "        print(f'New best validation loss: {best_val_loss:.2f}%')\n",
        "    else:\n",
        "        patience_counter += 1\n",
        "        if patience_counter >= patience:\n",
        "            print(f'Early stopping triggered after {epoch+1} epochs')\n",
        "            break\n",
        "\n",
        "print(\"Training completed!\")"
      ],
      "metadata": {
        "colab": {
          "base_uri": "https://localhost:8080/"
        },
        "id": "rY5Fh8Wz7hkK",
        "outputId": "68cc8bcd-e01b-404e-9f18-c36f40250977"
      },
      "execution_count": null,
      "outputs": [
        {
          "output_type": "stream",
          "name": "stdout",
          "text": [
            "Starting training...\n",
            "Epoch [1/100]\n",
            "Train Loss: 0.5210, Train Acc: 85.33%\n",
            "Val Loss: 2.7399, Val Acc: 46.78%\n",
            "--------------------------------------------------\n",
            "New best validation loss: 2.74%\n",
            "Epoch [2/100]\n",
            "Train Loss: 0.2404, Train Acc: 93.03%\n",
            "Val Loss: 3.1204, Val Acc: 38.98%\n",
            "--------------------------------------------------\n",
            "Epoch [3/100]\n",
            "Train Loss: 0.1821, Train Acc: 94.65%\n",
            "Val Loss: 2.4075, Val Acc: 56.76%\n",
            "--------------------------------------------------\n",
            "New best validation loss: 2.41%\n",
            "Epoch [4/100]\n",
            "Train Loss: 0.1541, Train Acc: 95.51%\n",
            "Val Loss: 2.4540, Val Acc: 55.94%\n",
            "--------------------------------------------------\n",
            "Epoch [5/100]\n",
            "Train Loss: 0.1273, Train Acc: 96.20%\n",
            "Val Loss: 3.9663, Val Acc: 49.68%\n",
            "--------------------------------------------------\n",
            "Epoch [6/100]\n",
            "Train Loss: 0.1175, Train Acc: 96.34%\n",
            "Val Loss: 2.6740, Val Acc: 55.72%\n",
            "--------------------------------------------------\n",
            "Epoch [7/100]\n",
            "Train Loss: 0.0998, Train Acc: 96.95%\n",
            "Val Loss: 2.8873, Val Acc: 55.68%\n",
            "--------------------------------------------------\n",
            "Epoch [8/100]\n",
            "Train Loss: 0.0940, Train Acc: 97.14%\n",
            "Val Loss: 3.4119, Val Acc: 52.04%\n",
            "--------------------------------------------------\n",
            "Epoch [9/100]\n",
            "Train Loss: 0.0956, Train Acc: 97.15%\n",
            "Val Loss: 3.5484, Val Acc: 54.02%\n",
            "--------------------------------------------------\n",
            "Epoch [10/100]\n",
            "Train Loss: 0.0804, Train Acc: 97.61%\n",
            "Val Loss: 3.0022, Val Acc: 62.93%\n",
            "--------------------------------------------------\n",
            "Epoch [11/100]\n",
            "Train Loss: 0.0798, Train Acc: 97.56%\n",
            "Val Loss: 3.1400, Val Acc: 53.18%\n",
            "--------------------------------------------------\n",
            "Epoch [12/100]\n",
            "Train Loss: 0.0700, Train Acc: 97.92%\n",
            "Val Loss: 3.2983, Val Acc: 58.18%\n",
            "--------------------------------------------------\n",
            "Epoch [13/100]\n",
            "Train Loss: 0.0659, Train Acc: 98.03%\n",
            "Val Loss: 3.5350, Val Acc: 55.66%\n",
            "--------------------------------------------------\n",
            "Epoch [14/100]\n",
            "Train Loss: 0.0647, Train Acc: 98.01%\n",
            "Val Loss: 2.7145, Val Acc: 63.51%\n",
            "--------------------------------------------------\n",
            "Epoch [15/100]\n",
            "Train Loss: 0.0383, Train Acc: 98.77%\n",
            "Val Loss: 2.9746, Val Acc: 61.16%\n",
            "--------------------------------------------------\n",
            "Epoch [16/100]\n",
            "Train Loss: 0.0308, Train Acc: 99.07%\n",
            "Val Loss: 3.1164, Val Acc: 59.04%\n",
            "--------------------------------------------------\n",
            "Epoch [17/100]\n",
            "Train Loss: 0.0279, Train Acc: 99.16%\n",
            "Val Loss: 3.1490, Val Acc: 59.68%\n",
            "--------------------------------------------------\n",
            "Epoch [18/100]\n",
            "Train Loss: 0.0253, Train Acc: 99.17%\n",
            "Val Loss: 3.2045, Val Acc: 58.56%\n",
            "--------------------------------------------------\n",
            "Epoch [19/100]\n",
            "Train Loss: 0.0233, Train Acc: 99.25%\n",
            "Val Loss: 3.5040, Val Acc: 58.50%\n",
            "--------------------------------------------------\n",
            "Epoch [20/100]\n",
            "Train Loss: 0.0216, Train Acc: 99.31%\n",
            "Val Loss: 3.4558, Val Acc: 57.76%\n",
            "--------------------------------------------------\n",
            "Epoch [21/100]\n",
            "Train Loss: 0.0206, Train Acc: 99.39%\n",
            "Val Loss: 3.4413, Val Acc: 58.76%\n",
            "--------------------------------------------------\n",
            "Epoch [22/100]\n",
            "Train Loss: 0.0195, Train Acc: 99.37%\n",
            "Val Loss: 3.3017, Val Acc: 59.54%\n",
            "--------------------------------------------------\n",
            "Epoch [23/100]\n",
            "Train Loss: 0.0207, Train Acc: 99.34%\n",
            "Val Loss: 3.7559, Val Acc: 57.90%\n",
            "--------------------------------------------------\n",
            "Early stopping triggered after 23 epochs\n",
            "Training completed!\n"
          ]
        }
      ]
    },
    {
      "cell_type": "code",
      "source": [
        "model.load_state_dict(torch.load('PAMAP2_CNN_best.pth'))\n",
        "\n",
        "print(\"\\nFinal Evaluation:\")\n",
        "train_loss, train_acc = validate_epoch(model, train_loader, criterion, device)\n",
        "print(f\"Training accuracy: {train_acc:.2f}%\")\n",
        "print(f\"Training loss: {train_loss:.4f}\")\n",
        "\n",
        "test_loss, test_acc = validate_epoch(model, test_loader, criterion, device)\n",
        "print(f\"Test accuracy: {test_acc:.2f}%\")\n",
        "print(f\"Test loss: {test_loss:.4f}\")"
      ],
      "metadata": {
        "colab": {
          "base_uri": "https://localhost:8080/"
        },
        "id": "8g8xCvFz7_Wx",
        "outputId": "95af9918-280f-4c72-e5ca-a3336dff697d"
      },
      "execution_count": null,
      "outputs": [
        {
          "output_type": "stream",
          "name": "stdout",
          "text": [
            "\n",
            "Final Evaluation:\n",
            "Training accuracy: 90.41%\n",
            "Training loss: 0.2983\n",
            "Test accuracy: 62.45%\n",
            "Test loss: 1.2640\n"
          ]
        }
      ]
    },
    {
      "cell_type": "code",
      "source": [
        "model.eval()\n",
        "all_preds = []\n",
        "all_labels = []\n",
        "\n",
        "with torch.no_grad():\n",
        "    for data, target in test_loader:\n",
        "        data, target = data.to(device), target.to(device)\n",
        "        output = model(data)\n",
        "        _, predicted = torch.max(output, 1)\n",
        "\n",
        "        all_preds.extend(predicted.cpu().numpy())\n",
        "        all_labels.extend(target.cpu().numpy())\n",
        "\n",
        "print(\"\\nClassification Report:\")\n",
        "print(classification_report(all_labels, all_preds, digits=4))"
      ],
      "metadata": {
        "colab": {
          "base_uri": "https://localhost:8080/"
        },
        "id": "tSBrND0r8KIQ",
        "outputId": "5ffd9b67-4580-4523-e88c-b96c00727ec4"
      },
      "execution_count": null,
      "outputs": [
        {
          "output_type": "stream",
          "name": "stdout",
          "text": [
            "\n",
            "Classification Report:\n",
            "              precision    recall  f1-score   support\n",
            "\n",
            "           0     0.9736    0.9466    0.9599       468\n",
            "           1     0.4139    0.8770    0.5624       447\n",
            "           2     0.2161    0.0996    0.1364       512\n",
            "           3     0.7803    0.2673    0.3982       651\n",
            "           4     0.9942    0.9189    0.9551       185\n",
            "           5     0.8618    0.9442    0.9011       502\n",
            "           6     0.5355    0.9276    0.6790       594\n",
            "           7     0.4328    0.4179    0.4252       347\n",
            "           8     0.6053    0.1513    0.2421       304\n",
            "           9     0.4443    0.6932    0.5415       414\n",
            "          10     0.9406    0.8510    0.8935       577\n",
            "          11     0.8533    0.2424    0.3776       264\n",
            "\n",
            "    accuracy                         0.6245      5265\n",
            "   macro avg     0.6710    0.6114    0.5893      5265\n",
            "weighted avg     0.6610    0.6245    0.5931      5265\n",
            "\n"
          ]
        }
      ]
    },
    {
      "cell_type": "code",
      "source": [
        "plt.figure(figsize=(15, 5))\n",
        "\n",
        "plt.subplot(1, 2, 1)\n",
        "plt.plot(train_losses, 'r', label='Training loss')\n",
        "plt.plot(val_losses, 'b', label='Validation loss')\n",
        "plt.title('Training and Validation Loss')\n",
        "plt.xlabel('Epoch')\n",
        "plt.ylabel('Loss Value')\n",
        "plt.legend()\n",
        "plt.grid(True)\n",
        "\n",
        "plt.subplot(1, 2, 2)\n",
        "plt.plot(train_accuracies, 'r', label='Training Accuracy')\n",
        "plt.plot(val_accuracies, 'b', label='Validation Accuracy')\n",
        "plt.title('Training and Validation Accuracy')\n",
        "plt.xlabel('Epoch')\n",
        "plt.ylabel('Accuracy (%)')\n",
        "plt.legend()\n",
        "plt.grid(True)\n",
        "\n",
        "plt.tight_layout()\n",
        "plt.show()"
      ],
      "metadata": {
        "colab": {
          "base_uri": "https://localhost:8080/",
          "height": 246
        },
        "id": "PgVmzG238NZ6",
        "outputId": "b5a79106-4f40-4b2f-f608-42078d4e4b1c"
      },
      "execution_count": null,
      "outputs": [
        {
          "output_type": "display_data",
          "data": {
            "text/plain": [
              "<Figure size 1500x500 with 2 Axes>"
            ],
            "image/png": "[encoded data removed]"
          },
          "metadata": {}
        }
      ]
    },
    {
      "cell_type": "code",
      "source": [
        "LABELS = ['lying', 'sitting', 'standing', 'walking', 'running', 'cycling',\n",
        "          'Nordic walking', 'ascending stairs', 'descending stairs',\n",
        "          'vacuum cleaning', 'ironing', 'rope jumping']\n",
        "\n",
        "cm = confusion_matrix(all_labels, all_preds)\n",
        "\n",
        "plt.figure(figsize=(12, 10))\n",
        "sns.heatmap(cm, annot=True, fmt=\"d\", cmap=\"Blues\")\n",
        "plt.xlabel('Predicted')\n",
        "plt.ylabel('True')\n",
        "plt.title('Confusion Matrix')\n",
        "\n",
        "if num_classes <= len(LABELS):\n",
        "    plt.gca().set_xticklabels(LABELS[:num_classes], rotation=45, ha='right')\n",
        "    plt.gca().set_yticklabels(LABELS[:num_classes], rotation=0)\n",
        "\n",
        "plt.tight_layout()\n",
        "plt.show()"
      ],
      "metadata": {
        "colab": {
          "base_uri": "https://localhost:8080/",
          "height": 634
        },
        "id": "lBOO9LqL8PX_",
        "outputId": "23a42174-efbf-46fc-e9de-dac7de4a82c5"
      },
      "execution_count": null,
      "outputs": [
        {
          "output_type": "display_data",
          "data": {
            "text/plain": [
              "<Figure size 1200x1000 with 2 Axes>"
            ],
            "image/png": "[encoded data removed]"
          },
          "metadata": {}
        }
      ]
    }
  ]
}