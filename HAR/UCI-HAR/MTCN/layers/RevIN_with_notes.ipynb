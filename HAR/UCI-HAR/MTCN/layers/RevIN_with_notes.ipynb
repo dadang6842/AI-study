{
  "nbformat": 4,
  "nbformat_minor": 0,
  "metadata": {
    "colab": {
      "provenance": []
    },
    "kernelspec": {
      "name": "python3",
      "display_name": "Python 3"
    },
    "language_info": {
      "name": "python"
    }
  },
  "cells": [
    {
      "cell_type": "markdown",
      "source": [
        "# RevIN\n",
        "- Reversible Instance Normalization\n",
        "- 시계열 데이터에서 분포 변화(distribution shift) 문제를 해결하기 위해 제안된 정규화 기법\n",
        "- 시계열 데이터는 센서, 사용자, 환경에 따라 분포가 크게 달라지는데, 이런 분포 변화는 성능 저하의 원인\n",
        "- RevIN은 데이터를 표준화했다가 모델 출력 후 역변환해서 원래 분포를 복원함\n",
        "- 표준화하면 모든 샘플을 동일한 기준에서 비교 가능, 복원해서 결과를 실제 단위로 해석 가능\n",
        "- RevIN은 선택적으로 affine transform (스케일링, 시프트)를 학습할 수 있음 (최적화된 정규화 스케일 학습)\n",
        "- Subtract Last 옵션: 마지막 시점을 빼서 normalization\n",
        "- 마지막 값을 빼는 이유?: 마지막 관측값을 기준으로 상대적 변화를 보기 위함\n",
        "\n",
        "\n"
      ],
      "metadata": {
        "id": "9eZ6_pqXL4Ev"
      }
    },
    {
      "cell_type": "code",
      "execution_count": null,
      "metadata": {
        "id": "vJrvFkw4Lmsa"
      },
      "outputs": [],
      "source": [
        "import torch\n",
        "import torch.nn as nn"
      ]
    },
    {
      "cell_type": "markdown",
      "source": [
        "1. `__init__`\n",
        "- affine이 True면 선형 변환(스케일, 시프트)을 학습\n",
        "- _init_params(): 학습 가능한 weight, bias를 생성\n",
        "- subtract_last면 마지막 시점 값을 평균 대신 사용\n",
        "\n",
        "2. `forward`\n",
        "\n"
      ],
      "metadata": {
        "id": "aaOjliI2QIwI"
      }
    },
    {
      "cell_type": "code",
      "source": [
        "class RevIN(nn.Module):\n",
        "    def __init__(self, num_features: int, eps=1e-5, affine=True, subtract_last=False):\n",
        "        \"\"\"\n",
        "        :param num_features: the number of features or channels\n",
        "        :param eps: a value added for numerical stability\n",
        "        :param affine: if True, RevIN has learnable affine parameters\n",
        "        \"\"\"\n",
        "        super(RevIN, self).__init__()\n",
        "        self.num_features = num_features\n",
        "        self.eps = eps\n",
        "        self.affine = affine\n",
        "        self.subtract_last = subtract_last\n",
        "        if self.affine:\n",
        "            self._init_params()\n",
        "\n",
        "    def forward(self, x, mode:str):\n",
        "        if mode == 'norm':\n",
        "            self._get_statistics(x)\n",
        "            x = self._normalize(x)\n",
        "        elif mode == 'denorm':\n",
        "            x = self._denormalize(x)\n",
        "        else: raise NotImplementedError\n",
        "        return x\n",
        "\n",
        "    def _init_params(self):\n",
        "        # initialize RevIN params: (C,)\n",
        "        self.affine_weight = nn.Parameter(torch.ones(self.num_features))\n",
        "        self.affine_bias = nn.Parameter(torch.zeros(self.num_features))\n",
        "\n",
        "    def _get_statistics(self, x):\n",
        "        dim2reduce = tuple(range(1, x.ndim-1))\n",
        "        if self.subtract_last:\n",
        "            self.last = x[:,-1,:].unsqueeze(1)\n",
        "        else:\n",
        "            self.mean = torch.mean(x, dim=dim2reduce, keepdim=True).detach()\n",
        "        self.stdev = torch.sqrt(torch.var(x, dim=dim2reduce, keepdim=True, unbiased=False) + self.eps).detach()\n",
        "\n",
        "    def _normalize(self, x):\n",
        "        if self.subtract_last:\n",
        "            x = x - self.last\n",
        "        else:\n",
        "            x = x - self.mean\n",
        "        x = x / self.stdev\n",
        "        if self.affine:\n",
        "            x = x * self.affine_weight\n",
        "            x = x + self.affine_bias\n",
        "        return x\n",
        "\n",
        "    def _denormalize(self, x):\n",
        "        if self.affine:\n",
        "            x = x - self.affine_bias\n",
        "            x = x / (self.affine_weight + self.eps*self.eps)\n",
        "        x = x * self.stdev\n",
        "        if self.subtract_last:\n",
        "            x = x + self.last\n",
        "        else:\n",
        "            x = x + self.mean\n",
        "        return x"
      ],
      "metadata": {
        "id": "wICXr9hpLq_j"
      },
      "execution_count": null,
      "outputs": []
    }
  ]
}