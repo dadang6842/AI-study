{
  "nbformat": 4,
  "nbformat_minor": 0,
  "metadata": {
    "colab": {
      "provenance": [],
      "gpuType": "T4"
    },
    "kernelspec": {
      "name": "python3",
      "display_name": "Python 3"
    },
    "language_info": {
      "name": "python"
    },
    "accelerator": "GPU"
  },
  "cells": [
    {
      "cell_type": "markdown",
      "source": [
        "# Modern TCN\n",
        "\n",
        "### 폴더 구조\n",
        "```\n",
        "project_root(/content/drive/MyDrive/AI_data)\n",
        "├── UCI_HAR_MTCN_0919.ipynb\n",
        "├── layers/\n",
        "│   ├── __init__.py\n",
        "│   └── RevIN.py\n",
        "├── models/\n",
        "│   ├── __init__.py\n",
        "│   ├── ModernTCN_Layer.py\n",
        "│   └── ModernTCN.py\n",
        "└── data/\n",
        "    └── UCI HAR Dataset/\n",
        "        ├── train/\n",
        "        │   ├── Inertial Signals/\n",
        "        │   └── y_train.txt\n",
        "        └── test/\n",
        "            ├── Inertial Signals/\n",
        "            └── y_test.txt\n"
      ],
      "metadata": {
        "id": "5IYQNz1yksR6"
      }
    },
    {
      "cell_type": "code",
      "execution_count": 158,
      "metadata": {
        "id": "bKpn_J866g9D",
        "colab": {
          "base_uri": "https://localhost:8080/"
        },
        "outputId": "89ad1315-9aad-44a8-b93f-11abd07c32c5"
      },
      "outputs": [
        {
          "output_type": "stream",
          "name": "stdout",
          "text": [
            "Current working directory: /content/drive/MyDrive/AI_data\n",
            "Available files: ['WISDM_ar_v1.1_raw.txt', 'WIDSM.csv', 'MHEALTHDATASET', 'UCI_HAR_Dataset', 'PAMAP2', 'WISDM_HAR.csv', 'AI_class', 'layers', 'models', 'best_model.pth', 'UCI_HAR_MTCN_0919.ipynb']\n"
          ]
        }
      ],
      "source": [
        "import os\n",
        "os.chdir('/content/drive/MyDrive/AI_data')\n",
        "\n",
        "# Add current directory to Python path for imports\n",
        "import sys\n",
        "sys.path.append('/content/drive/MyDrive/AI_data')\n",
        "sys.path.append('/content/drive/MyDrive/AI_data/layers')\n",
        "sys.path.append('/content/drive/MyDrive/AI_data/models')\n",
        "\n",
        "print(\"Current working directory:\", os.getcwd())\n",
        "print(\"Available files:\", os.listdir('.'))"
      ]
    },
    {
      "cell_type": "code",
      "source": [
        "import torch\n",
        "import torch.nn as nn\n",
        "import torch.optim as optim\n",
        "from torch.utils.data import Dataset, DataLoader, random_split\n",
        "import numpy as np\n",
        "import pandas as pd\n",
        "from sklearn.metrics import classification_report, confusion_matrix, accuracy_score\n",
        "from sklearn.model_selection import train_test_split\n",
        "import matplotlib.pyplot as plt\n",
        "import seaborn as sns\n",
        "from tqdm import tqdm\n",
        "from models.ModernTCN import Model\n",
        "from layers.RevIN import RevIN\n",
        "from models.ModernTCN_Layer import moving_avg, series_decomp, Flatten_Head\n",
        "import warnings\n",
        "warnings.filterwarnings('ignore')"
      ],
      "metadata": {
        "id": "oQKFZqXceiur"
      },
      "execution_count": 159,
      "outputs": []
    },
    {
      "cell_type": "markdown",
      "source": [
        "### 잘 모르겠는 변수만 정리\n",
        "stem_ratio\n",
        "- VIT류 논문에서는 stem_ratio라는 걸 입력 채널 크기를 몇 배 늘릴지 정하는 데 사용\n",
        "- MTCN 구현에서는 stem layer가 고정 conv기 때문에 stem_ratio가 직접 쓰이지 않음\n",
        "\n",
        "dims vs. dw_dims\n",
        "- dims: stage별 채널 수\n",
        "- dw_dims: depthwise conv에서 쓸 채널 수\n",
        "- dw_dim는 주로 안 쓰이거나 dims와 동일하게 설정되는데, depthwise conv는 채널별 독립 연산이라 backbone의 채널 수와 맞춰야 shape 에러가 안 나기 때문\n",
        "\n",
        "pred_len\n",
        "- forecasting task에서 몇 시점 예측할 건지를 의미\n",
        "- e.g., seq_len=128을 입력으로 주면 pred_len=6 시점 미래를 예측\n",
        "- 하지만 이건 classificaiton task이므로 직접적으로 쓰이지 않음\n",
        "\n",
        "kernel_size vs large_size/small_size\n",
        "- large_size, small_size는 block에서 실제로 쓰이는 커널 크기\n",
        "- kernel_size는 default, large_size, small_size가 있기 때문에 사실상 필요 없음"
      ],
      "metadata": {
        "id": "LsuemJKtq0-p"
      }
    },
    {
      "cell_type": "code",
      "source": [
        "class Configs:\n",
        "    def __init__(self):\n",
        "        # Task settings\n",
        "        self.task_name = 'classification'\n",
        "        self.num_class = 6\n",
        "\n",
        "        # Model architecture\n",
        "        self.stem_ratio = 2 # stem layer에서 채널 크기 비율\n",
        "        self.downsample_ratio = 2 # stage 사이에서 길이를 줄이는 비율\n",
        "        self.ffn_ratio = 2 # FFN에서 hidden dimension 확장 비율\n",
        "        self.num_blocks = [1, 1]  # 2 stages with 1 block each\n",
        "        self.large_size = [25, 23] # stage마다 large kernel 크기\n",
        "        self.small_size = [3, 3] # stage마다 small kernel 크기\n",
        "        self.dims = [32, 64] # stage마다 channel 수 (=dmodel)\n",
        "        self.dw_dims = [32, 64]\n",
        "\n",
        "        # Input settings - UCI HAR 데이터셋에 맞춤\n",
        "        self.enc_in = 9 # 입력 변수 개수\n",
        "        self.seq_len = 128 # 시계열 길이(time steps)\n",
        "        self.pred_len = 6 # 예측할 길이 (사용 X)\n",
        "\n",
        "        # Patch settings\n",
        "        self.patch_size = 8 # stem layer에서 Conv1d kernel size (얼마나 잘라낼지)\n",
        "        self.patch_stride = 4 # 패치 간격 (4칸씩 겹쳐서 슬라이딩)\n",
        "        self.kernel_size = 15 # ReparamLargeKernelConv 같은 곳에서 사용하는 기본 커널 크기\n",
        "\n",
        "        # Training settings\n",
        "        self.dropout = 0.2 # backbone(block, stage) 내부 FFN 등에서 사용할 dropout 비율\n",
        "        self.head_dropout = 0.3 # head 부분 dropout 비율 (flatten -> linear projection -> 출력 dimension에 맞추는 부분)\n",
        "        self.class_dropout = 0.2 # classification head dropout 비율\n",
        "\n",
        "        # Other settings\n",
        "        self.small_kernel_merged = False # 학습 시 large+small kernel로 사용할지 여부\n",
        "        self.use_multi_scale = False  # multi-scale head를 쓸지 여부, false로 설정하면 downsample된 feature만 사용\n",
        "        self.revin = True # 입력 정규화 사용\n",
        "        self.affine = True # RevIN에서 학습 파라미터 포함\n",
        "        self.subtract_last = False # RevIN에서 마지막 시점 값을 빼서 정규화할지 여부\n",
        "        self.individual = False # Flatten_Head에서 변수를 독립적으로 처리할지 여부\n",
        "        self.decomposition = False # 입력 시계열을 trend+seasonal 분해할지 여부\n",
        "        self.freq = 'h' # 시계열 주기 단위 (hourly → 'h'), 주로 forecasting task에서 쓰는 정보, classification에선 큰 의미 없음"
      ],
      "metadata": {
        "id": "fZ50whtXgA6c"
      },
      "execution_count": 160,
      "outputs": []
    },
    {
      "cell_type": "code",
      "source": [
        "class EarlyStopping:\n",
        "    \"\"\"Early stopping utility class\"\"\"\n",
        "    def __init__(self, patience=10, min_delta=0.001, restore_best_weights=True, verbose=True):\n",
        "        self.patience = patience\n",
        "        self.min_delta = min_delta\n",
        "        self.restore_best_weights = restore_best_weights\n",
        "        self.verbose = verbose\n",
        "        self.best_score = None\n",
        "        self.counter = 0\n",
        "        self.best_weights = None\n",
        "\n",
        "    def __call__(self, val_score, model):\n",
        "        score = val_score\n",
        "\n",
        "        if self.best_score is None:\n",
        "            self.best_score = score\n",
        "            self.save_checkpoint(model)\n",
        "        elif score < self.best_score + self.min_delta:\n",
        "            self.counter += 1\n",
        "            if self.verbose:\n",
        "                print(f'EarlyStopping counter: {self.counter} out of {self.patience}')\n",
        "            if self.counter >= self.patience:\n",
        "                if self.restore_best_weights and self.best_weights is not None:\n",
        "                    model.load_state_dict(self.best_weights)\n",
        "                return True\n",
        "        else:\n",
        "            self.best_score = score\n",
        "            self.save_checkpoint(model)\n",
        "            self.counter = 0\n",
        "\n",
        "        return False\n",
        "\n",
        "    def save_checkpoint(self, model):\n",
        "        \"\"\"Save model when validation score improves\"\"\"\n",
        "        if self.restore_best_weights:\n",
        "            self.best_weights = model.state_dict().copy()\n",
        "        torch.save(model.state_dict(), 'best_model.pth')"
      ],
      "metadata": {
        "id": "dmredsVwl4Sa"
      },
      "execution_count": 161,
      "outputs": []
    },
    {
      "cell_type": "code",
      "source": [
        "def print_model_summary(model, input_shape=(64, 128, 9)):\n",
        "    \"\"\"Print detailed model architecture summary\"\"\"\n",
        "    print(\"=\" * 80)\n",
        "    print(\"MODEL ARCHITECTURE SUMMARY\")\n",
        "    print(\"=\" * 80)\n",
        "\n",
        "    # Print basic model info\n",
        "    total_params = sum(p.numel() for p in model.parameters())\n",
        "    trainable_params = sum(p.numel() for p in model.parameters() if p.requires_grad)\n",
        "\n",
        "    print(f\"Model Type: ModernTCN for Classification\")\n",
        "    print(f\"Input Shape: {input_shape}\")\n",
        "    print(f\"Total Parameters: {total_params:,}\")\n",
        "    print(f\"Trainable Parameters: {trainable_params:,}\")\n",
        "    print(f\"Non-trainable Parameters: {total_params - trainable_params:,}\")\n",
        "    print(\"-\" * 80)\n",
        "\n",
        "    # Print layer-wise information\n",
        "    def get_layer_info(module, name=\"\", level=0):\n",
        "        indent = \"  \" * level\n",
        "        children = list(module.named_children())\n",
        "\n",
        "        if len(children) == 0:  # Leaf module\n",
        "            params = sum(p.numel() for p in module.parameters())\n",
        "            if params > 0:\n",
        "                param_str = f\"({params:,} params)\"\n",
        "                print(f\"{indent}{name}: {module.__class__.__name__} {param_str}\")\n",
        "        else:\n",
        "            if level == 0:\n",
        "                print(f\"{indent}{module.__class__.__name__}\")\n",
        "            else:\n",
        "                print(f\"{indent}{name}: {module.__class__.__name__}\")\n",
        "\n",
        "            for child_name, child_module in children:\n",
        "                get_layer_info(child_module, child_name, level + 1)\n",
        "\n",
        "    get_layer_info(model)\n",
        "\n",
        "    # Print configuration summary\n",
        "    if hasattr(model, 'model') and hasattr(model.model, 'num_stage'):\n",
        "        print(\"-\" * 80)\n",
        "        print(\"ARCHITECTURE DETAILS:\")\n",
        "        print(f\"Number of Stages: {model.model.num_stage}\")\n",
        "        print(f\"Patch Size: {model.model.patch_size}\")\n",
        "        print(f\"Patch Stride: {model.model.patch_stride}\")\n",
        "\n",
        "        if hasattr(model.model, 'stages'):\n",
        "            for i, stage in enumerate(model.model.stages):\n",
        "                print(f\"Stage {i+1}: {len(stage.blocks)} blocks\")\n",
        "\n",
        "    print(\"=\" * 80)"
      ],
      "metadata": {
        "id": "_-OsQi27l5PO"
      },
      "execution_count": 162,
      "outputs": []
    },
    {
      "cell_type": "code",
      "source": [
        "class UCIHARDataset(Dataset):\n",
        "    def __init__(self, data_path, split='train'):\n",
        "        self.data_path = data_path\n",
        "        self.split = split\n",
        "\n",
        "        # Activity labels mapping\n",
        "        self.activity_labels = {\n",
        "            1: 'WALKING',\n",
        "            2: 'WALKING_UPSTAIRS',\n",
        "            3: 'WALKING_DOWNSTAIRS',\n",
        "            4: 'SITTING',\n",
        "            5: 'STANDING',\n",
        "            6: 'LAYING'\n",
        "        }\n",
        "\n",
        "        self.data, self.labels = self._load_data()\n",
        "\n",
        "    def _load_data(self):\n",
        "        \"\"\"Load UCI-HAR dataset\"\"\"\n",
        "        if self.split == 'train':\n",
        "            data_dir = os.path.join(self.data_path, 'train')\n",
        "        else:\n",
        "            data_dir = os.path.join(self.data_path, 'test')\n",
        "\n",
        "        # Load Inertial Signals\n",
        "        signals = []\n",
        "        signal_files = [\n",
        "            'body_acc_x', 'body_acc_y', 'body_acc_z',\n",
        "            'body_gyro_x', 'body_gyro_y', 'body_gyro_z',\n",
        "            'total_acc_x', 'total_acc_y', 'total_acc_z'\n",
        "        ]\n",
        "\n",
        "        inertial_signals_path = os.path.join(data_dir, 'Inertial Signals')\n",
        "\n",
        "        for signal_file in signal_files:\n",
        "            file_path = os.path.join(inertial_signals_path, f'{signal_file}_{self.split}.txt')\n",
        "            if os.path.exists(file_path):\n",
        "                signal_data = np.loadtxt(file_path) # 데이터를 numpy.ndarray 형태로 변환\n",
        "                signals.append(signal_data)\n",
        "            else:\n",
        "                print(f\"File not found: {file_path}\")\n",
        "\n",
        "        if signals:\n",
        "            # Stack signals: (n_samples, n_timesteps, n_features)\n",
        "            data = np.stack(signals, axis=2)\n",
        "            print(f\"Final data shape: {data.shape}\")\n",
        "        else:\n",
        "            raise FileNotFoundError(\"No signal files found. Please check data path.\")\n",
        "\n",
        "        # Load labels\n",
        "        label_file = os.path.join(data_dir, f'y_{self.split}.txt')\n",
        "        if os.path.exists(label_file):\n",
        "            labels = np.loadtxt(label_file) - 1  # Convert to 0-based indexing\n",
        "        else:\n",
        "            raise FileNotFoundError(f\"Label file not found: {label_file}\")\n",
        "\n",
        "        return data.astype(np.float32), labels.astype(np.int64)\n",
        "\n",
        "    def __len__(self):\n",
        "        return len(self.data)\n",
        "\n",
        "    def __getitem__(self, idx):\n",
        "        sample = torch.FloatTensor(self.data[idx])  # (128, 9)\n",
        "        label = torch.LongTensor([self.labels[idx]])[0]  # Single label\n",
        "        return sample, label"
      ],
      "metadata": {
        "id": "FsK1z7C-eyc1"
      },
      "execution_count": 163,
      "outputs": []
    },
    {
      "cell_type": "code",
      "source": [
        "def create_data_loaders(data_path, batch_size=64, val_ratio=0.2, random_seed=42):\n",
        "    \"\"\"Create train, validation, and test data loaders\"\"\"\n",
        "\n",
        "    # Create full datasets\n",
        "    full_train_dataset = UCIHARDataset(data_path, split='train')\n",
        "    test_dataset = UCIHARDataset(data_path, split='test')\n",
        "\n",
        "    print(f\"Original train samples: {len(full_train_dataset)}\")\n",
        "    print(f\"Test samples: {len(test_dataset)}\")\n",
        "    print(f\"Data shape: {full_train_dataset[0][0].shape}\")\n",
        "\n",
        "    # Extract data and labels for stratified split\n",
        "    train_data = full_train_dataset.data\n",
        "    train_labels = full_train_dataset.labels\n",
        "\n",
        "    print(f\"Label distribution in original train set:\")\n",
        "    unique, counts = np.unique(train_labels, return_counts=True)\n",
        "    for label, count in zip(unique, counts):\n",
        "        activity_name = list(full_train_dataset.activity_labels.values())[int(label)]\n",
        "        print(f\"  {activity_name}: {count} samples ({count/len(train_labels)*100:.1f}%)\")\n",
        "\n",
        "    # Stratified split to maintain class balance\n",
        "    train_indices, val_indices = train_test_split(\n",
        "        range(len(train_labels)),\n",
        "        test_size=val_ratio,\n",
        "        stratify=train_labels,\n",
        "        random_state=random_seed\n",
        "    )\n",
        "\n",
        "    print(f\"\\nAfter split:\")\n",
        "    print(f\"Train samples: {len(train_indices)} ({100-val_ratio*100:.0f}%)\")\n",
        "    print(f\"Validation samples: {len(val_indices)} ({val_ratio*100:.0f}%)\")\n",
        "\n",
        "    # Create subset datasets\n",
        "    train_subset = torch.utils.data.Subset(full_train_dataset, train_indices)\n",
        "    val_subset = torch.utils.data.Subset(full_train_dataset, val_indices)\n",
        "\n",
        "    # Verify label distribution in validation set\n",
        "    val_labels = [full_train_dataset.labels[i] for i in val_indices]\n",
        "    print(f\"\\nValidation set label distribution:\")\n",
        "    unique, counts = np.unique(val_labels, return_counts=True)\n",
        "    for label, count in zip(unique, counts):\n",
        "        activity_name = list(full_train_dataset.activity_labels.values())[int(label)]\n",
        "        print(f\"  {activity_name}: {count} samples ({count/len(val_labels)*100:.1f}%)\")\n",
        "\n",
        "    # Create data loaders\n",
        "    train_loader = DataLoader(\n",
        "        train_subset,\n",
        "        batch_size=batch_size,\n",
        "        shuffle=True,\n",
        "        drop_last=True\n",
        "    )\n",
        "\n",
        "    val_loader = DataLoader(\n",
        "        val_subset,\n",
        "        batch_size=batch_size,\n",
        "        shuffle=False,\n",
        "        drop_last=False\n",
        "    )\n",
        "\n",
        "    test_loader = DataLoader(\n",
        "        test_dataset,\n",
        "        batch_size=batch_size,\n",
        "        shuffle=False,\n",
        "        drop_last=False\n",
        "    )\n",
        "\n",
        "    return train_loader, val_loader, test_loader"
      ],
      "metadata": {
        "id": "c3qoUXzRfARJ"
      },
      "execution_count": 164,
      "outputs": []
    },
    {
      "cell_type": "code",
      "source": [
        "def evaluate_model_with_loss(model, data_loader, device='cuda'):\n",
        "    \"\"\"Evaluate model performance with both accuracy and loss\"\"\"\n",
        "    model.eval()\n",
        "    correct = 0\n",
        "    total = 0\n",
        "    running_loss = 0.0\n",
        "    criterion = nn.CrossEntropyLoss()\n",
        "\n",
        "    with torch.no_grad():\n",
        "        for data, target in data_loader:\n",
        "            data, target = data.to(device), target.to(device)\n",
        "\n",
        "            # Create dummy inputs for compatibility\n",
        "            x_mark_enc = torch.zeros(data.shape[0], data.shape[1], 1).to(device)\n",
        "            x_dec = torch.zeros(data.shape[0], 1, data.shape[2]).to(device)\n",
        "            x_mark_dec = torch.zeros(data.shape[0], 1, 1).to(device)\n",
        "\n",
        "            output = model(data, x_mark_enc, x_dec, x_mark_dec)\n",
        "            loss = criterion(output, target)\n",
        "\n",
        "            running_loss += loss.item()\n",
        "            _, predicted = torch.max(output.data, 1)\n",
        "            total += target.size(0)\n",
        "            correct += (predicted == target).sum().item()\n",
        "\n",
        "    accuracy = 100. * correct / total\n",
        "    avg_loss = running_loss / len(data_loader)\n",
        "    return accuracy, avg_loss"
      ],
      "metadata": {
        "id": "A98pTbAR4RxC"
      },
      "execution_count": 165,
      "outputs": []
    },
    {
      "cell_type": "code",
      "source": [
        "def train_model(model, train_loader, val_loader, epochs=100, lr=1e-3, device='cuda',\n",
        "                               patience=10, min_delta=0.001):\n",
        "    \"\"\"Train the ModernTCN model\"\"\"\n",
        "\n",
        "    criterion = nn.CrossEntropyLoss()\n",
        "    optimizer = optim.AdamW(model.parameters(), lr=lr, weight_decay=1e-4)\n",
        "    scheduler = optim.lr_scheduler.CosineAnnealingLR(optimizer, T_max=epochs)\n",
        "\n",
        "    # Initialize early stopping (based on validation accuracy)\n",
        "    early_stopping = EarlyStopping(\n",
        "        patience=patience,\n",
        "        min_delta=min_delta,\n",
        "        restore_best_weights=True,\n",
        "        verbose=True\n",
        "    )\n",
        "\n",
        "    best_val_acc = 0.0\n",
        "    train_losses = []\n",
        "    train_accs = []\n",
        "    val_losses = []\n",
        "    val_accs = []\n",
        "\n",
        "    model.to(device)\n",
        "\n",
        "    print(f\"Training with Validation and Early Stopping (patience={patience}, min_delta={min_delta})\")\n",
        "    print(\"-\" * 80)\n",
        "\n",
        "    for epoch in range(epochs):\n",
        "        # Training phase\n",
        "        model.train()\n",
        "        running_loss = 0.0\n",
        "        correct_train = 0\n",
        "        total_train = 0\n",
        "\n",
        "        train_bar = tqdm(train_loader, desc=f'Epoch {epoch+1}/{epochs}')\n",
        "        for batch_idx, (data, target) in enumerate(train_bar):\n",
        "            data, target = data.to(device), target.to(device)\n",
        "\n",
        "            optimizer.zero_grad()\n",
        "\n",
        "            # Forward pass\n",
        "            x_mark_enc = torch.zeros(data.shape[0], data.shape[1], 1).to(device)\n",
        "            x_dec = torch.zeros(data.shape[0], 1, data.shape[2]).to(device)\n",
        "            x_mark_dec = torch.zeros(data.shape[0], 1, 1).to(device)\n",
        "\n",
        "            output = model(data, x_mark_enc, x_dec, x_mark_dec)\n",
        "            loss = criterion(output, target)\n",
        "\n",
        "            loss.backward()\n",
        "            optimizer.step()\n",
        "\n",
        "            running_loss += loss.item()\n",
        "            _, predicted = torch.max(output.data, 1)\n",
        "            total_train += target.size(0)\n",
        "            correct_train += (predicted == target).sum().item()\n",
        "\n",
        "            if batch_idx % 20 == 0:\n",
        "                train_bar.set_postfix({\n",
        "                    'Loss': f'{loss.item():.4f}',\n",
        "                    'Acc': f'{100.*correct_train/total_train:.2f}%'\n",
        "                })\n",
        "\n",
        "        train_loss = running_loss / len(train_loader)\n",
        "        train_acc = 100. * correct_train / total_train\n",
        "        train_losses.append(train_loss)\n",
        "        train_accs.append(train_acc)\n",
        "\n",
        "        # Validation phase\n",
        "        val_acc, val_loss = evaluate_model_with_loss(model, val_loader)\n",
        "        val_losses.append(val_loss)\n",
        "        val_accs.append(val_acc)\n",
        "\n",
        "        scheduler.step()\n",
        "\n",
        "        # Update best accuracies\n",
        "        if val_acc > best_val_acc:\n",
        "            best_val_acc = val_acc\n",
        "\n",
        "        print(f'Epoch {epoch+1:3d}: Train Loss: {train_loss:.4f} | Train Acc: {train_acc:5.2f}% | Val Loss: {val_loss:.4f} | Val Acc: {val_acc:5.2f}%')\n",
        "\n",
        "        # Early stopping check (based on validation accuracy)\n",
        "        if early_stopping(val_acc, model):\n",
        "            print(f\"Early stopping triggered after {epoch+1} epochs!\")\n",
        "            print(f\"Best validation accuracy: {best_val_acc:.2f}%\")\n",
        "            break\n",
        "\n",
        "    return train_losses, train_accs, val_losses, val_accs, best_val_acc"
      ],
      "metadata": {
        "id": "rQGjd4G-fDws"
      },
      "execution_count": 174,
      "outputs": []
    },
    {
      "cell_type": "code",
      "source": [
        "def detailed_evaluation(model, test_loader, device='cuda'):\n",
        "    \"\"\"Detailed evaluation with classification report and confusion matrix\"\"\"\n",
        "    model.eval()\n",
        "    all_preds = []\n",
        "    all_targets = []\n",
        "\n",
        "    activity_labels = ['WALKING', 'WALKING_UPSTAIRS', 'WALKING_DOWNSTAIRS',\n",
        "                      'SITTING', 'STANDING', 'LAYING']\n",
        "\n",
        "    with torch.no_grad():\n",
        "        for data, target in test_loader:\n",
        "            data, target = data.to(device), target.to(device)\n",
        "\n",
        "            # forward의 인자 개수를 맞추기 위한 dummy data\n",
        "            x_mark_enc = torch.zeros(data.shape[0], data.shape[1], 1).to(device)\n",
        "            x_dec = torch.zeros(data.shape[0], 1, data.shape[2]).to(device)\n",
        "            x_mark_dec = torch.zeros(data.shape[0], 1, 1).to(device)\n",
        "\n",
        "            output = model(data, x_mark_enc, x_dec, x_mark_dec)\n",
        "            _, predicted = torch.max(output.data, 1)\n",
        "\n",
        "            all_preds.extend(predicted.cpu().numpy())\n",
        "            all_targets.extend(target.cpu().numpy())\n",
        "\n",
        "    # Calculate metrics\n",
        "    accuracy = accuracy_score(all_targets, all_preds)\n",
        "    report = classification_report(all_targets, all_preds, target_names=activity_labels, digits=4)\n",
        "    cm = confusion_matrix(all_targets, all_preds)\n",
        "\n",
        "    print(f\"\\nClassification Report:\\n{report}\")\n",
        "\n",
        "    # Plot confusion matrix\n",
        "    plt.figure(figsize=(10, 8))\n",
        "    sns.heatmap(cm, annot=True, fmt='d', cmap='Blues',\n",
        "                xticklabels=activity_labels, yticklabels=activity_labels)\n",
        "    plt.title('Confusion Matrix')\n",
        "    plt.ylabel('True Label')\n",
        "    plt.xlabel('Predicted Label')\n",
        "    plt.tight_layout()\n",
        "    plt.show()\n",
        "\n",
        "    return accuracy, report, cm"
      ],
      "metadata": {
        "id": "YD-fWs8lfICj"
      },
      "execution_count": 182,
      "outputs": []
    },
    {
      "cell_type": "code",
      "source": [
        "def plot_training_curves(train_losses, train_accs, val_losses, val_accs):\n",
        "    \"\"\"Plot training curves including validation\"\"\"\n",
        "    epochs = range(1, len(train_losses) + 1)\n",
        "\n",
        "    fig, (ax1, ax2) = plt.subplots(1, 2, figsize=(15, 6))\n",
        "\n",
        "    # Plot losses comparison\n",
        "    ax1.plot(epochs, train_losses, 'b-', label='Training Loss', linewidth=2)\n",
        "    ax1.plot(epochs, val_losses, 'r-', label='Validation Loss', linewidth=2)\n",
        "    ax1.set_title('Training vs Validation Loss')\n",
        "    ax1.set_xlabel('Epoch')\n",
        "    ax1.set_ylabel('Loss')\n",
        "    ax1.legend()\n",
        "    ax1.grid(True, alpha=0.3)\n",
        "\n",
        "    # Plot accuracies comparison\n",
        "    ax2.plot(epochs, train_accs, 'b-', label='Training Accuracy', linewidth=2)\n",
        "    ax2.plot(epochs, val_accs, 'r-', label='Validation Accuracy', linewidth=2)\n",
        "    ax2.set_title('Training vs Validation Accuracy')\n",
        "    ax2.set_xlabel('Epoch')\n",
        "    ax2.set_ylabel('Accuracy (%)')\n",
        "    ax2.legend()\n",
        "    ax2.grid(True, alpha=0.3)\n",
        "\n",
        "    plt.tight_layout()\n",
        "    plt.show()"
      ],
      "metadata": {
        "id": "FbCdwQxJfKqO"
      },
      "execution_count": 169,
      "outputs": []
    },
    {
      "cell_type": "code",
      "source": [
        "# Set device\n",
        "device = torch.device('cuda' if torch.cuda.is_available() else 'cpu')\n",
        "print(f\"Using device: {device}\")\n",
        "\n",
        "# Parameters\n",
        "BATCH_SIZE = 64\n",
        "EPOCHS = 50\n",
        "LEARNING_RATE = 1e-3\n",
        "VAL_RATIO = 0.2  # 20% of train data for validation\n",
        "PATIENCE = 15    # Increased patience for validation-based early stopping\n",
        "MIN_DELTA = 0.001\n",
        "RANDOM_SEED = 42\n",
        "DATA_PATH = './UCI_HAR_Dataset/UCI HAR Dataset'\n",
        "\n",
        "# Create data loaders\n",
        "print(\"Loading data...\")\n",
        "try:\n",
        "    train_loader, val_loader, test_loader = create_data_loaders(\n",
        "        DATA_PATH, BATCH_SIZE, VAL_RATIO, RANDOM_SEED\n",
        "    )\n",
        "    print(\"Data loaded successfully!\")\n",
        "except Exception as e:\n",
        "    print(f\"Error loading data: {e}\")\n",
        "    raise"
      ],
      "metadata": {
        "colab": {
          "base_uri": "https://localhost:8080/"
        },
        "id": "2GQX_afEfMy3",
        "outputId": "60585e25-3a48-40dc-988b-c741777a55c8"
      },
      "execution_count": 171,
      "outputs": [
        {
          "output_type": "stream",
          "name": "stdout",
          "text": [
            "Using device: cuda\n",
            "Loading data...\n",
            "Final data shape: (7352, 128, 9)\n",
            "Final data shape: (2947, 128, 9)\n",
            "Original train samples: 7352\n",
            "Test samples: 2947\n",
            "Data shape: torch.Size([128, 9])\n",
            "Label distribution in original train set:\n",
            "  WALKING: 1226 samples (16.7%)\n",
            "  WALKING_UPSTAIRS: 1073 samples (14.6%)\n",
            "  WALKING_DOWNSTAIRS: 986 samples (13.4%)\n",
            "  SITTING: 1286 samples (17.5%)\n",
            "  STANDING: 1374 samples (18.7%)\n",
            "  LAYING: 1407 samples (19.1%)\n",
            "\n",
            "After split:\n",
            "Train samples: 5881 (80%)\n",
            "Validation samples: 1471 (20%)\n",
            "\n",
            "Validation set label distribution:\n",
            "  WALKING: 245 samples (16.7%)\n",
            "  WALKING_UPSTAIRS: 215 samples (14.6%)\n",
            "  WALKING_DOWNSTAIRS: 197 samples (13.4%)\n",
            "  SITTING: 257 samples (17.5%)\n",
            "  STANDING: 275 samples (18.7%)\n",
            "  LAYING: 282 samples (19.2%)\n",
            "Data loaded successfully!\n"
          ]
        }
      ]
    },
    {
      "cell_type": "code",
      "source": [
        "print(\"STEP 2: Creating model...\")\n",
        "try:\n",
        "    configs = Configs()\n",
        "    model = Model(configs)\n",
        "    model.to(device)\n",
        "\n",
        "    print(f\"Model created successfully!\")\n",
        "    print_model_summary(model, input_shape=(BATCH_SIZE, 128, 9))\n",
        "\n",
        "    # Test model dimensions\n",
        "    sample_batch = next(iter(train_loader))\n",
        "    sample_data = sample_batch[0].to(device)\n",
        "\n",
        "    print(f\"Input shape: {sample_data.shape}\")\n",
        "\n",
        "    with torch.no_grad():\n",
        "        x_mark_enc = torch.zeros(sample_data.shape[0], sample_data.shape[1], 1).to(device)\n",
        "        x_dec = torch.zeros(sample_data.shape[0], 1, sample_data.shape[2]).to(device)\n",
        "        x_mark_dec = torch.zeros(sample_data.shape[0], 1, 1).to(device)\n",
        "\n",
        "        output = model(sample_data, x_mark_enc, x_dec, x_mark_dec)\n",
        "        print(f\"Output shape: {output.shape}\")\n",
        "\n",
        "        if output.shape[1] == 6:\n",
        "            print(\"Model dimensions are correct!\")\n",
        "        else:\n",
        "            print(f\"Dimension mismatch: expected 6, got {output.shape[1]}\")\n",
        "\n",
        "except Exception as e:\n",
        "    print(f\"Error creating model: {e}\")\n",
        "    import traceback # 에러 발생 시 발생 지점과 호출 스택을 출력\n",
        "    traceback.print_exc()\n",
        "    raise\n"
      ],
      "metadata": {
        "colab": {
          "base_uri": "https://localhost:8080/"
        },
        "id": "iN-eI66RfRmk",
        "outputId": "c2fb82f7-7e82-4e61-a364-8c6b0e864b4b"
      },
      "execution_count": 172,
      "outputs": [
        {
          "output_type": "stream",
          "name": "stdout",
          "text": [
            "STEP 2: Creating model...\n",
            "Model created successfully!\n",
            "================================================================================\n",
            "MODEL ARCHITECTURE SUMMARY\n",
            "================================================================================\n",
            "Model Type: ModernTCN for Classification\n",
            "Input Shape: (64, 128, 9)\n",
            "Total Parameters: 313,342\n",
            "Trainable Parameters: 313,342\n",
            "Non-trainable Parameters: 0\n",
            "--------------------------------------------------------------------------------\n",
            "Model\n",
            "  model: ModernTCN\n",
            "    revin_layer: RevIN (18 params)\n",
            "    downsample_layers: ModuleList\n",
            "      0: Sequential\n",
            "        0: Conv1d (288 params)\n",
            "        1: BatchNorm1d (64 params)\n",
            "      1: Sequential\n",
            "        0: BatchNorm1d (64 params)\n",
            "        1: Conv1d (4,160 params)\n",
            "    stages: ModuleList\n",
            "      0: Stage\n",
            "        blocks: ModuleList\n",
            "          0: Block\n",
            "            dw: ReparamLargeKernelConv\n",
            "              lkb_origin: Sequential\n",
            "                conv: Conv1d (7,200 params)\n",
            "                bn: BatchNorm1d (576 params)\n",
            "              small_conv: Sequential\n",
            "                conv: Conv1d (864 params)\n",
            "                bn: BatchNorm1d (576 params)\n",
            "            norm: BatchNorm1d (64 params)\n",
            "            ffn1pw1: Conv1d (19,008 params)\n",
            "            ffn1pw2: Conv1d (18,720 params)\n",
            "            ffn2pw1: Conv1d (5,760 params)\n",
            "            ffn2pw2: Conv1d (5,472 params)\n",
            "      1: Stage\n",
            "        blocks: ModuleList\n",
            "          0: Block\n",
            "            dw: ReparamLargeKernelConv\n",
            "              lkb_origin: Sequential\n",
            "                conv: Conv1d (13,248 params)\n",
            "                bn: BatchNorm1d (1,152 params)\n",
            "              small_conv: Sequential\n",
            "                conv: Conv1d (1,728 params)\n",
            "                bn: BatchNorm1d (1,152 params)\n",
            "            norm: BatchNorm1d (128 params)\n",
            "            ffn1pw1: Conv1d (74,880 params)\n",
            "            ffn1pw2: Conv1d (74,304 params)\n",
            "            ffn2pw1: Conv1d (11,520 params)\n",
            "            ffn2pw2: Conv1d (10,944 params)\n",
            "    head: Flatten_Head\n",
            "      linear: Linear (6,150 params)\n",
            "    head_class: Linear (55,302 params)\n",
            "--------------------------------------------------------------------------------\n",
            "ARCHITECTURE DETAILS:\n",
            "Number of Stages: 2\n",
            "Patch Size: 8\n",
            "Patch Stride: 4\n",
            "Stage 1: 1 blocks\n",
            "Stage 2: 1 blocks\n",
            "================================================================================\n",
            "Input shape: torch.Size([64, 128, 9])\n",
            "Output shape: torch.Size([64, 6])\n",
            "Model dimensions are correct!\n"
          ]
        }
      ]
    },
    {
      "cell_type": "code",
      "source": [
        "print(\"STEP 3: Training model...\")\n",
        "try:\n",
        "    train_losses, train_accs, val_losses, val_accs, best_val_acc = train_model(\n",
        "        model, train_loader, val_loader,\n",
        "        epochs=EPOCHS, lr=LEARNING_RATE, device=device,\n",
        "        patience=PATIENCE, min_delta=MIN_DELTA\n",
        "    )\n",
        "    print(f\"Training completed!\")\n",
        "    print(f\"Best validation accuracy: {best_val_acc:.4f}%\")\n",
        "except Exception as e:\n",
        "    print(f\"Error during training: {e}\")\n",
        "    import traceback\n",
        "    traceback.print_exc()\n",
        "    raise"
      ],
      "metadata": {
        "colab": {
          "base_uri": "https://localhost:8080/"
        },
        "id": "g7Qhk5dFfTdx",
        "outputId": "203e4ada-59f6-4dab-c0a2-d19ce43d623d"
      },
      "execution_count": 175,
      "outputs": [
        {
          "output_type": "stream",
          "name": "stdout",
          "text": [
            "STEP 3: Training model...\n",
            "Training with Validation and Early Stopping (patience=15, min_delta=0.001)\n",
            "--------------------------------------------------------------------------------\n"
          ]
        },
        {
          "output_type": "stream",
          "name": "stderr",
          "text": [
            "Epoch 1/50: 100%|██████████| 91/91 [00:01<00:00, 45.96it/s, Loss=0.0738, Acc=83.01%]\n"
          ]
        },
        {
          "output_type": "stream",
          "name": "stdout",
          "text": [
            "Epoch   1: Train Loss: 0.3984 | Train Acc: 84.12% | Val Loss: 0.1515 | Val Acc: 95.17%\n"
          ]
        },
        {
          "output_type": "stream",
          "name": "stderr",
          "text": [
            "Epoch 2/50: 100%|██████████| 91/91 [00:01<00:00, 46.98it/s, Loss=0.1836, Acc=94.39%]\n"
          ]
        },
        {
          "output_type": "stream",
          "name": "stdout",
          "text": [
            "Epoch   2: Train Loss: 0.1382 | Train Acc: 94.42% | Val Loss: 0.1150 | Val Acc: 95.58%\n"
          ]
        },
        {
          "output_type": "stream",
          "name": "stderr",
          "text": [
            "Epoch 3/50: 100%|██████████| 91/91 [00:01<00:00, 46.85it/s, Loss=0.1595, Acc=95.04%]\n"
          ]
        },
        {
          "output_type": "stream",
          "name": "stdout",
          "text": [
            "Epoch   3: Train Loss: 0.1151 | Train Acc: 95.11% | Val Loss: 0.1137 | Val Acc: 96.06%\n"
          ]
        },
        {
          "output_type": "stream",
          "name": "stderr",
          "text": [
            "Epoch 4/50: 100%|██████████| 91/91 [00:01<00:00, 47.05it/s, Loss=0.2350, Acc=94.95%]\n"
          ]
        },
        {
          "output_type": "stream",
          "name": "stdout",
          "text": [
            "Epoch   4: Train Loss: 0.1155 | Train Acc: 95.11% | Val Loss: 0.1096 | Val Acc: 94.90%\n",
            "EarlyStopping counter: 1 out of 15\n"
          ]
        },
        {
          "output_type": "stream",
          "name": "stderr",
          "text": [
            "Epoch 5/50: 100%|██████████| 91/91 [00:01<00:00, 45.83it/s, Loss=0.1539, Acc=95.27%]\n"
          ]
        },
        {
          "output_type": "stream",
          "name": "stdout",
          "text": [
            "Epoch   5: Train Loss: 0.1111 | Train Acc: 95.21% | Val Loss: 0.1070 | Val Acc: 94.77%\n",
            "EarlyStopping counter: 2 out of 15\n"
          ]
        },
        {
          "output_type": "stream",
          "name": "stderr",
          "text": [
            "Epoch 6/50: 100%|██████████| 91/91 [00:02<00:00, 43.11it/s, Loss=0.0902, Acc=95.39%]\n"
          ]
        },
        {
          "output_type": "stream",
          "name": "stdout",
          "text": [
            "Epoch   6: Train Loss: 0.1117 | Train Acc: 95.36% | Val Loss: 0.1013 | Val Acc: 96.19%\n"
          ]
        },
        {
          "output_type": "stream",
          "name": "stderr",
          "text": [
            "Epoch 7/50: 100%|██████████| 91/91 [00:01<00:00, 46.11it/s, Loss=0.0721, Acc=95.62%]\n"
          ]
        },
        {
          "output_type": "stream",
          "name": "stdout",
          "text": [
            "Epoch   7: Train Loss: 0.1025 | Train Acc: 95.62% | Val Loss: 0.1138 | Val Acc: 95.31%\n",
            "EarlyStopping counter: 1 out of 15\n"
          ]
        },
        {
          "output_type": "stream",
          "name": "stderr",
          "text": [
            "Epoch 8/50: 100%|██████████| 91/91 [00:01<00:00, 47.00it/s, Loss=0.1169, Acc=95.91%]\n"
          ]
        },
        {
          "output_type": "stream",
          "name": "stdout",
          "text": [
            "Epoch   8: Train Loss: 0.0984 | Train Acc: 95.84% | Val Loss: 0.1026 | Val Acc: 94.63%\n",
            "EarlyStopping counter: 2 out of 15\n"
          ]
        },
        {
          "output_type": "stream",
          "name": "stderr",
          "text": [
            "Epoch 9/50: 100%|██████████| 91/91 [00:01<00:00, 46.96it/s, Loss=0.0656, Acc=95.45%]\n"
          ]
        },
        {
          "output_type": "stream",
          "name": "stdout",
          "text": [
            "Epoch   9: Train Loss: 0.1034 | Train Acc: 95.52% | Val Loss: 0.1064 | Val Acc: 95.31%\n",
            "EarlyStopping counter: 3 out of 15\n"
          ]
        },
        {
          "output_type": "stream",
          "name": "stderr",
          "text": [
            "Epoch 10/50: 100%|██████████| 91/91 [00:01<00:00, 46.91it/s, Loss=0.0972, Acc=95.52%]\n"
          ]
        },
        {
          "output_type": "stream",
          "name": "stdout",
          "text": [
            "Epoch  10: Train Loss: 0.1023 | Train Acc: 95.55% | Val Loss: 0.1543 | Val Acc: 92.59%\n",
            "EarlyStopping counter: 4 out of 15\n"
          ]
        },
        {
          "output_type": "stream",
          "name": "stderr",
          "text": [
            "Epoch 11/50: 100%|██████████| 91/91 [00:01<00:00, 46.74it/s, Loss=0.0891, Acc=96.12%]\n"
          ]
        },
        {
          "output_type": "stream",
          "name": "stdout",
          "text": [
            "Epoch  11: Train Loss: 0.0996 | Train Acc: 95.98% | Val Loss: 0.0959 | Val Acc: 95.72%\n",
            "EarlyStopping counter: 5 out of 15\n"
          ]
        },
        {
          "output_type": "stream",
          "name": "stderr",
          "text": [
            "Epoch 12/50: 100%|██████████| 91/91 [00:02<00:00, 42.42it/s, Loss=0.1176, Acc=95.87%]\n"
          ]
        },
        {
          "output_type": "stream",
          "name": "stdout",
          "text": [
            "Epoch  12: Train Loss: 0.0965 | Train Acc: 95.79% | Val Loss: 0.1096 | Val Acc: 94.36%\n",
            "EarlyStopping counter: 6 out of 15\n"
          ]
        },
        {
          "output_type": "stream",
          "name": "stderr",
          "text": [
            "Epoch 13/50: 100%|██████████| 91/91 [00:02<00:00, 44.07it/s, Loss=0.0719, Acc=96.12%]\n"
          ]
        },
        {
          "output_type": "stream",
          "name": "stdout",
          "text": [
            "Epoch  13: Train Loss: 0.0928 | Train Acc: 96.05% | Val Loss: 0.0985 | Val Acc: 95.65%\n",
            "EarlyStopping counter: 7 out of 15\n"
          ]
        },
        {
          "output_type": "stream",
          "name": "stderr",
          "text": [
            "Epoch 14/50: 100%|██████████| 91/91 [00:01<00:00, 46.52it/s, Loss=0.1439, Acc=96.22%]\n"
          ]
        },
        {
          "output_type": "stream",
          "name": "stdout",
          "text": [
            "Epoch  14: Train Loss: 0.0822 | Train Acc: 96.38% | Val Loss: 0.0885 | Val Acc: 95.85%\n",
            "EarlyStopping counter: 8 out of 15\n"
          ]
        },
        {
          "output_type": "stream",
          "name": "stderr",
          "text": [
            "Epoch 15/50: 100%|██████████| 91/91 [00:01<00:00, 46.85it/s, Loss=0.1057, Acc=97.15%]\n"
          ]
        },
        {
          "output_type": "stream",
          "name": "stdout",
          "text": [
            "Epoch  15: Train Loss: 0.0718 | Train Acc: 97.03% | Val Loss: 0.0880 | Val Acc: 96.13%\n",
            "EarlyStopping counter: 9 out of 15\n"
          ]
        },
        {
          "output_type": "stream",
          "name": "stderr",
          "text": [
            "Epoch 16/50: 100%|██████████| 91/91 [00:01<00:00, 46.61it/s, Loss=0.0557, Acc=96.88%]\n"
          ]
        },
        {
          "output_type": "stream",
          "name": "stdout",
          "text": [
            "Epoch  16: Train Loss: 0.0728 | Train Acc: 96.84% | Val Loss: 0.1323 | Val Acc: 95.17%\n",
            "EarlyStopping counter: 10 out of 15\n"
          ]
        },
        {
          "output_type": "stream",
          "name": "stderr",
          "text": [
            "Epoch 17/50: 100%|██████████| 91/91 [00:01<00:00, 46.41it/s, Loss=0.0695, Acc=97.01%]\n"
          ]
        },
        {
          "output_type": "stream",
          "name": "stdout",
          "text": [
            "Epoch  17: Train Loss: 0.0724 | Train Acc: 96.89% | Val Loss: 0.0832 | Val Acc: 96.53%\n"
          ]
        },
        {
          "output_type": "stream",
          "name": "stderr",
          "text": [
            "Epoch 18/50: 100%|██████████| 91/91 [00:02<00:00, 43.46it/s, Loss=0.0041, Acc=97.34%]\n"
          ]
        },
        {
          "output_type": "stream",
          "name": "stdout",
          "text": [
            "Epoch  18: Train Loss: 0.0656 | Train Acc: 97.17% | Val Loss: 0.0949 | Val Acc: 96.19%\n",
            "EarlyStopping counter: 1 out of 15\n"
          ]
        },
        {
          "output_type": "stream",
          "name": "stderr",
          "text": [
            "Epoch 19/50: 100%|██████████| 91/91 [00:02<00:00, 43.77it/s, Loss=0.0748, Acc=97.28%]\n"
          ]
        },
        {
          "output_type": "stream",
          "name": "stdout",
          "text": [
            "Epoch  19: Train Loss: 0.0617 | Train Acc: 97.27% | Val Loss: 0.0893 | Val Acc: 96.60%\n"
          ]
        },
        {
          "output_type": "stream",
          "name": "stderr",
          "text": [
            "Epoch 20/50: 100%|██████████| 91/91 [00:01<00:00, 46.21it/s, Loss=0.0716, Acc=97.28%]\n"
          ]
        },
        {
          "output_type": "stream",
          "name": "stdout",
          "text": [
            "Epoch  20: Train Loss: 0.0631 | Train Acc: 97.39% | Val Loss: 0.1251 | Val Acc: 95.58%\n",
            "EarlyStopping counter: 1 out of 15\n"
          ]
        },
        {
          "output_type": "stream",
          "name": "stderr",
          "text": [
            "Epoch 21/50: 100%|██████████| 91/91 [00:01<00:00, 46.59it/s, Loss=0.1437, Acc=97.45%]\n"
          ]
        },
        {
          "output_type": "stream",
          "name": "stdout",
          "text": [
            "Epoch  21: Train Loss: 0.0601 | Train Acc: 97.42% | Val Loss: 0.0997 | Val Acc: 96.06%\n",
            "EarlyStopping counter: 2 out of 15\n"
          ]
        },
        {
          "output_type": "stream",
          "name": "stderr",
          "text": [
            "Epoch 22/50: 100%|██████████| 91/91 [00:01<00:00, 46.68it/s, Loss=0.0666, Acc=97.72%]\n"
          ]
        },
        {
          "output_type": "stream",
          "name": "stdout",
          "text": [
            "Epoch  22: Train Loss: 0.0531 | Train Acc: 97.82% | Val Loss: 0.1054 | Val Acc: 96.06%\n",
            "EarlyStopping counter: 3 out of 15\n"
          ]
        },
        {
          "output_type": "stream",
          "name": "stderr",
          "text": [
            "Epoch 23/50: 100%|██████████| 91/91 [00:01<00:00, 46.88it/s, Loss=0.0635, Acc=97.51%]\n"
          ]
        },
        {
          "output_type": "stream",
          "name": "stdout",
          "text": [
            "Epoch  23: Train Loss: 0.0569 | Train Acc: 97.53% | Val Loss: 0.1227 | Val Acc: 95.04%\n",
            "EarlyStopping counter: 4 out of 15\n"
          ]
        },
        {
          "output_type": "stream",
          "name": "stderr",
          "text": [
            "Epoch 24/50: 100%|██████████| 91/91 [00:02<00:00, 44.05it/s, Loss=0.1616, Acc=97.34%]\n"
          ]
        },
        {
          "output_type": "stream",
          "name": "stdout",
          "text": [
            "Epoch  24: Train Loss: 0.0757 | Train Acc: 97.20% | Val Loss: 0.1097 | Val Acc: 96.67%\n"
          ]
        },
        {
          "output_type": "stream",
          "name": "stderr",
          "text": [
            "Epoch 25/50: 100%|██████████| 91/91 [00:02<00:00, 42.90it/s, Loss=0.0559, Acc=97.65%]\n"
          ]
        },
        {
          "output_type": "stream",
          "name": "stdout",
          "text": [
            "Epoch  25: Train Loss: 0.0554 | Train Acc: 97.65% | Val Loss: 0.0884 | Val Acc: 96.74%\n"
          ]
        },
        {
          "output_type": "stream",
          "name": "stderr",
          "text": [
            "Epoch 26/50: 100%|██████████| 91/91 [00:01<00:00, 46.01it/s, Loss=0.0543, Acc=97.82%]\n"
          ]
        },
        {
          "output_type": "stream",
          "name": "stdout",
          "text": [
            "Epoch  26: Train Loss: 0.0571 | Train Acc: 97.72% | Val Loss: 0.0853 | Val Acc: 97.28%\n"
          ]
        },
        {
          "output_type": "stream",
          "name": "stderr",
          "text": [
            "Epoch 27/50: 100%|██████████| 91/91 [00:01<00:00, 46.47it/s, Loss=0.0482, Acc=97.53%]\n"
          ]
        },
        {
          "output_type": "stream",
          "name": "stdout",
          "text": [
            "Epoch  27: Train Loss: 0.0510 | Train Acc: 97.56% | Val Loss: 0.0925 | Val Acc: 97.01%\n",
            "EarlyStopping counter: 1 out of 15\n"
          ]
        },
        {
          "output_type": "stream",
          "name": "stderr",
          "text": [
            "Epoch 28/50: 100%|██████████| 91/91 [00:01<00:00, 46.43it/s, Loss=0.0701, Acc=97.59%]\n"
          ]
        },
        {
          "output_type": "stream",
          "name": "stdout",
          "text": [
            "Epoch  28: Train Loss: 0.0537 | Train Acc: 97.72% | Val Loss: 0.0913 | Val Acc: 96.87%\n",
            "EarlyStopping counter: 2 out of 15\n"
          ]
        },
        {
          "output_type": "stream",
          "name": "stderr",
          "text": [
            "Epoch 29/50: 100%|██████████| 91/91 [00:01<00:00, 46.57it/s, Loss=0.0278, Acc=97.99%]\n"
          ]
        },
        {
          "output_type": "stream",
          "name": "stdout",
          "text": [
            "Epoch  29: Train Loss: 0.0474 | Train Acc: 97.99% | Val Loss: 0.0996 | Val Acc: 97.01%\n",
            "EarlyStopping counter: 3 out of 15\n"
          ]
        },
        {
          "output_type": "stream",
          "name": "stderr",
          "text": [
            "Epoch 30/50: 100%|██████████| 91/91 [00:02<00:00, 44.70it/s, Loss=0.0131, Acc=98.44%]\n"
          ]
        },
        {
          "output_type": "stream",
          "name": "stdout",
          "text": [
            "Epoch  30: Train Loss: 0.0409 | Train Acc: 98.42% | Val Loss: 0.0966 | Val Acc: 96.94%\n",
            "EarlyStopping counter: 4 out of 15\n"
          ]
        },
        {
          "output_type": "stream",
          "name": "stderr",
          "text": [
            "Epoch 31/50: 100%|██████████| 91/91 [00:02<00:00, 42.47it/s, Loss=0.0764, Acc=98.19%]\n"
          ]
        },
        {
          "output_type": "stream",
          "name": "stdout",
          "text": [
            "Epoch  31: Train Loss: 0.0417 | Train Acc: 98.21% | Val Loss: 0.0940 | Val Acc: 97.14%\n",
            "EarlyStopping counter: 5 out of 15\n"
          ]
        },
        {
          "output_type": "stream",
          "name": "stderr",
          "text": [
            "Epoch 32/50: 100%|██████████| 91/91 [00:01<00:00, 46.84it/s, Loss=0.0717, Acc=98.15%]\n"
          ]
        },
        {
          "output_type": "stream",
          "name": "stdout",
          "text": [
            "Epoch  32: Train Loss: 0.0465 | Train Acc: 98.11% | Val Loss: 0.0965 | Val Acc: 96.94%\n",
            "EarlyStopping counter: 6 out of 15\n"
          ]
        },
        {
          "output_type": "stream",
          "name": "stderr",
          "text": [
            "Epoch 33/50: 100%|██████████| 91/91 [00:01<00:00, 46.68it/s, Loss=0.0289, Acc=97.88%]\n"
          ]
        },
        {
          "output_type": "stream",
          "name": "stdout",
          "text": [
            "Epoch  33: Train Loss: 0.0459 | Train Acc: 97.96% | Val Loss: 0.0960 | Val Acc: 97.35%\n"
          ]
        },
        {
          "output_type": "stream",
          "name": "stderr",
          "text": [
            "Epoch 34/50: 100%|██████████| 91/91 [00:01<00:00, 46.51it/s, Loss=0.0371, Acc=98.46%]\n"
          ]
        },
        {
          "output_type": "stream",
          "name": "stdout",
          "text": [
            "Epoch  34: Train Loss: 0.0412 | Train Acc: 98.40% | Val Loss: 0.1023 | Val Acc: 96.94%\n",
            "EarlyStopping counter: 1 out of 15\n"
          ]
        },
        {
          "output_type": "stream",
          "name": "stderr",
          "text": [
            "Epoch 35/50: 100%|██████████| 91/91 [00:01<00:00, 46.53it/s, Loss=0.0163, Acc=98.57%]\n"
          ]
        },
        {
          "output_type": "stream",
          "name": "stdout",
          "text": [
            "Epoch  35: Train Loss: 0.0392 | Train Acc: 98.44% | Val Loss: 0.1093 | Val Acc: 96.60%\n",
            "EarlyStopping counter: 2 out of 15\n"
          ]
        },
        {
          "output_type": "stream",
          "name": "stderr",
          "text": [
            "Epoch 36/50: 100%|██████████| 91/91 [00:01<00:00, 45.56it/s, Loss=0.0328, Acc=98.26%]\n"
          ]
        },
        {
          "output_type": "stream",
          "name": "stdout",
          "text": [
            "Epoch  36: Train Loss: 0.0415 | Train Acc: 98.32% | Val Loss: 0.1049 | Val Acc: 96.80%\n",
            "EarlyStopping counter: 3 out of 15\n"
          ]
        },
        {
          "output_type": "stream",
          "name": "stderr",
          "text": [
            "Epoch 37/50: 100%|██████████| 91/91 [00:02<00:00, 42.33it/s, Loss=0.0233, Acc=98.32%]\n"
          ]
        },
        {
          "output_type": "stream",
          "name": "stdout",
          "text": [
            "Epoch  37: Train Loss: 0.0410 | Train Acc: 98.23% | Val Loss: 0.0989 | Val Acc: 97.21%\n",
            "EarlyStopping counter: 4 out of 15\n"
          ]
        },
        {
          "output_type": "stream",
          "name": "stderr",
          "text": [
            "Epoch 38/50: 100%|██████████| 91/91 [00:02<00:00, 45.32it/s, Loss=0.0347, Acc=98.36%]\n"
          ]
        },
        {
          "output_type": "stream",
          "name": "stdout",
          "text": [
            "Epoch  38: Train Loss: 0.0374 | Train Acc: 98.40% | Val Loss: 0.1037 | Val Acc: 97.08%\n",
            "EarlyStopping counter: 5 out of 15\n"
          ]
        },
        {
          "output_type": "stream",
          "name": "stderr",
          "text": [
            "Epoch 39/50: 100%|██████████| 91/91 [00:01<00:00, 46.71it/s, Loss=0.0159, Acc=98.51%]\n"
          ]
        },
        {
          "output_type": "stream",
          "name": "stdout",
          "text": [
            "Epoch  39: Train Loss: 0.0368 | Train Acc: 98.57% | Val Loss: 0.1102 | Val Acc: 96.60%\n",
            "EarlyStopping counter: 6 out of 15\n"
          ]
        },
        {
          "output_type": "stream",
          "name": "stderr",
          "text": [
            "Epoch 40/50: 100%|██████████| 91/91 [00:01<00:00, 46.22it/s, Loss=0.0566, Acc=98.44%]\n"
          ]
        },
        {
          "output_type": "stream",
          "name": "stdout",
          "text": [
            "Epoch  40: Train Loss: 0.0351 | Train Acc: 98.49% | Val Loss: 0.1110 | Val Acc: 96.74%\n",
            "EarlyStopping counter: 7 out of 15\n"
          ]
        },
        {
          "output_type": "stream",
          "name": "stderr",
          "text": [
            "Epoch 41/50: 100%|██████████| 91/91 [00:01<00:00, 46.06it/s, Loss=0.0241, Acc=98.63%]\n"
          ]
        },
        {
          "output_type": "stream",
          "name": "stdout",
          "text": [
            "Epoch  41: Train Loss: 0.0371 | Train Acc: 98.51% | Val Loss: 0.1118 | Val Acc: 97.08%\n",
            "EarlyStopping counter: 8 out of 15\n"
          ]
        },
        {
          "output_type": "stream",
          "name": "stderr",
          "text": [
            "Epoch 42/50: 100%|██████████| 91/91 [00:01<00:00, 46.49it/s, Loss=0.0129, Acc=98.44%]\n"
          ]
        },
        {
          "output_type": "stream",
          "name": "stdout",
          "text": [
            "Epoch  42: Train Loss: 0.0367 | Train Acc: 98.42% | Val Loss: 0.1065 | Val Acc: 97.01%\n",
            "EarlyStopping counter: 9 out of 15\n"
          ]
        },
        {
          "output_type": "stream",
          "name": "stderr",
          "text": [
            "Epoch 43/50: 100%|██████████| 91/91 [00:02<00:00, 43.08it/s, Loss=0.0427, Acc=98.55%]\n"
          ]
        },
        {
          "output_type": "stream",
          "name": "stdout",
          "text": [
            "Epoch  43: Train Loss: 0.0345 | Train Acc: 98.61% | Val Loss: 0.1151 | Val Acc: 96.80%\n",
            "EarlyStopping counter: 10 out of 15\n"
          ]
        },
        {
          "output_type": "stream",
          "name": "stderr",
          "text": [
            "Epoch 44/50: 100%|██████████| 91/91 [00:02<00:00, 44.44it/s, Loss=0.0158, Acc=98.73%]\n"
          ]
        },
        {
          "output_type": "stream",
          "name": "stdout",
          "text": [
            "Epoch  44: Train Loss: 0.0346 | Train Acc: 98.70% | Val Loss: 0.1090 | Val Acc: 97.14%\n",
            "EarlyStopping counter: 11 out of 15\n"
          ]
        },
        {
          "output_type": "stream",
          "name": "stderr",
          "text": [
            "Epoch 45/50: 100%|██████████| 91/91 [00:01<00:00, 46.51it/s, Loss=0.1249, Acc=98.40%]\n"
          ]
        },
        {
          "output_type": "stream",
          "name": "stdout",
          "text": [
            "Epoch  45: Train Loss: 0.0373 | Train Acc: 98.33% | Val Loss: 0.1079 | Val Acc: 97.01%\n",
            "EarlyStopping counter: 12 out of 15\n"
          ]
        },
        {
          "output_type": "stream",
          "name": "stderr",
          "text": [
            "Epoch 46/50: 100%|██████████| 91/91 [00:01<00:00, 46.01it/s, Loss=0.0400, Acc=98.80%]\n"
          ]
        },
        {
          "output_type": "stream",
          "name": "stdout",
          "text": [
            "Epoch  46: Train Loss: 0.0342 | Train Acc: 98.71% | Val Loss: 0.1063 | Val Acc: 97.14%\n",
            "EarlyStopping counter: 13 out of 15\n"
          ]
        },
        {
          "output_type": "stream",
          "name": "stderr",
          "text": [
            "Epoch 47/50: 100%|██████████| 91/91 [00:01<00:00, 46.84it/s, Loss=0.0124, Acc=98.51%]\n"
          ]
        },
        {
          "output_type": "stream",
          "name": "stdout",
          "text": [
            "Epoch  47: Train Loss: 0.0343 | Train Acc: 98.54% | Val Loss: 0.1101 | Val Acc: 97.08%\n",
            "EarlyStopping counter: 14 out of 15\n"
          ]
        },
        {
          "output_type": "stream",
          "name": "stderr",
          "text": [
            "Epoch 48/50: 100%|██████████| 91/91 [00:01<00:00, 46.23it/s, Loss=0.0399, Acc=98.26%]\n"
          ]
        },
        {
          "output_type": "stream",
          "name": "stdout",
          "text": [
            "Epoch  48: Train Loss: 0.0382 | Train Acc: 98.33% | Val Loss: 0.1063 | Val Acc: 97.08%\n",
            "EarlyStopping counter: 15 out of 15\n",
            "Early stopping triggered after 48 epochs!\n",
            "Best validation accuracy: 97.35%\n",
            "Training completed!\n",
            "Best validation accuracy: 97.3487%\n"
          ]
        }
      ]
    },
    {
      "cell_type": "code",
      "source": [
        "print(\"STEP 4: Final evaluation...\")\n",
        "try:\n",
        "    # Load best model\n",
        "    if os.path.exists('best_model.pth'):\n",
        "        model.load_state_dict(torch.load('best_model.pth'))\n",
        "        print(\"Loaded best model weights\")\n",
        "\n",
        "    # Plot training curves\n",
        "    plot_training_curves(train_losses, train_accs, val_losses, val_accs)\n",
        "\n",
        "    # Final test set prediction\n",
        "    test_acc, test_loss = evaluate_model_with_loss(model, test_loader, device)\n",
        "\n",
        "    # Detailed evaluation on test set\n",
        "    print(\"\\nDetailed evaluation on test set:\")\n",
        "    accuracy, report, cm = detailed_evaluation(model, test_loader, device)\n",
        "\n",
        "    print(f\"Final test accuracy: {accuracy*100:.4f}%\")\n",
        "    print(f\"Test loss: {test_loss:.4f}\")\n",
        "    print(\"Training completed successfully!\")\n",
        "\n",
        "except Exception as e:\n",
        "    print(f\"Error during evaluation: {e}\")\n",
        "    import traceback\n",
        "    traceback.print_exc()"
      ],
      "metadata": {
        "colab": {
          "base_uri": "https://localhost:8080/",
          "height": 1000
        },
        "id": "LLtdId_LjMTy",
        "outputId": "29811e55-0ccf-4139-a9d6-8701ac6f4546"
      },
      "execution_count": 183,
      "outputs": [
        {
          "output_type": "stream",
          "name": "stdout",
          "text": [
            "STEP 4: Final evaluation...\n",
            "Loaded best model weights\n"
          ]
        },
        {
          "output_type": "display_data",
          "data": {
            "text/plain": [
              "<Figure size 1500x600 with 2 Axes>"
            ],
            "image/png": "[encoded data removed]"
          },
          "metadata": {}
        },
        {
          "output_type": "stream",
          "name": "stdout",
          "text": [
            "\n",
            "Detailed evaluation on test set:\n",
            "\n",
            "Classification Report:\n",
            "                    precision    recall  f1-score   support\n",
            "\n",
            "           WALKING     0.9795    0.9617    0.9705       496\n",
            "  WALKING_UPSTAIRS     0.9911    0.9427    0.9663       471\n",
            "WALKING_DOWNSTAIRS     0.9130    1.0000    0.9545       420\n",
            "           SITTING     0.9646    0.7780    0.8613       491\n",
            "          STANDING     0.8304    0.9662    0.8931       532\n",
            "            LAYING     1.0000    1.0000    1.0000       537\n",
            "\n",
            "          accuracy                         0.9413      2947\n",
            "         macro avg     0.9464    0.9414    0.9410      2947\n",
            "      weighted avg     0.9462    0.9413    0.9408      2947\n",
            "\n"
          ]
        },
        {
          "output_type": "display_data",
          "data": {
            "text/plain": [
              "<Figure size 1000x800 with 2 Axes>"
            ],
            "image/png": "[encoded data removed]"
          },
          "metadata": {}
        },
        {
          "output_type": "stream",
          "name": "stdout",
          "text": [
            "Final test accuracy: 94.1296%\n",
            "Test loss: 0.3372\n",
            "Training completed successfully!\n"
          ]
        }
      ]
    }
  ]
}
