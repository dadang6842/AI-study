{
  "nbformat": 4,
  "nbformat_minor": 0,
  "metadata": {
    "colab": {
      "provenance": [],
      "authorship_tag": "ABX9TyPLsu8BwzqKCAj+3XALrh0m",
      "include_colab_link": true
    },
    "kernelspec": {
      "name": "python3",
      "display_name": "Python 3"
    },
    "language_info": {
      "name": "python"
    }
  },
  "cells": [
    {
      "cell_type": "markdown",
      "metadata": {
        "id": "view-in-github",
        "colab_type": "text"
      },
      "source": [
        "<a href=\"https://colab.research.google.com/github/dadang6842/AI-study/blob/main/assignments/Univariate_LSTM.ipynb\" target=\"_parent\"><img src=\"https://colab.research.google.com/assets/colab-badge.svg\" alt=\"Open In Colab\"/></a>"
      ]
    },
    {
      "cell_type": "markdown",
      "source": [
        "- https://machinelearningmastery.com/how-to-develop-lstm-models-for-time-series-forecasting/\n",
        "- 위 블로그 참고\n",
        "\n",
        "### 기본 개념\n",
        "Univariate LSTM\n",
        "- 과거 한 가지 변수(예: 기온)만으로 미래 값을 예측\n",
        "\n",
        "Multivariate LSTM\n",
        "- 과거 여러 변수(예: 기온, 습도, 풍속 등)를 함께 사용해 예측\n",
        "\n",
        "Single-Step Forecasting\n",
        "- 과거 T개 시점의 데이터를 보고 바로 다음 시점(한 스텝)만 예측\n",
        "- 출력층(Dense) 유닛 수 = 1\n",
        "\n",
        "Multi-Step Forecasting\n",
        "- 과거 T개 시점의 데이터를 보고 미래 M개 시점을 한 번에 예측\n",
        "- 출력층 유닛 수 = M (출력 벡터 차원이 M)\n",
        "\n",
        "(samples, timesteps. features)\n",
        "- samples: 학습용 샘플 총 개수\n",
        "- timesteps: 한 샘플당 바라보는 과거 시점의 개수\n",
        "- features: 각 시점에 측정된 변수의 개수"
      ],
      "metadata": {
        "id": "8jLqzTaxnDg7"
      }
    },
    {
      "cell_type": "markdown",
      "source": [
        "## Data Preparation"
      ],
      "metadata": {
        "id": "LFi-Sq_hoHtP"
      }
    },
    {
      "cell_type": "code",
      "source": [
        "from numpy import array\n",
        "\n",
        "# split a univariate sequence into samples\n",
        "def split_sequence(sequence, n_steps):\n",
        "\tX, y = list(), list()\n",
        "\tfor i in range(len(sequence)):\n",
        "\t\t# find the end of this pattern\n",
        "\t\tend_ix = i + n_steps\n",
        "\t\t# check if we are beyond the sequence\n",
        "\t\tif end_ix > len(sequence)-1:\n",
        "\t\t\tbreak\n",
        "\t\t# gather input and output parts of the pattern\n",
        "\t\tseq_x, seq_y = sequence[i:end_ix], sequence[end_ix]\n",
        "\t\tX.append(seq_x)\n",
        "\t\ty.append(seq_y)\n",
        "\treturn array(X), array(y)"
      ],
      "metadata": {
        "id": "cfqD4oWxoKE4"
      },
      "execution_count": 15,
      "outputs": []
    },
    {
      "cell_type": "code",
      "source": [
        "# define input sequence\n",
        "raw_seq = [10, 20, 30, 40, 50, 60, 70, 80, 90]"
      ],
      "metadata": {
        "id": "fJ_m1gCCpchk"
      },
      "execution_count": 16,
      "outputs": []
    },
    {
      "cell_type": "markdown",
      "source": [
        "## Vanila LSTM"
      ],
      "metadata": {
        "id": "XQfQmfIhps0e"
      }
    },
    {
      "cell_type": "code",
      "source": [
        "from numpy import array\n",
        "from keras.models import Sequential\n",
        "from keras.layers import LSTM\n",
        "from keras.layers import Dense\n",
        "\n",
        "# choose a number of time steps\n",
        "n_steps = 3\n",
        "\n",
        "# split into samples\n",
        "X, y = split_sequence(raw_seq, n_steps)\n",
        "\n",
        "# reshape from [samples, timesteps] into [samples, timesteps, features]\n",
        "n_features = 1\n",
        "X = X.reshape((X.shape[0], X.shape[1], n_features))\n",
        "\n",
        "# define model\n",
        "model = Sequential()\n",
        "model.add(LSTM(50, activation='relu', input_shape=(n_steps, n_features)))\n",
        "model.add(Dense(1))\n",
        "model.compile(optimizer='adam', loss='mse')\n",
        "\n",
        "# fit model\n",
        "model.fit(X, y, epochs=200, verbose=0)\n",
        "\n",
        "# demonstrate prediction\n",
        "x_input = array([70, 80, 90])\n",
        "x_input = x_input.reshape((1, n_steps, n_features)) # reshape into [samples, timesteps, features]\n",
        "yhat = model.predict(x_input, verbose=0)\n",
        "print(yhat)"
      ],
      "metadata": {
        "colab": {
          "base_uri": "https://localhost:8080/"
        },
        "id": "i7jTmDLFrdGO",
        "outputId": "c4c0aeac-7797-47cf-dc1c-5104aea76163"
      },
      "execution_count": 17,
      "outputs": [
        {
          "output_type": "stream",
          "name": "stderr",
          "text": [
            "WARNING:tensorflow:6 out of the last 6 calls to <function TensorFlowTrainer.make_predict_function.<locals>.one_step_on_data_distributed at 0x7fc7e66c18a0> triggered tf.function retracing. Tracing is expensive and the excessive number of tracings could be due to (1) creating @tf.function repeatedly in a loop, (2) passing tensors with different shapes, (3) passing Python objects instead of tensors. For (1), please define your @tf.function outside of the loop. For (2), @tf.function has reduce_retracing=True option that can avoid unnecessary retracing. For (3), please refer to https://www.tensorflow.org/guide/function#controlling_retracing and https://www.tensorflow.org/api_docs/python/tf/function for  more details.\n"
          ]
        },
        {
          "output_type": "stream",
          "name": "stdout",
          "text": [
            "[[102.65567]]\n"
          ]
        }
      ]
    },
    {
      "cell_type": "markdown",
      "source": [
        "## Stacked LSTM\n",
        "return_sequences=True\n",
        "- 3D output -> 다음 LSTM layer에 입력할 수 있게끔"
      ],
      "metadata": {
        "id": "3_Sb0WoZsCEg"
      }
    },
    {
      "cell_type": "code",
      "source": [
        "from numpy import array\n",
        "from keras.models import Sequential\n",
        "from keras.layers import LSTM\n",
        "from keras.layers import Dense\n",
        "\n",
        "# choose a number of time steps\n",
        "n_steps = 3\n",
        "\n",
        "# split into samples\n",
        "X, y = split_sequence(raw_seq, n_steps)\n",
        "\n",
        "# reshape from [samples, timesteps] into [samples, timesteps, features]\n",
        "n_features = 1\n",
        "X = X.reshape((X.shape[0], X.shape[1], n_features))\n",
        "\n",
        "# define model\n",
        "model = Sequential()\n",
        "model.add(LSTM(50, activation='relu', return_sequences=True, input_shape=(n_steps, n_features)))\n",
        "model.add(LSTM(50, activation='relu'))\n",
        "model.add(Dense(1))\n",
        "model.compile(optimizer='adam', loss='mse')\n",
        "# fit model\n",
        "model.fit(X, y, epochs=200, verbose=0)\n",
        "# demonstrate prediction\n",
        "x_input = array([70, 80, 90])\n",
        "x_input = x_input.reshape((1, n_steps, n_features))\n",
        "yhat = model.predict(x_input, verbose=0)\n",
        "print(yhat)"
      ],
      "metadata": {
        "colab": {
          "base_uri": "https://localhost:8080/"
        },
        "id": "iX0vMN8Tr3IE",
        "outputId": "ac5ced3b-aac9-4480-867a-e22ec7049a1c"
      },
      "execution_count": 18,
      "outputs": [
        {
          "output_type": "stream",
          "name": "stdout",
          "text": [
            "[[103.64697]]\n"
          ]
        }
      ]
    },
    {
      "cell_type": "markdown",
      "source": [
        "## Bidirectional LSTM\n",
        "- 양방향 LSTM\n",
        "- 순방향 뿐만 아니라 역방향으로도 정보를 추출\n",
        "- 과거 정보 뿐만 아니라 미래 정보까지 반영하여 양방향 문맥 활용\n",
        "- Bidirectional(LSTM(...)) 형식으로 사용"
      ],
      "metadata": {
        "id": "pLdevrMpswaO"
      }
    },
    {
      "cell_type": "code",
      "source": [
        "# univariate bidirectional lstm example\n",
        "from numpy import array\n",
        "from keras.models import Sequential\n",
        "from keras.layers import LSTM\n",
        "from keras.layers import Dense\n",
        "from keras.layers import Bidirectional\n",
        "\n",
        "# choose a number of time steps\n",
        "n_steps = 3\n",
        "\n",
        "# split into samples\n",
        "X, y = split_sequence(raw_seq, n_steps)\n",
        "\n",
        "# reshape from [samples, timesteps] into [samples, timesteps, features]\n",
        "n_features = 1\n",
        "X = X.reshape((X.shape[0], X.shape[1], n_features))\n",
        "\n",
        "# define model\n",
        "model = Sequential()\n",
        "model.add(Bidirectional(LSTM(50, activation='relu'), input_shape=(n_steps, n_features)))\n",
        "model.add(Dense(1))\n",
        "model.compile(optimizer='adam', loss='mse')\n",
        "\n",
        "# fit model\n",
        "model.fit(X, y, epochs=200, verbose=0)\n",
        "\n",
        "# demonstrate prediction\n",
        "x_input = array([70, 80, 90])\n",
        "x_input = x_input.reshape((1, n_steps, n_features))\n",
        "yhat = model.predict(x_input, verbose=0)\n",
        "print(yhat)"
      ],
      "metadata": {
        "colab": {
          "base_uri": "https://localhost:8080/"
        },
        "id": "NDXP03Ubtnvm",
        "outputId": "2bd3ea36-5bbb-4901-9721-f18326676c8e"
      },
      "execution_count": 19,
      "outputs": [
        {
          "output_type": "stream",
          "name": "stderr",
          "text": [
            "/usr/local/lib/python3.11/dist-packages/keras/src/layers/rnn/bidirectional.py:107: UserWarning: Do not pass an `input_shape`/`input_dim` argument to a layer. When using Sequential models, prefer using an `Input(shape)` object as the first layer in the model instead.\n",
            "  super().__init__(**kwargs)\n"
          ]
        },
        {
          "output_type": "stream",
          "name": "stdout",
          "text": [
            "[[101.43526]]\n"
          ]
        }
      ]
    },
    {
      "cell_type": "markdown",
      "source": [
        "## CNN LSTM\n",
        "- CNN이 입력의 부분 시퀀스를 해석, 해석 결과들이 모여 LSTM이 처리할 시퀀스를 이룸\n",
        "\n",
        "과정\n",
        "1. 원본 시계열 분할\n",
        "- 전체 시퀀스를 윈도우(window) 방식으로 자르고, (입력 길이=T_in, 출력 길이=T_out) 샘플 생성\n",
        "2. 부분 시퀀스(subsequence) 생성\n",
        "- 입력 길이 T_in을 n_seq개의 동일 크기 n_steps로 분할\n",
        "- T_in = n_seq × n_steps 여야 함\n",
        "3. 데이터 재구조화\n",
        "- 원래 (샘플, T_in, 피처) → (샘플, n_seq, n_steps, 피처)\n",
        "4. CNN 처리\n",
        "- TimeDistributed(Conv1D/Conv2D, …) 레이어로 각 부분 시퀀스별 특징 맵(feature map) 생성\n",
        "- TimeDistrubuted() subsequence 축(n_seq가 위치한 축(axis=1)을 따라 Conv1D 연산을 적용\n",
        "5. LSTM 처리\n",
        "- CNN 출력 시퀀스 (샘플, n_seq, CNN_피처) → LSTM → 최종 예측\n",
        "\n",
        "파라미터\n",
        "- n_seq: 부분 시퀀스 개수, LSTM에 공급되는 타입 스텝 수와 동일\n",
        "- n_steps: 각 부분 시퀀스의 길이, CNN이 한 번에 보는 시퀀스 길이\n",
        "\n",
        "kernel_size=1\n",
        "- 한 번에 1개의 time step만 읽겠다\n",
        "- 각 시점에 대해 독립적인 특징 추출이 필요하거나, 채널 확장 또는 축소가 필요할 때 사용\n",
        "\n",
        "![스크린샷 2025-08-02 124639.png](data:image/png;base64,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)"
      ],
      "metadata": {
        "id": "KzKWC1jfui5s"
      }
    },
    {
      "cell_type": "code",
      "source": [
        "# univariate cnn lstm example\n",
        "from numpy import array\n",
        "from keras.models import Sequential\n",
        "from keras.layers import LSTM\n",
        "from keras.layers import Dense\n",
        "from keras.layers import Flatten\n",
        "from keras.layers import TimeDistributed\n",
        "from keras.layers import Conv1D\n",
        "from keras.layers import MaxPooling1D\n",
        "\n",
        "# choose a number of time steps\n",
        "n_steps = 4\n",
        "\n",
        "# split into samples\n",
        "X, y = split_sequence(raw_seq, n_steps)\n",
        "\n",
        "# reshape from [samples, timesteps] into [samples, subsequences, timesteps, features]\n",
        "n_features = 1\n",
        "n_seq = 2\n",
        "n_steps = 2\n",
        "X = X.reshape((X.shape[0], n_seq, n_steps, n_features))\n",
        "\n",
        "# define model\n",
        "model = Sequential()\n",
        "model.add(TimeDistributed(Conv1D(filters=64, kernel_size=1, activation='relu'), input_shape=(None, n_steps, n_features))) # n_seq를 런타임에 변경 가능\n",
        "model.add(TimeDistributed(MaxPooling1D(pool_size=2)))\n",
        "model.add(TimeDistributed(Flatten()))\n",
        "model.add(LSTM(50, activation='relu'))\n",
        "model.add(Dense(1))\n",
        "model.compile(optimizer='adam', loss='mse')\n",
        "\n",
        "# fit model\n",
        "model.fit(X, y, epochs=500, verbose=0)\n",
        "\n",
        "# demonstrate prediction\n",
        "x_input = array([60, 70, 80, 90])\n",
        "x_input = x_input.reshape((1, n_seq, n_steps, n_features))\n",
        "yhat = model.predict(x_input, verbose=0)\n",
        "print(yhat)"
      ],
      "metadata": {
        "colab": {
          "base_uri": "https://localhost:8080/"
        },
        "id": "1XNmG0_vuhpj",
        "outputId": "61e66bc0-1305-46eb-918e-534b9bad89bd"
      },
      "execution_count": 21,
      "outputs": [
        {
          "output_type": "stream",
          "name": "stderr",
          "text": [
            "/usr/local/lib/python3.11/dist-packages/keras/src/layers/core/wrapper.py:27: UserWarning: Do not pass an `input_shape`/`input_dim` argument to a layer. When using Sequential models, prefer using an `Input(shape)` object as the first layer in the model instead.\n",
            "  super().__init__(**kwargs)\n"
          ]
        },
        {
          "output_type": "stream",
          "name": "stdout",
          "text": [
            "[[100.42851]]\n"
          ]
        }
      ]
    },
    {
      "cell_type": "markdown",
      "source": [
        "## ConvLSTM\n",
        "- CNN 연산을 LSTM 셀 내부에서 수행함 → 공간 + 시간 정보를 동시에 학습\n",
        "- 2D 데이터를 처리하기 위해 고안\n",
        "- 입력 형태: [samples, timesteps, rows, columns, channels]\n",
        "- 예: (N, 10, 64, 64, 1) → 10장의 64x64 이미지를 시퀀스로 입력\n",
        "- 시계열 처리 시 row를 1로 설정\n",
        "\n",
        "CNN-LSTM과 비교\n",
        "- LSTM 셀 내부에서 Conv 연산 수행\n",
        "- CNN + LSTM이 한 셀 안에 있어 더 복잡한 패턴을 학습 -> 시공간 정보가 중요한 경우에 사용\n",
        "- CNN, LSTM을 따로 튜닝할 수 없음\n",
        "- 구조 복잡\n",
        "- 5D 입력이 필요해서 전처리 복잡도 상승"
      ],
      "metadata": {
        "id": "CtSrlSqS50BF"
      }
    },
    {
      "cell_type": "code",
      "source": [
        "# univariate convlstm example\n",
        "from numpy import array\n",
        "from keras.models import Sequential\n",
        "from keras.layers import LSTM\n",
        "from keras.layers import Dense\n",
        "from keras.layers import Flatten\n",
        "from keras.layers import ConvLSTM2D\n",
        "\n",
        "# choose a number of time steps\n",
        "n_steps = 4\n",
        "\n",
        "# split into samples\n",
        "X, y = split_sequence(raw_seq, n_steps)\n",
        "\n",
        "# reshape from [samples, timesteps] into [samples, timesteps, rows, columns, features]\n",
        "n_features = 1\n",
        "n_seq = 2\n",
        "n_steps = 2\n",
        "X = X.reshape((X.shape[0], n_seq, 1, n_steps, n_features))\n",
        "\n",
        "# define model\n",
        "model = Sequential()\n",
        "model.add(ConvLSTM2D(filters=64, kernel_size=(1,2), activation='relu', input_shape=(n_seq, 1, n_steps, n_features)))\n",
        "model.add(Flatten())\n",
        "model.add(Dense(1))\n",
        "model.compile(optimizer='adam', loss='mse')\n",
        "\n",
        "# fit model\n",
        "model.fit(X, y, epochs=500, verbose=0)\n",
        "\n",
        "# demonstrate prediction\n",
        "x_input = array([60, 70, 80, 90])\n",
        "x_input = x_input.reshape((1, n_seq, 1, n_steps, n_features))\n",
        "yhat = model.predict(x_input, verbose=0)\n",
        "print(yhat)"
      ],
      "metadata": {
        "colab": {
          "base_uri": "https://localhost:8080/"
        },
        "id": "vCHib_nW5zaI",
        "outputId": "ef6efc0b-ed8b-42d1-c531-22d765531058"
      },
      "execution_count": 22,
      "outputs": [
        {
          "output_type": "stream",
          "name": "stderr",
          "text": [
            "/usr/local/lib/python3.11/dist-packages/keras/src/layers/rnn/rnn.py:200: UserWarning: Do not pass an `input_shape`/`input_dim` argument to a layer. When using Sequential models, prefer using an `Input(shape)` object as the first layer in the model instead.\n",
            "  super().__init__(**kwargs)\n"
          ]
        },
        {
          "output_type": "stream",
          "name": "stdout",
          "text": [
            "[[101.17176]]\n"
          ]
        }
      ]
    }
  ]
}