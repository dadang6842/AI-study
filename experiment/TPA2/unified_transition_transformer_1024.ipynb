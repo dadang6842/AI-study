{
  "nbformat": 4,
  "nbformat_minor": 0,
  "metadata": {
    "colab": {
      "provenance": [],
      "gpuType": "T4"
    },
    "kernelspec": {
      "name": "python3",
      "display_name": "Python 3"
    },
    "language_info": {
      "name": "python"
    },
    "accelerator": "GPU"
  },
  "cells": [
    {
      "cell_type": "code",
      "execution_count": 1,
      "metadata": {
        "id": "supE8VPD0o0t",
        "colab": {
          "base_uri": "https://localhost:8080/"
        },
        "outputId": "55367ad4-58d2-418c-fd85-a6f15303d373"
      },
      "outputs": [
        {
          "metadata": {
            "tags": null
          },
          "name": "stdout",
          "output_type": "stream",
          "text": [
            "Drive already mounted at /content/drive; to attempt to forcibly remount, call drive.mount(\"/content/drive\", force_remount=True).\n",
            "\n",
            "================================================================================\n",
            "UNIFIED MODEL COMPARISON: GAP vs TPA vs Gated-TPA\n",
            "WITH TRANSFORMER ENCODER BACKBONE\n",
            "Testing on 41 Datasets (1 Original + 40 Transition)\n",
            "================================================================================\n",
            "\n",
            "Total datasets to test: 41\n",
            "  - Original: 1\n",
            "  - Static transitions: 24\n",
            "  - Walking transitions: 16\n",
            "\n",
            "[Progress: 1/41]\n",
            "\n",
            "================================================================================\n",
            "EXPERIMENT: ORIGINAL\n",
            "================================================================================\n",
            "\n",
            "Loading ORIGINAL...\n",
            "  Path: /content/drive/MyDrive/AI_data/TPA2/uci_har_transition_datasets/ORIGINAL\n",
            "  Train: (7352, 9, 128), Test: (2947, 9, 128)\n",
            "\n",
            "Dataset splits:\n",
            "  Train: 5881, Val: 1471, Test: 2947\n"
          ]
        },
        {
          "metadata": {
            "tags": null
          },
          "name": "stderr",
          "output_type": "stream",
          "text": [
            "/usr/local/lib/python3.12/dist-packages/torch/nn/modules/transformer.py:392: UserWarning: enable_nested_tensor is True, but self.use_nested_tensor is False because encoder_layer.norm_first was True\n",
            "  warnings.warn(\n"
          ]
        },
        {
          "metadata": {
            "tags": null
          },
          "name": "stdout",
          "output_type": "stream",
          "text": [
            "\n",
            "[Training GAP]\n",
            "  Epoch  10: Train Acc=0.9197, Val Acc=0.9028, F1=0.9032\n",
            "  Epoch  20: Train Acc=0.9420, Val Acc=0.9232, F1=0.9248\n",
            "  Epoch  30: Train Acc=0.9485, Val Acc=0.9402, F1=0.9428\n",
            "  Epoch  40: Train Acc=0.9507, Val Acc=0.9504, F1=0.9528\n",
            "  Epoch  50: Train Acc=0.9524, Val Acc=0.9490, F1=0.9515\n",
            "  Epoch  60: Train Acc=0.9544, Val Acc=0.9517, F1=0.9542\n",
            "  Early stopping at epoch 61\n",
            "  Best Val Acc: 0.9585\n",
            "\n",
            "[GAP Results]\n",
            "  Val Acc: 0.9585\n",
            "  Test Acc: 0.8884, F1: 0.8880\n",
            "\n",
            "[Training TPA]\n"
          ]
        },
        {
          "metadata": {
            "tags": null
          },
          "name": "stderr",
          "output_type": "stream",
          "text": [
            "/usr/local/lib/python3.12/dist-packages/torch/nn/modules/transformer.py:392: UserWarning: enable_nested_tensor is True, but self.use_nested_tensor is False because encoder_layer.norm_first was True\n",
            "  warnings.warn(\n"
          ]
        },
        {
          "metadata": {
            "tags": null
          },
          "name": "stdout",
          "output_type": "stream",
          "text": [
            "  Epoch  10: Train Acc=0.9255, Val Acc=0.9402, F1=0.9400\n",
            "  Epoch  20: Train Acc=0.9442, Val Acc=0.9381, F1=0.9403\n",
            "  Epoch  30: Train Acc=0.9478, Val Acc=0.9415, F1=0.9443\n",
            "  Epoch  40: Train Acc=0.9500, Val Acc=0.9572, F1=0.9589\n",
            "  Epoch  50: Train Acc=0.9498, Val Acc=0.9640, F1=0.9661\n",
            "  Epoch  60: Train Acc=0.9543, Val Acc=0.9640, F1=0.9661\n",
            "  Early stopping at epoch 69\n",
            "  Best Val Acc: 0.9660\n",
            "\n",
            "[TPA Results]\n",
            "  Val Acc: 0.9660\n",
            "  Test Acc: 0.8873, F1: 0.8862\n",
            "\n",
            "[Training Gated-TPA]\n"
          ]
        },
        {
          "metadata": {
            "tags": null
          },
          "name": "stderr",
          "output_type": "stream",
          "text": [
            "/usr/local/lib/python3.12/dist-packages/torch/nn/modules/transformer.py:392: UserWarning: enable_nested_tensor is True, but self.use_nested_tensor is False because encoder_layer.norm_first was True\n",
            "  warnings.warn(\n"
          ]
        },
        {
          "metadata": {
            "tags": null
          },
          "name": "stdout",
          "output_type": "stream",
          "text": [
            "  Epoch  10: Train Acc=0.9123, Val Acc=0.9184, F1=0.9180\n",
            "  Epoch  20: Train Acc=0.9418, Val Acc=0.9422, F1=0.9440\n",
            "  Epoch  30: Train Acc=0.9486, Val Acc=0.9551, F1=0.9578\n",
            "  Epoch  40: Train Acc=0.9520, Val Acc=0.9653, F1=0.9676\n",
            "  Epoch  50: Train Acc=0.9519, Val Acc=0.9592, F1=0.9619\n",
            "  Early stopping at epoch 59\n",
            "  Best Val Acc: 0.9667\n",
            "\n",
            "[Gated-TPA Results]\n",
            "  Val Acc: 0.9667\n",
            "  Test Acc: 0.8985, F1: 0.8988\n",
            "\n",
            "[Progress: 2/41]\n",
            "\n",
            "================================================================================\n",
            "EXPERIMENT: STANDING_TO_SITTING_10pct\n",
            "================================================================================\n",
            "\n",
            "Loading STANDING_TO_SITTING_10pct...\n",
            "  Path: /content/drive/MyDrive/AI_data/TPA2/uci_har_transition_datasets/STANDING_TO_SITTING_10pct\n",
            "  Train: (8087, 9, 128), Test: (3241, 9, 128)\n",
            "\n",
            "Dataset splits:\n",
            "  Train: 6469, Val: 1618, Test: 3241\n",
            "\n",
            "[Training GAP]\n"
          ]
        },
        {
          "metadata": {
            "tags": null
          },
          "name": "stderr",
          "output_type": "stream",
          "text": [
            "/usr/local/lib/python3.12/dist-packages/torch/nn/modules/transformer.py:392: UserWarning: enable_nested_tensor is True, but self.use_nested_tensor is False because encoder_layer.norm_first was True\n",
            "  warnings.warn(\n"
          ]
        },
        {
          "metadata": {
            "tags": null
          },
          "name": "stdout",
          "output_type": "stream",
          "text": [
            "  Epoch  10: Train Acc=0.9062, Val Acc=0.8968, F1=0.8994\n",
            "  Epoch  20: Train Acc=0.9360, Val Acc=0.9295, F1=0.9365\n",
            "  Epoch  30: Train Acc=0.9464, Val Acc=0.9357, F1=0.9424\n",
            "  Epoch  40: Train Acc=0.9468, Val Acc=0.9456, F1=0.9536\n",
            "  Epoch  50: Train Acc=0.9519, Val Acc=0.9419, F1=0.9507\n",
            "  Epoch  60: Train Acc=0.9515, Val Acc=0.9289, F1=0.9408\n",
            "  Epoch  70: Train Acc=0.9549, Val Acc=0.9444, F1=0.9529\n",
            "  Epoch  80: Train Acc=0.9559, Val Acc=0.9468, F1=0.9552\n",
            "  Early stopping at epoch 84\n",
            "  Best Val Acc: 0.9493\n",
            "\n",
            "[GAP Results]\n",
            "  Val Acc: 0.9493\n",
            "  Test Acc: 0.8960, F1: 0.8987\n",
            "\n",
            "[Training TPA]\n"
          ]
        },
        {
          "metadata": {
            "tags": null
          },
          "name": "stderr",
          "output_type": "stream",
          "text": [
            "/usr/local/lib/python3.12/dist-packages/torch/nn/modules/transformer.py:392: UserWarning: enable_nested_tensor is True, but self.use_nested_tensor is False because encoder_layer.norm_first was True\n",
            "  warnings.warn(\n"
          ]
        },
        {
          "metadata": {
            "tags": null
          },
          "name": "stdout",
          "output_type": "stream",
          "text": [
            "  Epoch  10: Train Acc=0.9093, Val Acc=0.9147, F1=0.9201\n",
            "  Epoch  20: Train Acc=0.9329, Val Acc=0.9289, F1=0.9354\n",
            "  Epoch  30: Train Acc=0.9437, Val Acc=0.9499, F1=0.9555\n",
            "  Epoch  40: Train Acc=0.9464, Val Acc=0.9431, F1=0.9496\n",
            "  Epoch  50: Train Acc=0.9487, Val Acc=0.9413, F1=0.9504\n",
            "  Epoch  60: Train Acc=0.9496, Val Acc=0.9499, F1=0.9565\n",
            "  Epoch  70: Train Acc=0.9522, Val Acc=0.9419, F1=0.9493\n",
            "  Early stopping at epoch 72\n",
            "  Best Val Acc: 0.9536\n",
            "\n",
            "[TPA Results]\n",
            "  Val Acc: 0.9536\n",
            "  Test Acc: 0.8849, F1: 0.8874\n",
            "\n",
            "[Training Gated-TPA]\n"
          ]
        },
        {
          "metadata": {
            "tags": null
          },
          "name": "stderr",
          "output_type": "stream",
          "text": [
            "/usr/local/lib/python3.12/dist-packages/torch/nn/modules/transformer.py:392: UserWarning: enable_nested_tensor is True, but self.use_nested_tensor is False because encoder_layer.norm_first was True\n",
            "  warnings.warn(\n"
          ]
        },
        {
          "metadata": {
            "tags": null
          },
          "name": "stdout",
          "output_type": "stream",
          "text": [
            "  Epoch  10: Train Acc=0.9090, Val Acc=0.8925, F1=0.8913\n",
            "  Epoch  20: Train Acc=0.9402, Val Acc=0.9512, F1=0.9557\n",
            "  Epoch  30: Train Acc=0.9493, Val Acc=0.9271, F1=0.9397\n",
            "  Epoch  40: Train Acc=0.9532, Val Acc=0.9339, F1=0.9456\n",
            "  Epoch  50: Train Acc=0.9524, Val Acc=0.9536, F1=0.9615\n",
            "  Epoch  60: Train Acc=0.9519, Val Acc=0.9308, F1=0.9439\n",
            "  Early stopping at epoch 65\n",
            "  Best Val Acc: 0.9574\n",
            "\n",
            "[Gated-TPA Results]\n",
            "  Val Acc: 0.9574\n",
            "  Test Acc: 0.8871, F1: 0.8907\n",
            "\n",
            "[Progress: 3/41]\n",
            "\n",
            "================================================================================\n",
            "EXPERIMENT: STANDING_TO_SITTING_20pct\n",
            "================================================================================\n",
            "\n",
            "Loading STANDING_TO_SITTING_20pct...\n",
            "  Path: /content/drive/MyDrive/AI_data/TPA2/uci_har_transition_datasets/STANDING_TO_SITTING_20pct\n",
            "  Train: (8087, 9, 128), Test: (3241, 9, 128)\n",
            "\n",
            "Dataset splits:\n",
            "  Train: 6469, Val: 1618, Test: 3241\n",
            "\n",
            "[Training GAP]\n"
          ]
        },
        {
          "metadata": {
            "tags": null
          },
          "name": "stderr",
          "output_type": "stream",
          "text": [
            "/usr/local/lib/python3.12/dist-packages/torch/nn/modules/transformer.py:392: UserWarning: enable_nested_tensor is True, but self.use_nested_tensor is False because encoder_layer.norm_first was True\n",
            "  warnings.warn(\n"
          ]
        },
        {
          "metadata": {
            "tags": null
          },
          "name": "stdout",
          "output_type": "stream",
          "text": [
            "  Epoch  10: Train Acc=0.9107, Val Acc=0.9054, F1=0.9082\n",
            "  Epoch  20: Train Acc=0.9332, Val Acc=0.9308, F1=0.9376\n",
            "  Epoch  30: Train Acc=0.9434, Val Acc=0.9438, F1=0.9495\n",
            "  Epoch  40: Train Acc=0.9471, Val Acc=0.9549, F1=0.9616\n",
            "  Epoch  50: Train Acc=0.9516, Val Acc=0.9431, F1=0.9526\n",
            "  Early stopping at epoch 54\n",
            "  Best Val Acc: 0.9567\n",
            "\n",
            "[GAP Results]\n",
            "  Val Acc: 0.9567\n",
            "  Test Acc: 0.8926, F1: 0.8967\n",
            "\n",
            "[Training TPA]\n"
          ]
        },
        {
          "metadata": {
            "tags": null
          },
          "name": "stderr",
          "output_type": "stream",
          "text": [
            "/usr/local/lib/python3.12/dist-packages/torch/nn/modules/transformer.py:392: UserWarning: enable_nested_tensor is True, but self.use_nested_tensor is False because encoder_layer.norm_first was True\n",
            "  warnings.warn(\n"
          ]
        },
        {
          "output_type": "stream",
          "name": "stdout",
          "text": [
            "  Epoch  10: Train Acc=0.9085, Val Acc=0.9190, F1=0.9228\n",
            "  Epoch  20: Train Acc=0.9391, Val Acc=0.9468, F1=0.9543\n",
            "  Epoch  30: Train Acc=0.9422, Val Acc=0.9382, F1=0.9445\n",
            "  Epoch  40: Train Acc=0.9457, Val Acc=0.9543, F1=0.9618\n",
            "  Epoch  50: Train Acc=0.9468, Val Acc=0.9561, F1=0.9629\n",
            "  Epoch  60: Train Acc=0.9496, Val Acc=0.9475, F1=0.9563\n",
            "  Epoch  70: Train Acc=0.9532, Val Acc=0.9462, F1=0.9551\n",
            "  Epoch  80: Train Acc=0.9539, Val Acc=0.9506, F1=0.9589\n",
            "  Early stopping at epoch 86\n",
            "  Best Val Acc: 0.9604\n",
            "\n",
            "[TPA Results]\n",
            "  Val Acc: 0.9604\n",
            "  Test Acc: 0.8942, F1: 0.8916\n",
            "\n",
            "[Training Gated-TPA]\n"
          ]
        },
        {
          "output_type": "stream",
          "name": "stderr",
          "text": [
            "/usr/local/lib/python3.12/dist-packages/torch/nn/modules/transformer.py:392: UserWarning: enable_nested_tensor is True, but self.use_nested_tensor is False because encoder_layer.norm_first was True\n",
            "  warnings.warn(\n"
          ]
        },
        {
          "output_type": "stream",
          "name": "stdout",
          "text": [
            "  Epoch  10: Train Acc=0.8994, Val Acc=0.9073, F1=0.9108\n",
            "  Epoch  20: Train Acc=0.9392, Val Acc=0.9444, F1=0.9510\n",
            "  Epoch  30: Train Acc=0.9454, Val Acc=0.9493, F1=0.9563\n",
            "  Epoch  40: Train Acc=0.9493, Val Acc=0.9567, F1=0.9631\n",
            "  Epoch  50: Train Acc=0.9482, Val Acc=0.9512, F1=0.9593\n",
            "  Epoch  60: Train Acc=0.9535, Val Acc=0.9481, F1=0.9548\n",
            "  Early stopping at epoch 67\n",
            "  Best Val Acc: 0.9604\n",
            "\n",
            "[Gated-TPA Results]\n",
            "  Val Acc: 0.9604\n",
            "  Test Acc: 0.8969, F1: 0.8997\n",
            "\n",
            "[Progress: 4/41]\n",
            "\n",
            "================================================================================\n",
            "EXPERIMENT: STANDING_TO_SITTING_30pct\n",
            "================================================================================\n",
            "\n",
            "Loading STANDING_TO_SITTING_30pct...\n",
            "  Path: /content/drive/MyDrive/AI_data/TPA2/uci_har_transition_datasets/STANDING_TO_SITTING_30pct\n",
            "  Train: (8087, 9, 128), Test: (3241, 9, 128)\n",
            "\n",
            "Dataset splits:\n",
            "  Train: 6469, Val: 1618, Test: 3241\n",
            "\n",
            "[Training GAP]\n"
          ]
        },
        {
          "output_type": "stream",
          "name": "stderr",
          "text": [
            "/usr/local/lib/python3.12/dist-packages/torch/nn/modules/transformer.py:392: UserWarning: enable_nested_tensor is True, but self.use_nested_tensor is False because encoder_layer.norm_first was True\n",
            "  warnings.warn(\n"
          ]
        },
        {
          "output_type": "stream",
          "name": "stdout",
          "text": [
            "  Epoch  10: Train Acc=0.9085, Val Acc=0.9159, F1=0.9183\n",
            "  Epoch  20: Train Acc=0.9383, Val Acc=0.9345, F1=0.9413\n",
            "  Epoch  30: Train Acc=0.9433, Val Acc=0.9400, F1=0.9464\n",
            "  Epoch  40: Train Acc=0.9468, Val Acc=0.9438, F1=0.9522\n",
            "  Epoch  50: Train Acc=0.9501, Val Acc=0.9450, F1=0.9535\n",
            "  Epoch  60: Train Acc=0.9512, Val Acc=0.9493, F1=0.9567\n",
            "  Epoch  70: Train Acc=0.9553, Val Acc=0.9444, F1=0.9526\n",
            "  Epoch  80: Train Acc=0.9524, Val Acc=0.9450, F1=0.9539\n",
            "  Epoch  90: Train Acc=0.9556, Val Acc=0.9506, F1=0.9581\n",
            "  Early stopping at epoch 93\n",
            "  Best Val Acc: 0.9524\n",
            "\n",
            "[GAP Results]\n",
            "  Val Acc: 0.9524\n",
            "  Test Acc: 0.8985, F1: 0.9009\n",
            "\n",
            "[Training TPA]\n"
          ]
        },
        {
          "output_type": "stream",
          "name": "stderr",
          "text": [
            "/usr/local/lib/python3.12/dist-packages/torch/nn/modules/transformer.py:392: UserWarning: enable_nested_tensor is True, but self.use_nested_tensor is False because encoder_layer.norm_first was True\n",
            "  warnings.warn(\n"
          ]
        },
        {
          "output_type": "stream",
          "name": "stdout",
          "text": [
            "  Epoch  10: Train Acc=0.9128, Val Acc=0.9159, F1=0.9194\n",
            "  Epoch  20: Train Acc=0.9414, Val Acc=0.9419, F1=0.9487\n",
            "  Epoch  30: Train Acc=0.9439, Val Acc=0.9246, F1=0.9381\n",
            "  Epoch  40: Train Acc=0.9482, Val Acc=0.9481, F1=0.9555\n",
            "  Epoch  50: Train Acc=0.9498, Val Acc=0.9499, F1=0.9570\n",
            "  Epoch  60: Train Acc=0.9512, Val Acc=0.9512, F1=0.9575\n",
            "  Epoch  70: Train Acc=0.9515, Val Acc=0.9518, F1=0.9588\n",
            "  Early stopping at epoch 74\n",
            "  Best Val Acc: 0.9530\n",
            "\n",
            "[TPA Results]\n",
            "  Val Acc: 0.9530\n",
            "  Test Acc: 0.8923, F1: 0.8942\n",
            "\n",
            "[Training Gated-TPA]\n"
          ]
        },
        {
          "output_type": "stream",
          "name": "stderr",
          "text": [
            "/usr/local/lib/python3.12/dist-packages/torch/nn/modules/transformer.py:392: UserWarning: enable_nested_tensor is True, but self.use_nested_tensor is False because encoder_layer.norm_first was True\n",
            "  warnings.warn(\n"
          ]
        },
        {
          "output_type": "stream",
          "name": "stdout",
          "text": [
            "  Epoch  10: Train Acc=0.9074, Val Acc=0.9240, F1=0.9279\n",
            "  Epoch  20: Train Acc=0.9399, Val Acc=0.9468, F1=0.9530\n",
            "  Epoch  30: Train Acc=0.9479, Val Acc=0.9450, F1=0.9520\n",
            "  Epoch  40: Train Acc=0.9505, Val Acc=0.9493, F1=0.9577\n",
            "  Epoch  50: Train Acc=0.9539, Val Acc=0.9543, F1=0.9617\n",
            "  Early stopping at epoch 58\n",
            "  Best Val Acc: 0.9580\n",
            "\n",
            "[Gated-TPA Results]\n",
            "  Val Acc: 0.9580\n",
            "  Test Acc: 0.8889, F1: 0.8943\n",
            "\n",
            "[Progress: 5/41]\n",
            "\n",
            "================================================================================\n",
            "EXPERIMENT: STANDING_TO_SITTING_40pct\n",
            "================================================================================\n",
            "\n",
            "Loading STANDING_TO_SITTING_40pct...\n",
            "  Path: /content/drive/MyDrive/AI_data/TPA2/uci_har_transition_datasets/STANDING_TO_SITTING_40pct\n",
            "  Train: (8087, 9, 128), Test: (3241, 9, 128)\n",
            "\n",
            "Dataset splits:\n",
            "  Train: 6469, Val: 1618, Test: 3241\n",
            "\n",
            "[Training GAP]\n"
          ]
        },
        {
          "output_type": "stream",
          "name": "stderr",
          "text": [
            "/usr/local/lib/python3.12/dist-packages/torch/nn/modules/transformer.py:392: UserWarning: enable_nested_tensor is True, but self.use_nested_tensor is False because encoder_layer.norm_first was True\n",
            "  warnings.warn(\n"
          ]
        },
        {
          "output_type": "stream",
          "name": "stdout",
          "text": [
            "  Epoch  10: Train Acc=0.9043, Val Acc=0.9227, F1=0.9248\n",
            "  Epoch  20: Train Acc=0.9348, Val Acc=0.9357, F1=0.9420\n",
            "  Epoch  30: Train Acc=0.9451, Val Acc=0.9425, F1=0.9491\n",
            "  Epoch  40: Train Acc=0.9431, Val Acc=0.9512, F1=0.9578\n",
            "  Epoch  50: Train Acc=0.9467, Val Acc=0.9388, F1=0.9473\n",
            "  Epoch  60: Train Acc=0.9498, Val Acc=0.9456, F1=0.9531\n",
            "  Epoch  70: Train Acc=0.9522, Val Acc=0.9394, F1=0.9491\n",
            "  Early stopping at epoch 78\n",
            "  Best Val Acc: 0.9567\n",
            "\n",
            "[GAP Results]\n",
            "  Val Acc: 0.9567\n",
            "  Test Acc: 0.8979, F1: 0.8971\n",
            "\n",
            "[Training TPA]\n"
          ]
        },
        {
          "output_type": "stream",
          "name": "stderr",
          "text": [
            "/usr/local/lib/python3.12/dist-packages/torch/nn/modules/transformer.py:392: UserWarning: enable_nested_tensor is True, but self.use_nested_tensor is False because encoder_layer.norm_first was True\n",
            "  warnings.warn(\n"
          ]
        },
        {
          "output_type": "stream",
          "name": "stdout",
          "text": [
            "  Epoch  10: Train Acc=0.8997, Val Acc=0.9073, F1=0.9080\n",
            "  Epoch  20: Train Acc=0.9362, Val Acc=0.9518, F1=0.9577\n",
            "  Epoch  30: Train Acc=0.9443, Val Acc=0.9289, F1=0.9407\n",
            "  Epoch  40: Train Acc=0.9450, Val Acc=0.9487, F1=0.9540\n",
            "  Early stopping at epoch 40\n",
            "  Best Val Acc: 0.9518\n",
            "\n",
            "[TPA Results]\n",
            "  Val Acc: 0.9518\n",
            "  Test Acc: 0.8750, F1: 0.8769\n",
            "\n",
            "[Training Gated-TPA]\n"
          ]
        },
        {
          "output_type": "stream",
          "name": "stderr",
          "text": [
            "/usr/local/lib/python3.12/dist-packages/torch/nn/modules/transformer.py:392: UserWarning: enable_nested_tensor is True, but self.use_nested_tensor is False because encoder_layer.norm_first was True\n",
            "  warnings.warn(\n"
          ]
        },
        {
          "output_type": "stream",
          "name": "stdout",
          "text": [
            "  Epoch  10: Train Acc=0.9069, Val Acc=0.9227, F1=0.9248\n",
            "  Epoch  20: Train Acc=0.9389, Val Acc=0.9456, F1=0.9522\n",
            "  Epoch  30: Train Acc=0.9470, Val Acc=0.9506, F1=0.9568\n",
            "  Epoch  40: Train Acc=0.9482, Val Acc=0.9530, F1=0.9597\n",
            "  Epoch  50: Train Acc=0.9505, Val Acc=0.9586, F1=0.9645\n",
            "  Epoch  60: Train Acc=0.9522, Val Acc=0.9598, F1=0.9658\n",
            "  Epoch  70: Train Acc=0.9561, Val Acc=0.9524, F1=0.9609\n",
            "  Epoch  80: Train Acc=0.9569, Val Acc=0.9499, F1=0.9584\n",
            "  Early stopping at epoch 84\n",
            "  Best Val Acc: 0.9611\n",
            "\n",
            "[Gated-TPA Results]\n",
            "  Val Acc: 0.9611\n",
            "  Test Acc: 0.8951, F1: 0.8973\n",
            "\n",
            "[Progress: 6/41]\n",
            "\n",
            "================================================================================\n",
            "EXPERIMENT: STANDING_TO_LAYING_10pct\n",
            "================================================================================\n",
            "\n",
            "Loading STANDING_TO_LAYING_10pct...\n",
            "  Path: /content/drive/MyDrive/AI_data/TPA2/uci_har_transition_datasets/STANDING_TO_LAYING_10pct\n",
            "  Train: (8087, 9, 128), Test: (3241, 9, 128)\n",
            "\n",
            "Dataset splits:\n",
            "  Train: 6469, Val: 1618, Test: 3241\n",
            "\n",
            "[Training GAP]\n"
          ]
        },
        {
          "output_type": "stream",
          "name": "stderr",
          "text": [
            "/usr/local/lib/python3.12/dist-packages/torch/nn/modules/transformer.py:392: UserWarning: enable_nested_tensor is True, but self.use_nested_tensor is False because encoder_layer.norm_first was True\n",
            "  warnings.warn(\n"
          ]
        },
        {
          "output_type": "stream",
          "name": "stdout",
          "text": [
            "  Epoch  10: Train Acc=0.9196, Val Acc=0.9159, F1=0.9168\n",
            "  Epoch  20: Train Acc=0.9462, Val Acc=0.9438, F1=0.9488\n",
            "  Epoch  30: Train Acc=0.9532, Val Acc=0.9462, F1=0.9514\n",
            "  Epoch  40: Train Acc=0.9542, Val Acc=0.9611, F1=0.9659\n",
            "  Early stopping at epoch 47\n",
            "  Best Val Acc: 0.9617\n",
            "\n",
            "[GAP Results]\n",
            "  Val Acc: 0.9617\n",
            "  Test Acc: 0.8973, F1: 0.8984\n",
            "\n",
            "[Training TPA]\n"
          ]
        },
        {
          "output_type": "stream",
          "name": "stderr",
          "text": [
            "/usr/local/lib/python3.12/dist-packages/torch/nn/modules/transformer.py:392: UserWarning: enable_nested_tensor is True, but self.use_nested_tensor is False because encoder_layer.norm_first was True\n",
            "  warnings.warn(\n"
          ]
        },
        {
          "output_type": "stream",
          "name": "stdout",
          "text": [
            "  Epoch  10: Train Acc=0.9154, Val Acc=0.9382, F1=0.9392\n",
            "  Epoch  20: Train Acc=0.9454, Val Acc=0.9438, F1=0.9508\n",
            "  Epoch  30: Train Acc=0.9529, Val Acc=0.9623, F1=0.9663\n",
            "  Epoch  40: Train Acc=0.9533, Val Acc=0.9617, F1=0.9662\n",
            "  Epoch  50: Train Acc=0.9581, Val Acc=0.9580, F1=0.9639\n",
            "  Epoch  60: Train Acc=0.9573, Val Acc=0.9493, F1=0.9554\n",
            "  Early stopping at epoch 62\n",
            "  Best Val Acc: 0.9635\n",
            "\n",
            "[TPA Results]\n",
            "  Val Acc: 0.9635\n",
            "  Test Acc: 0.9037, F1: 0.9051\n",
            "\n",
            "[Training Gated-TPA]\n"
          ]
        },
        {
          "output_type": "stream",
          "name": "stderr",
          "text": [
            "/usr/local/lib/python3.12/dist-packages/torch/nn/modules/transformer.py:392: UserWarning: enable_nested_tensor is True, but self.use_nested_tensor is False because encoder_layer.norm_first was True\n",
            "  warnings.warn(\n"
          ]
        },
        {
          "output_type": "stream",
          "name": "stdout",
          "text": [
            "  Epoch  10: Train Acc=0.9328, Val Acc=0.9314, F1=0.9335\n",
            "  Epoch  20: Train Acc=0.9439, Val Acc=0.9506, F1=0.9561\n",
            "  Epoch  30: Train Acc=0.9532, Val Acc=0.9592, F1=0.9644\n",
            "  Epoch  40: Train Acc=0.9556, Val Acc=0.9549, F1=0.9627\n",
            "  Epoch  50: Train Acc=0.9564, Val Acc=0.9462, F1=0.9517\n",
            "  Early stopping at epoch 58\n",
            "  Best Val Acc: 0.9660\n",
            "\n",
            "[Gated-TPA Results]\n",
            "  Val Acc: 0.9660\n",
            "  Test Acc: 0.9034, F1: 0.9052\n",
            "\n",
            "[Progress: 7/41]\n",
            "\n",
            "================================================================================\n",
            "EXPERIMENT: STANDING_TO_LAYING_20pct\n",
            "================================================================================\n",
            "\n",
            "Loading STANDING_TO_LAYING_20pct...\n",
            "  Path: /content/drive/MyDrive/AI_data/TPA2/uci_har_transition_datasets/STANDING_TO_LAYING_20pct\n",
            "  Train: (8087, 9, 128), Test: (3241, 9, 128)\n",
            "\n",
            "Dataset splits:\n",
            "  Train: 6469, Val: 1618, Test: 3241\n",
            "\n",
            "[Training GAP]\n"
          ]
        },
        {
          "output_type": "stream",
          "name": "stderr",
          "text": [
            "/usr/local/lib/python3.12/dist-packages/torch/nn/modules/transformer.py:392: UserWarning: enable_nested_tensor is True, but self.use_nested_tensor is False because encoder_layer.norm_first was True\n",
            "  warnings.warn(\n"
          ]
        },
        {
          "output_type": "stream",
          "name": "stdout",
          "text": [
            "  Epoch  10: Train Acc=0.9249, Val Acc=0.9091, F1=0.9140\n",
            "  Epoch  20: Train Acc=0.9457, Val Acc=0.9431, F1=0.9488\n",
            "  Epoch  30: Train Acc=0.9558, Val Acc=0.9357, F1=0.9424\n",
            "  Epoch  40: Train Acc=0.9567, Val Acc=0.9524, F1=0.9600\n",
            "  Epoch  50: Train Acc=0.9600, Val Acc=0.9493, F1=0.9568\n",
            "  Epoch  60: Train Acc=0.9601, Val Acc=0.9425, F1=0.9505\n",
            "  Early stopping at epoch 60\n",
            "  Best Val Acc: 0.9524\n",
            "\n",
            "[GAP Results]\n",
            "  Val Acc: 0.9524\n",
            "  Test Acc: 0.8985, F1: 0.9004\n",
            "\n",
            "[Training TPA]\n"
          ]
        },
        {
          "output_type": "stream",
          "name": "stderr",
          "text": [
            "/usr/local/lib/python3.12/dist-packages/torch/nn/modules/transformer.py:392: UserWarning: enable_nested_tensor is True, but self.use_nested_tensor is False because encoder_layer.norm_first was True\n",
            "  warnings.warn(\n"
          ]
        },
        {
          "output_type": "stream",
          "name": "stdout",
          "text": [
            "  Epoch  10: Train Acc=0.9119, Val Acc=0.8968, F1=0.8941\n",
            "  Epoch  20: Train Acc=0.9505, Val Acc=0.9499, F1=0.9560\n",
            "  Epoch  30: Train Acc=0.9559, Val Acc=0.9487, F1=0.9564\n",
            "  Epoch  40: Train Acc=0.9587, Val Acc=0.9512, F1=0.9588\n",
            "  Epoch  50: Train Acc=0.9586, Val Acc=0.9444, F1=0.9519\n",
            "  Epoch  60: Train Acc=0.9586, Val Acc=0.9468, F1=0.9554\n",
            "  Early stopping at epoch 67\n",
            "  Best Val Acc: 0.9549\n",
            "\n",
            "[TPA Results]\n",
            "  Val Acc: 0.9549\n",
            "  Test Acc: 0.9019, F1: 0.9021\n",
            "\n",
            "[Training Gated-TPA]\n"
          ]
        },
        {
          "output_type": "stream",
          "name": "stderr",
          "text": [
            "/usr/local/lib/python3.12/dist-packages/torch/nn/modules/transformer.py:392: UserWarning: enable_nested_tensor is True, but self.use_nested_tensor is False because encoder_layer.norm_first was True\n",
            "  warnings.warn(\n"
          ]
        },
        {
          "output_type": "stream",
          "name": "stdout",
          "text": [
            "  Epoch  10: Train Acc=0.9286, Val Acc=0.9197, F1=0.9290\n",
            "  Epoch  20: Train Acc=0.9513, Val Acc=0.9221, F1=0.9347\n",
            "  Epoch  30: Train Acc=0.9586, Val Acc=0.9320, F1=0.9439\n",
            "  Epoch  40: Train Acc=0.9573, Val Acc=0.9524, F1=0.9599\n",
            "  Epoch  50: Train Acc=0.9592, Val Acc=0.9487, F1=0.9557\n",
            "  Early stopping at epoch 53\n",
            "  Best Val Acc: 0.9580\n",
            "\n",
            "[Gated-TPA Results]\n",
            "  Val Acc: 0.9580\n",
            "  Test Acc: 0.8997, F1: 0.9017\n",
            "\n",
            "[Progress: 8/41]\n",
            "\n",
            "================================================================================\n",
            "EXPERIMENT: STANDING_TO_LAYING_30pct\n",
            "================================================================================\n",
            "\n",
            "Loading STANDING_TO_LAYING_30pct...\n",
            "  Path: /content/drive/MyDrive/AI_data/TPA2/uci_har_transition_datasets/STANDING_TO_LAYING_30pct\n",
            "  Train: (8087, 9, 128), Test: (3241, 9, 128)\n",
            "\n",
            "Dataset splits:\n",
            "  Train: 6469, Val: 1618, Test: 3241\n",
            "\n",
            "[Training GAP]\n"
          ]
        },
        {
          "output_type": "stream",
          "name": "stderr",
          "text": [
            "/usr/local/lib/python3.12/dist-packages/torch/nn/modules/transformer.py:392: UserWarning: enable_nested_tensor is True, but self.use_nested_tensor is False because encoder_layer.norm_first was True\n",
            "  warnings.warn(\n"
          ]
        },
        {
          "output_type": "stream",
          "name": "stdout",
          "text": [
            "  Epoch  10: Train Acc=0.9222, Val Acc=0.9116, F1=0.9147\n",
            "  Epoch  20: Train Acc=0.9447, Val Acc=0.9370, F1=0.9425\n",
            "  Epoch  30: Train Acc=0.9532, Val Acc=0.9363, F1=0.9417\n",
            "  Epoch  40: Train Acc=0.9552, Val Acc=0.9518, F1=0.9567\n",
            "  Epoch  50: Train Acc=0.9586, Val Acc=0.9543, F1=0.9598\n",
            "  Epoch  60: Train Acc=0.9598, Val Acc=0.9574, F1=0.9623\n",
            "  Epoch  70: Train Acc=0.9587, Val Acc=0.9524, F1=0.9571\n",
            "  Epoch  80: Train Acc=0.9590, Val Acc=0.9592, F1=0.9644\n",
            "  Epoch  90: Train Acc=0.9632, Val Acc=0.9617, F1=0.9668\n",
            "  Early stopping at epoch 95\n",
            "  Best Val Acc: 0.9629\n",
            "\n",
            "[GAP Results]\n",
            "  Val Acc: 0.9629\n",
            "  Test Acc: 0.9118, F1: 0.9115\n",
            "\n",
            "[Training TPA]\n"
          ]
        },
        {
          "output_type": "stream",
          "name": "stderr",
          "text": [
            "/usr/local/lib/python3.12/dist-packages/torch/nn/modules/transformer.py:392: UserWarning: enable_nested_tensor is True, but self.use_nested_tensor is False because encoder_layer.norm_first was True\n",
            "  warnings.warn(\n"
          ]
        },
        {
          "output_type": "stream",
          "name": "stdout",
          "text": [
            "  Epoch  10: Train Acc=0.9107, Val Acc=0.8937, F1=0.8918\n",
            "  Epoch  20: Train Acc=0.9461, Val Acc=0.9530, F1=0.9585\n",
            "  Epoch  30: Train Acc=0.9546, Val Acc=0.9561, F1=0.9618\n",
            "  Epoch  40: Train Acc=0.9541, Val Acc=0.9536, F1=0.9600\n",
            "  Epoch  50: Train Acc=0.9583, Val Acc=0.9425, F1=0.9525\n",
            "  Epoch  60: Train Acc=0.9606, Val Acc=0.9530, F1=0.9608\n",
            "  Early stopping at epoch 62\n",
            "  Best Val Acc: 0.9592\n",
            "\n",
            "[TPA Results]\n",
            "  Val Acc: 0.9592\n",
            "  Test Acc: 0.9000, F1: 0.9012\n",
            "\n",
            "[Training Gated-TPA]\n"
          ]
        },
        {
          "output_type": "stream",
          "name": "stderr",
          "text": [
            "/usr/local/lib/python3.12/dist-packages/torch/nn/modules/transformer.py:392: UserWarning: enable_nested_tensor is True, but self.use_nested_tensor is False because encoder_layer.norm_first was True\n",
            "  warnings.warn(\n"
          ]
        },
        {
          "output_type": "stream",
          "name": "stdout",
          "text": [
            "  Epoch  10: Train Acc=0.9304, Val Acc=0.9376, F1=0.9426\n",
            "  Epoch  20: Train Acc=0.9498, Val Acc=0.9555, F1=0.9612\n",
            "  Epoch  30: Train Acc=0.9527, Val Acc=0.9586, F1=0.9648\n",
            "  Epoch  40: Train Acc=0.9569, Val Acc=0.9598, F1=0.9655\n",
            "  Epoch  50: Train Acc=0.9569, Val Acc=0.9506, F1=0.9570\n",
            "  Epoch  60: Train Acc=0.9576, Val Acc=0.9499, F1=0.9582\n",
            "  Early stopping at epoch 60\n",
            "  Best Val Acc: 0.9598\n",
            "\n",
            "[Gated-TPA Results]\n",
            "  Val Acc: 0.9598\n",
            "  Test Acc: 0.9034, F1: 0.9054\n",
            "\n",
            "[Progress: 9/41]\n",
            "\n",
            "================================================================================\n",
            "EXPERIMENT: STANDING_TO_LAYING_40pct\n",
            "================================================================================\n",
            "\n",
            "Loading STANDING_TO_LAYING_40pct...\n",
            "  Path: /content/drive/MyDrive/AI_data/TPA2/uci_har_transition_datasets/STANDING_TO_LAYING_40pct\n",
            "  Train: (8087, 9, 128), Test: (3241, 9, 128)\n",
            "\n",
            "Dataset splits:\n",
            "  Train: 6469, Val: 1618, Test: 3241\n",
            "\n",
            "[Training GAP]\n"
          ]
        },
        {
          "output_type": "stream",
          "name": "stderr",
          "text": [
            "/usr/local/lib/python3.12/dist-packages/torch/nn/modules/transformer.py:392: UserWarning: enable_nested_tensor is True, but self.use_nested_tensor is False because encoder_layer.norm_first was True\n",
            "  warnings.warn(\n"
          ]
        },
        {
          "output_type": "stream",
          "name": "stdout",
          "text": [
            "  Epoch  10: Train Acc=0.9261, Val Acc=0.9190, F1=0.9206\n",
            "  Epoch  20: Train Acc=0.9482, Val Acc=0.9444, F1=0.9495\n",
            "  Epoch  30: Train Acc=0.9524, Val Acc=0.9438, F1=0.9479\n",
            "  Epoch  40: Train Acc=0.9550, Val Acc=0.9499, F1=0.9556\n",
            "  Epoch  50: Train Acc=0.9547, Val Acc=0.9536, F1=0.9597\n",
            "  Epoch  60: Train Acc=0.9553, Val Acc=0.9536, F1=0.9590\n",
            "  Epoch  70: Train Acc=0.9589, Val Acc=0.9499, F1=0.9570\n",
            "  Epoch  80: Train Acc=0.9587, Val Acc=0.9561, F1=0.9617\n",
            "  Epoch  90: Train Acc=0.9590, Val Acc=0.9598, F1=0.9647\n",
            "  Epoch 100: Train Acc=0.9634, Val Acc=0.9555, F1=0.9613\n",
            "  Best Val Acc: 0.9604\n",
            "\n",
            "[GAP Results]\n",
            "  Val Acc: 0.9604\n",
            "  Test Acc: 0.9077, F1: 0.9079\n",
            "\n",
            "[Training TPA]\n"
          ]
        },
        {
          "output_type": "stream",
          "name": "stderr",
          "text": [
            "/usr/local/lib/python3.12/dist-packages/torch/nn/modules/transformer.py:392: UserWarning: enable_nested_tensor is True, but self.use_nested_tensor is False because encoder_layer.norm_first was True\n",
            "  warnings.warn(\n"
          ]
        },
        {
          "output_type": "stream",
          "name": "stdout",
          "text": [
            "  Epoch  10: Train Acc=0.9102, Val Acc=0.9073, F1=0.9030\n",
            "  Epoch  20: Train Acc=0.9439, Val Acc=0.9481, F1=0.9523\n",
            "  Epoch  30: Train Acc=0.9521, Val Acc=0.9425, F1=0.9472\n",
            "  Epoch  40: Train Acc=0.9558, Val Acc=0.9567, F1=0.9630\n",
            "  Epoch  50: Train Acc=0.9567, Val Acc=0.9567, F1=0.9627\n",
            "  Epoch  60: Train Acc=0.9567, Val Acc=0.9499, F1=0.9578\n",
            "  Early stopping at epoch 60\n",
            "  Best Val Acc: 0.9567\n",
            "\n",
            "[TPA Results]\n",
            "  Val Acc: 0.9567\n",
            "  Test Acc: 0.8923, F1: 0.8921\n",
            "\n",
            "[Training Gated-TPA]\n"
          ]
        },
        {
          "output_type": "stream",
          "name": "stderr",
          "text": [
            "/usr/local/lib/python3.12/dist-packages/torch/nn/modules/transformer.py:392: UserWarning: enable_nested_tensor is True, but self.use_nested_tensor is False because encoder_layer.norm_first was True\n",
            "  warnings.warn(\n"
          ]
        },
        {
          "output_type": "stream",
          "name": "stdout",
          "text": [
            "  Epoch  10: Train Acc=0.9281, Val Acc=0.9419, F1=0.9433\n",
            "  Epoch  20: Train Acc=0.9487, Val Acc=0.9518, F1=0.9562\n",
            "  Epoch  30: Train Acc=0.9519, Val Acc=0.9456, F1=0.9528\n",
            "  Epoch  40: Train Acc=0.9567, Val Acc=0.9499, F1=0.9574\n",
            "  Early stopping at epoch 49\n",
            "  Best Val Acc: 0.9574\n",
            "\n",
            "[Gated-TPA Results]\n",
            "  Val Acc: 0.9574\n",
            "  Test Acc: 0.8936, F1: 0.8936\n",
            "\n",
            "[Progress: 10/41]\n",
            "\n",
            "================================================================================\n",
            "EXPERIMENT: SITTING_TO_LAYING_10pct\n",
            "================================================================================\n",
            "\n",
            "Loading SITTING_TO_LAYING_10pct...\n",
            "  Path: /content/drive/MyDrive/AI_data/TPA2/uci_har_transition_datasets/SITTING_TO_LAYING_10pct\n",
            "  Train: (8087, 9, 128), Test: (3241, 9, 128)\n",
            "\n",
            "Dataset splits:\n",
            "  Train: 6469, Val: 1618, Test: 3241\n",
            "\n",
            "[Training GAP]\n"
          ]
        },
        {
          "output_type": "stream",
          "name": "stderr",
          "text": [
            "/usr/local/lib/python3.12/dist-packages/torch/nn/modules/transformer.py:392: UserWarning: enable_nested_tensor is True, but self.use_nested_tensor is False because encoder_layer.norm_first was True\n",
            "  warnings.warn(\n"
          ]
        },
        {
          "output_type": "stream",
          "name": "stdout",
          "text": [
            "  Epoch  10: Train Acc=0.9144, Val Acc=0.9073, F1=0.9104\n",
            "  Epoch  20: Train Acc=0.9470, Val Acc=0.9407, F1=0.9470\n",
            "  Epoch  30: Train Acc=0.9542, Val Acc=0.9394, F1=0.9481\n",
            "  Epoch  40: Train Acc=0.9555, Val Acc=0.9444, F1=0.9523\n",
            "  Epoch  50: Train Acc=0.9567, Val Acc=0.9438, F1=0.9528\n",
            "  Epoch  60: Train Acc=0.9564, Val Acc=0.9499, F1=0.9575\n",
            "  Early stopping at epoch 65\n",
            "  Best Val Acc: 0.9586\n",
            "\n",
            "[GAP Results]\n",
            "  Val Acc: 0.9586\n",
            "  Test Acc: 0.9068, F1: 0.9105\n",
            "\n",
            "[Training TPA]\n"
          ]
        },
        {
          "output_type": "stream",
          "name": "stderr",
          "text": [
            "/usr/local/lib/python3.12/dist-packages/torch/nn/modules/transformer.py:392: UserWarning: enable_nested_tensor is True, but self.use_nested_tensor is False because encoder_layer.norm_first was True\n",
            "  warnings.warn(\n"
          ]
        },
        {
          "output_type": "stream",
          "name": "stdout",
          "text": [
            "  Epoch  10: Train Acc=0.9215, Val Acc=0.9258, F1=0.9300\n",
            "  Epoch  20: Train Acc=0.9464, Val Acc=0.9394, F1=0.9457\n",
            "  Epoch  30: Train Acc=0.9507, Val Acc=0.9574, F1=0.9619\n",
            "  Epoch  40: Train Acc=0.9544, Val Acc=0.9413, F1=0.9495\n",
            "  Epoch  50: Train Acc=0.9572, Val Acc=0.9617, F1=0.9667\n",
            "  Epoch  60: Train Acc=0.9552, Val Acc=0.9530, F1=0.9583\n",
            "  Early stopping at epoch 65\n",
            "  Best Val Acc: 0.9629\n",
            "\n",
            "[TPA Results]\n",
            "  Val Acc: 0.9629\n",
            "  Test Acc: 0.8976, F1: 0.9003\n",
            "\n",
            "[Training Gated-TPA]\n"
          ]
        },
        {
          "output_type": "stream",
          "name": "stderr",
          "text": [
            "/usr/local/lib/python3.12/dist-packages/torch/nn/modules/transformer.py:392: UserWarning: enable_nested_tensor is True, but self.use_nested_tensor is False because encoder_layer.norm_first was True\n",
            "  warnings.warn(\n"
          ]
        },
        {
          "output_type": "stream",
          "name": "stdout",
          "text": [
            "  Epoch  10: Train Acc=0.9154, Val Acc=0.9073, F1=0.9079\n",
            "  Epoch  20: Train Acc=0.9464, Val Acc=0.9468, F1=0.9516\n",
            "  Epoch  30: Train Acc=0.9563, Val Acc=0.9481, F1=0.9553\n",
            "  Epoch  40: Train Acc=0.9578, Val Acc=0.9598, F1=0.9657\n",
            "  Epoch  50: Train Acc=0.9578, Val Acc=0.9530, F1=0.9607\n",
            "  Epoch  60: Train Acc=0.9584, Val Acc=0.9549, F1=0.9620\n",
            "  Epoch  70: Train Acc=0.9604, Val Acc=0.9623, F1=0.9675\n",
            "  Epoch  80: Train Acc=0.9603, Val Acc=0.9574, F1=0.9631\n",
            "  Epoch  90: Train Acc=0.9624, Val Acc=0.9611, F1=0.9664\n",
            "  Epoch 100: Train Acc=0.9660, Val Acc=0.9629, F1=0.9683\n",
            "  Best Val Acc: 0.9660\n",
            "\n",
            "[Gated-TPA Results]\n",
            "  Val Acc: 0.9660\n",
            "  Test Acc: 0.9000, F1: 0.9055\n",
            "\n",
            "[Progress: 11/41]\n",
            "\n",
            "================================================================================\n",
            "EXPERIMENT: SITTING_TO_LAYING_20pct\n",
            "================================================================================\n",
            "\n",
            "Loading SITTING_TO_LAYING_20pct...\n",
            "  Path: /content/drive/MyDrive/AI_data/TPA2/uci_har_transition_datasets/SITTING_TO_LAYING_20pct\n",
            "  Train: (8087, 9, 128), Test: (3241, 9, 128)\n",
            "\n",
            "Dataset splits:\n",
            "  Train: 6469, Val: 1618, Test: 3241\n",
            "\n",
            "[Training GAP]\n"
          ]
        },
        {
          "output_type": "stream",
          "name": "stderr",
          "text": [
            "/usr/local/lib/python3.12/dist-packages/torch/nn/modules/transformer.py:392: UserWarning: enable_nested_tensor is True, but self.use_nested_tensor is False because encoder_layer.norm_first was True\n",
            "  warnings.warn(\n"
          ]
        },
        {
          "output_type": "stream",
          "name": "stdout",
          "text": [
            "  Epoch  10: Train Acc=0.9224, Val Acc=0.9246, F1=0.9305\n",
            "  Epoch  20: Train Acc=0.9481, Val Acc=0.9413, F1=0.9482\n",
            "  Epoch  30: Train Acc=0.9539, Val Acc=0.9444, F1=0.9528\n",
            "  Epoch  40: Train Acc=0.9580, Val Acc=0.9413, F1=0.9515\n",
            "  Epoch  50: Train Acc=0.9578, Val Acc=0.9580, F1=0.9643\n",
            "  Epoch  60: Train Acc=0.9580, Val Acc=0.9586, F1=0.9654\n",
            "  Epoch  70: Train Acc=0.9573, Val Acc=0.9555, F1=0.9625\n",
            "  Early stopping at epoch 78\n",
            "  Best Val Acc: 0.9586\n",
            "\n",
            "[GAP Results]\n",
            "  Val Acc: 0.9586\n",
            "  Test Acc: 0.9155, F1: 0.9183\n",
            "\n",
            "[Training TPA]\n"
          ]
        },
        {
          "output_type": "stream",
          "name": "stderr",
          "text": [
            "/usr/local/lib/python3.12/dist-packages/torch/nn/modules/transformer.py:392: UserWarning: enable_nested_tensor is True, but self.use_nested_tensor is False because encoder_layer.norm_first was True\n",
            "  warnings.warn(\n"
          ]
        },
        {
          "output_type": "stream",
          "name": "stdout",
          "text": [
            "  Epoch  10: Train Acc=0.9159, Val Acc=0.9320, F1=0.9342\n",
            "  Epoch  20: Train Acc=0.9481, Val Acc=0.9283, F1=0.9337\n",
            "  Epoch  30: Train Acc=0.9536, Val Acc=0.9530, F1=0.9596\n",
            "  Epoch  40: Train Acc=0.9589, Val Acc=0.9543, F1=0.9609\n",
            "  Epoch  50: Train Acc=0.9576, Val Acc=0.9450, F1=0.9540\n",
            "  Epoch  60: Train Acc=0.9606, Val Acc=0.9561, F1=0.9624\n",
            "  Early stopping at epoch 64\n",
            "  Best Val Acc: 0.9592\n",
            "\n",
            "[TPA Results]\n",
            "  Val Acc: 0.9592\n",
            "  Test Acc: 0.8942, F1: 0.8951\n",
            "\n",
            "[Training Gated-TPA]\n"
          ]
        },
        {
          "output_type": "stream",
          "name": "stderr",
          "text": [
            "/usr/local/lib/python3.12/dist-packages/torch/nn/modules/transformer.py:392: UserWarning: enable_nested_tensor is True, but self.use_nested_tensor is False because encoder_layer.norm_first was True\n",
            "  warnings.warn(\n"
          ]
        },
        {
          "output_type": "stream",
          "name": "stdout",
          "text": [
            "  Epoch  10: Train Acc=0.9048, Val Acc=0.9159, F1=0.9152\n",
            "  Epoch  20: Train Acc=0.9451, Val Acc=0.9475, F1=0.9519\n",
            "  Epoch  30: Train Acc=0.9555, Val Acc=0.9549, F1=0.9604\n",
            "  Epoch  40: Train Acc=0.9584, Val Acc=0.9524, F1=0.9582\n",
            "  Epoch  50: Train Acc=0.9583, Val Acc=0.9574, F1=0.9628\n",
            "  Epoch  60: Train Acc=0.9604, Val Acc=0.9413, F1=0.9480\n",
            "  Epoch  70: Train Acc=0.9597, Val Acc=0.9580, F1=0.9644\n",
            "  Epoch  80: Train Acc=0.9618, Val Acc=0.9462, F1=0.9528\n",
            "  Epoch  90: Train Acc=0.9617, Val Acc=0.9524, F1=0.9588\n",
            "  Early stopping at epoch 90\n",
            "  Best Val Acc: 0.9580\n",
            "\n",
            "[Gated-TPA Results]\n",
            "  Val Acc: 0.9580\n",
            "  Test Acc: 0.9151, F1: 0.9195\n",
            "\n",
            "[Progress: 12/41]\n",
            "\n",
            "================================================================================\n",
            "EXPERIMENT: SITTING_TO_LAYING_30pct\n",
            "================================================================================\n",
            "\n",
            "Loading SITTING_TO_LAYING_30pct...\n",
            "  Path: /content/drive/MyDrive/AI_data/TPA2/uci_har_transition_datasets/SITTING_TO_LAYING_30pct\n",
            "  Train: (8087, 9, 128), Test: (3241, 9, 128)\n",
            "\n",
            "Dataset splits:\n",
            "  Train: 6469, Val: 1618, Test: 3241\n",
            "\n",
            "[Training GAP]\n"
          ]
        },
        {
          "output_type": "stream",
          "name": "stderr",
          "text": [
            "/usr/local/lib/python3.12/dist-packages/torch/nn/modules/transformer.py:392: UserWarning: enable_nested_tensor is True, but self.use_nested_tensor is False because encoder_layer.norm_first was True\n",
            "  warnings.warn(\n"
          ]
        },
        {
          "output_type": "stream",
          "name": "stdout",
          "text": [
            "  Epoch  10: Train Acc=0.9182, Val Acc=0.9271, F1=0.9336\n",
            "  Epoch  20: Train Acc=0.9451, Val Acc=0.9370, F1=0.9457\n",
            "  Epoch  30: Train Acc=0.9499, Val Acc=0.9419, F1=0.9516\n",
            "  Epoch  40: Train Acc=0.9564, Val Acc=0.9530, F1=0.9606\n",
            "  Epoch  50: Train Acc=0.9547, Val Acc=0.9512, F1=0.9590\n",
            "  Epoch  60: Train Acc=0.9550, Val Acc=0.9580, F1=0.9644\n",
            "  Early stopping at epoch 62\n",
            "  Best Val Acc: 0.9660\n",
            "\n",
            "[GAP Results]\n",
            "  Val Acc: 0.9660\n",
            "  Test Acc: 0.9136, F1: 0.9173\n",
            "\n",
            "[Training TPA]\n"
          ]
        },
        {
          "output_type": "stream",
          "name": "stderr",
          "text": [
            "/usr/local/lib/python3.12/dist-packages/torch/nn/modules/transformer.py:392: UserWarning: enable_nested_tensor is True, but self.use_nested_tensor is False because encoder_layer.norm_first was True\n",
            "  warnings.warn(\n"
          ]
        },
        {
          "output_type": "stream",
          "name": "stdout",
          "text": [
            "  Epoch  10: Train Acc=0.9238, Val Acc=0.9302, F1=0.9351\n",
            "  Epoch  20: Train Acc=0.9476, Val Acc=0.9351, F1=0.9436\n",
            "  Epoch  30: Train Acc=0.9536, Val Acc=0.9611, F1=0.9665\n",
            "  Epoch  40: Train Acc=0.9529, Val Acc=0.9611, F1=0.9655\n",
            "  Epoch  50: Train Acc=0.9544, Val Acc=0.9574, F1=0.9638\n",
            "  Early stopping at epoch 51\n",
            "  Best Val Acc: 0.9648\n",
            "\n",
            "[TPA Results]\n",
            "  Val Acc: 0.9648\n",
            "  Test Acc: 0.8960, F1: 0.8967\n",
            "\n",
            "[Training Gated-TPA]\n"
          ]
        },
        {
          "output_type": "stream",
          "name": "stderr",
          "text": [
            "/usr/local/lib/python3.12/dist-packages/torch/nn/modules/transformer.py:392: UserWarning: enable_nested_tensor is True, but self.use_nested_tensor is False because encoder_layer.norm_first was True\n",
            "  warnings.warn(\n"
          ]
        },
        {
          "output_type": "stream",
          "name": "stdout",
          "text": [
            "  Epoch  10: Train Acc=0.9162, Val Acc=0.9388, F1=0.9415\n",
            "  Epoch  20: Train Acc=0.9448, Val Acc=0.9289, F1=0.9360\n",
            "  Epoch  30: Train Acc=0.9516, Val Acc=0.9598, F1=0.9652\n",
            "  Epoch  40: Train Acc=0.9559, Val Acc=0.9574, F1=0.9625\n",
            "  Epoch  50: Train Acc=0.9556, Val Acc=0.9493, F1=0.9553\n",
            "  Epoch  60: Train Acc=0.9567, Val Acc=0.9666, F1=0.9710\n",
            "  Epoch  70: Train Acc=0.9604, Val Acc=0.9623, F1=0.9672\n",
            "  Epoch  80: Train Acc=0.9600, Val Acc=0.9666, F1=0.9714\n",
            "  Early stopping at epoch 80\n",
            "  Best Val Acc: 0.9666\n",
            "\n",
            "[Gated-TPA Results]\n",
            "  Val Acc: 0.9666\n",
            "  Test Acc: 0.9040, F1: 0.9067\n",
            "\n",
            "[Progress: 13/41]\n",
            "\n",
            "================================================================================\n",
            "EXPERIMENT: SITTING_TO_LAYING_40pct\n",
            "================================================================================\n",
            "\n",
            "Loading SITTING_TO_LAYING_40pct...\n",
            "  Path: /content/drive/MyDrive/AI_data/TPA2/uci_har_transition_datasets/SITTING_TO_LAYING_40pct\n",
            "  Train: (8087, 9, 128), Test: (3241, 9, 128)\n",
            "\n",
            "Dataset splits:\n",
            "  Train: 6469, Val: 1618, Test: 3241\n",
            "\n",
            "[Training GAP]\n"
          ]
        },
        {
          "output_type": "stream",
          "name": "stderr",
          "text": [
            "/usr/local/lib/python3.12/dist-packages/torch/nn/modules/transformer.py:392: UserWarning: enable_nested_tensor is True, but self.use_nested_tensor is False because encoder_layer.norm_first was True\n",
            "  warnings.warn(\n"
          ]
        },
        {
          "output_type": "stream",
          "name": "stdout",
          "text": [
            "  Epoch  10: Train Acc=0.9216, Val Acc=0.9370, F1=0.9401\n",
            "  Epoch  20: Train Acc=0.9448, Val Acc=0.9468, F1=0.9539\n",
            "  Epoch  30: Train Acc=0.9532, Val Acc=0.9555, F1=0.9616\n",
            "  Epoch  40: Train Acc=0.9539, Val Acc=0.9642, F1=0.9685\n",
            "  Epoch  50: Train Acc=0.9544, Val Acc=0.9598, F1=0.9659\n",
            "  Epoch  60: Train Acc=0.9564, Val Acc=0.9567, F1=0.9637\n",
            "  Early stopping at epoch 60\n",
            "  Best Val Acc: 0.9642\n",
            "\n",
            "[GAP Results]\n",
            "  Val Acc: 0.9642\n",
            "  Test Acc: 0.9056, F1: 0.9099\n",
            "\n",
            "[Training TPA]\n"
          ]
        },
        {
          "output_type": "stream",
          "name": "stderr",
          "text": [
            "/usr/local/lib/python3.12/dist-packages/torch/nn/modules/transformer.py:392: UserWarning: enable_nested_tensor is True, but self.use_nested_tensor is False because encoder_layer.norm_first was True\n",
            "  warnings.warn(\n"
          ]
        },
        {
          "output_type": "stream",
          "name": "stdout",
          "text": [
            "  Epoch  10: Train Acc=0.9266, Val Acc=0.9450, F1=0.9469\n",
            "  Epoch  20: Train Acc=0.9488, Val Acc=0.9549, F1=0.9600\n",
            "  Epoch  30: Train Acc=0.9555, Val Acc=0.9598, F1=0.9647\n",
            "  Epoch  40: Train Acc=0.9539, Val Acc=0.9623, F1=0.9672\n",
            "  Early stopping at epoch 49\n",
            "  Best Val Acc: 0.9629\n",
            "\n",
            "[TPA Results]\n",
            "  Val Acc: 0.9629\n",
            "  Test Acc: 0.8871, F1: 0.8877\n",
            "\n",
            "[Training Gated-TPA]\n"
          ]
        },
        {
          "output_type": "stream",
          "name": "stderr",
          "text": [
            "/usr/local/lib/python3.12/dist-packages/torch/nn/modules/transformer.py:392: UserWarning: enable_nested_tensor is True, but self.use_nested_tensor is False because encoder_layer.norm_first was True\n",
            "  warnings.warn(\n"
          ]
        },
        {
          "output_type": "stream",
          "name": "stdout",
          "text": [
            "  Epoch  10: Train Acc=0.9139, Val Acc=0.9246, F1=0.9226\n",
            "  Epoch  20: Train Acc=0.9468, Val Acc=0.9580, F1=0.9627\n",
            "  Epoch  30: Train Acc=0.9515, Val Acc=0.9506, F1=0.9561\n",
            "  Epoch  40: Train Acc=0.9556, Val Acc=0.9598, F1=0.9651\n",
            "  Epoch  50: Train Acc=0.9544, Val Acc=0.9598, F1=0.9663\n",
            "  Epoch  60: Train Acc=0.9572, Val Acc=0.9629, F1=0.9683\n",
            "  Epoch  70: Train Acc=0.9592, Val Acc=0.9611, F1=0.9670\n",
            "  Epoch  80: Train Acc=0.9607, Val Acc=0.9666, F1=0.9716\n",
            "  Epoch  90: Train Acc=0.9615, Val Acc=0.9685, F1=0.9735\n",
            "  Early stopping at epoch 92\n",
            "  Best Val Acc: 0.9697\n",
            "\n",
            "[Gated-TPA Results]\n",
            "  Val Acc: 0.9697\n",
            "  Test Acc: 0.9142, F1: 0.9198\n",
            "\n",
            "[Progress: 14/41]\n",
            "\n",
            "================================================================================\n",
            "EXPERIMENT: SITTING_TO_STANDING_10pct\n",
            "================================================================================\n",
            "\n",
            "Loading SITTING_TO_STANDING_10pct...\n",
            "  Path: /content/drive/MyDrive/AI_data/TPA2/uci_har_transition_datasets/SITTING_TO_STANDING_10pct\n",
            "  Train: (8087, 9, 128), Test: (3241, 9, 128)\n",
            "\n",
            "Dataset splits:\n",
            "  Train: 6469, Val: 1618, Test: 3241\n",
            "\n",
            "[Training GAP]\n"
          ]
        },
        {
          "output_type": "stream",
          "name": "stderr",
          "text": [
            "/usr/local/lib/python3.12/dist-packages/torch/nn/modules/transformer.py:392: UserWarning: enable_nested_tensor is True, but self.use_nested_tensor is False because encoder_layer.norm_first was True\n",
            "  warnings.warn(\n"
          ]
        },
        {
          "output_type": "stream",
          "name": "stdout",
          "text": [
            "  Epoch  10: Train Acc=0.9094, Val Acc=0.8918, F1=0.9022\n",
            "  Epoch  20: Train Acc=0.9431, Val Acc=0.9413, F1=0.9488\n",
            "  Epoch  30: Train Acc=0.9484, Val Acc=0.9289, F1=0.9417\n",
            "  Epoch  40: Train Acc=0.9481, Val Acc=0.9394, F1=0.9496\n",
            "  Epoch  50: Train Acc=0.9495, Val Acc=0.9419, F1=0.9517\n",
            "  Early stopping at epoch 57\n",
            "  Best Val Acc: 0.9518\n",
            "\n",
            "[GAP Results]\n",
            "  Val Acc: 0.9518\n",
            "  Test Acc: 0.8960, F1: 0.9011\n",
            "\n",
            "[Training TPA]\n"
          ]
        },
        {
          "output_type": "stream",
          "name": "stderr",
          "text": [
            "/usr/local/lib/python3.12/dist-packages/torch/nn/modules/transformer.py:392: UserWarning: enable_nested_tensor is True, but self.use_nested_tensor is False because encoder_layer.norm_first was True\n",
            "  warnings.warn(\n"
          ]
        },
        {
          "output_type": "stream",
          "name": "stdout",
          "text": [
            "  Epoch  10: Train Acc=0.9207, Val Acc=0.9376, F1=0.9435\n",
            "  Epoch  20: Train Acc=0.9358, Val Acc=0.9475, F1=0.9551\n",
            "  Epoch  30: Train Acc=0.9467, Val Acc=0.9438, F1=0.9518\n",
            "  Epoch  40: Train Acc=0.9478, Val Acc=0.9475, F1=0.9551\n",
            "  Epoch  50: Train Acc=0.9501, Val Acc=0.9431, F1=0.9524\n",
            "  Epoch  60: Train Acc=0.9516, Val Acc=0.9499, F1=0.9580\n",
            "  Early stopping at epoch 64\n",
            "  Best Val Acc: 0.9530\n",
            "\n",
            "[TPA Results]\n",
            "  Val Acc: 0.9530\n",
            "  Test Acc: 0.8889, F1: 0.8920\n",
            "\n",
            "[Training Gated-TPA]\n"
          ]
        },
        {
          "output_type": "stream",
          "name": "stderr",
          "text": [
            "/usr/local/lib/python3.12/dist-packages/torch/nn/modules/transformer.py:392: UserWarning: enable_nested_tensor is True, but self.use_nested_tensor is False because encoder_layer.norm_first was True\n",
            "  warnings.warn(\n"
          ]
        },
        {
          "output_type": "stream",
          "name": "stdout",
          "text": [
            "  Epoch  10: Train Acc=0.9119, Val Acc=0.9197, F1=0.9225\n",
            "  Epoch  20: Train Acc=0.9397, Val Acc=0.9320, F1=0.9396\n",
            "  Epoch  30: Train Acc=0.9467, Val Acc=0.9413, F1=0.9497\n",
            "  Epoch  40: Train Acc=0.9482, Val Acc=0.9512, F1=0.9586\n",
            "  Epoch  50: Train Acc=0.9521, Val Acc=0.9530, F1=0.9609\n",
            "  Epoch  60: Train Acc=0.9556, Val Acc=0.9530, F1=0.9613\n",
            "  Early stopping at epoch 66\n",
            "  Best Val Acc: 0.9549\n",
            "\n",
            "[Gated-TPA Results]\n",
            "  Val Acc: 0.9549\n",
            "  Test Acc: 0.8966, F1: 0.9010\n",
            "\n",
            "[Progress: 15/41]\n",
            "\n",
            "================================================================================\n",
            "EXPERIMENT: SITTING_TO_STANDING_20pct\n",
            "================================================================================\n",
            "\n",
            "Loading SITTING_TO_STANDING_20pct...\n",
            "  Path: /content/drive/MyDrive/AI_data/TPA2/uci_har_transition_datasets/SITTING_TO_STANDING_20pct\n",
            "  Train: (8087, 9, 128), Test: (3241, 9, 128)\n",
            "\n",
            "Dataset splits:\n",
            "  Train: 6469, Val: 1618, Test: 3241\n",
            "\n",
            "[Training GAP]\n"
          ]
        },
        {
          "output_type": "stream",
          "name": "stderr",
          "text": [
            "/usr/local/lib/python3.12/dist-packages/torch/nn/modules/transformer.py:392: UserWarning: enable_nested_tensor is True, but self.use_nested_tensor is False because encoder_layer.norm_first was True\n",
            "  warnings.warn(\n"
          ]
        },
        {
          "output_type": "stream",
          "name": "stdout",
          "text": [
            "  Epoch  10: Train Acc=0.9119, Val Acc=0.9166, F1=0.9175\n",
            "  Epoch  20: Train Acc=0.9391, Val Acc=0.9468, F1=0.9529\n",
            "  Epoch  30: Train Acc=0.9493, Val Acc=0.9524, F1=0.9589\n",
            "  Epoch  40: Train Acc=0.9527, Val Acc=0.9345, F1=0.9464\n",
            "  Epoch  50: Train Acc=0.9468, Val Acc=0.9438, F1=0.9530\n",
            "  Epoch  60: Train Acc=0.9508, Val Acc=0.9567, F1=0.9643\n",
            "  Epoch  70: Train Acc=0.9529, Val Acc=0.9524, F1=0.9605\n",
            "  Epoch  80: Train Acc=0.9542, Val Acc=0.9549, F1=0.9625\n",
            "  Early stopping at epoch 80\n",
            "  Best Val Acc: 0.9567\n",
            "\n",
            "[GAP Results]\n",
            "  Val Acc: 0.9567\n",
            "  Test Acc: 0.9034, F1: 0.9092\n",
            "\n",
            "[Training TPA]\n"
          ]
        },
        {
          "output_type": "stream",
          "name": "stderr",
          "text": [
            "/usr/local/lib/python3.12/dist-packages/torch/nn/modules/transformer.py:392: UserWarning: enable_nested_tensor is True, but self.use_nested_tensor is False because encoder_layer.norm_first was True\n",
            "  warnings.warn(\n"
          ]
        },
        {
          "output_type": "stream",
          "name": "stdout",
          "text": [
            "  Epoch  10: Train Acc=0.9130, Val Acc=0.9036, F1=0.9075\n",
            "  Epoch  20: Train Acc=0.9392, Val Acc=0.9493, F1=0.9562\n",
            "  Epoch  30: Train Acc=0.9464, Val Acc=0.9549, F1=0.9617\n",
            "  Epoch  40: Train Acc=0.9499, Val Acc=0.9567, F1=0.9634\n",
            "  Epoch  50: Train Acc=0.9490, Val Acc=0.9475, F1=0.9563\n",
            "  Epoch  60: Train Acc=0.9518, Val Acc=0.9549, F1=0.9629\n",
            "  Early stopping at epoch 62\n",
            "  Best Val Acc: 0.9598\n",
            "\n",
            "[TPA Results]\n",
            "  Val Acc: 0.9598\n",
            "  Test Acc: 0.8886, F1: 0.8917\n",
            "\n",
            "[Training Gated-TPA]\n"
          ]
        },
        {
          "output_type": "stream",
          "name": "stderr",
          "text": [
            "/usr/local/lib/python3.12/dist-packages/torch/nn/modules/transformer.py:392: UserWarning: enable_nested_tensor is True, but self.use_nested_tensor is False because encoder_layer.norm_first was True\n",
            "  warnings.warn(\n"
          ]
        },
        {
          "output_type": "stream",
          "name": "stdout",
          "text": [
            "  Epoch  10: Train Acc=0.9097, Val Acc=0.8881, F1=0.8910\n",
            "  Epoch  20: Train Acc=0.9391, Val Acc=0.9475, F1=0.9536\n",
            "  Epoch  30: Train Acc=0.9473, Val Acc=0.9512, F1=0.9583\n",
            "  Epoch  40: Train Acc=0.9502, Val Acc=0.9512, F1=0.9588\n",
            "  Epoch  50: Train Acc=0.9542, Val Acc=0.9450, F1=0.9534\n",
            "  Early stopping at epoch 58\n",
            "  Best Val Acc: 0.9555\n",
            "\n",
            "[Gated-TPA Results]\n",
            "  Val Acc: 0.9555\n",
            "  Test Acc: 0.8982, F1: 0.9045\n",
            "\n",
            "[Progress: 16/41]\n",
            "\n",
            "================================================================================\n",
            "EXPERIMENT: SITTING_TO_STANDING_30pct\n",
            "================================================================================\n",
            "\n",
            "Loading SITTING_TO_STANDING_30pct...\n",
            "  Path: /content/drive/MyDrive/AI_data/TPA2/uci_har_transition_datasets/SITTING_TO_STANDING_30pct\n",
            "  Train: (8087, 9, 128), Test: (3241, 9, 128)\n",
            "\n",
            "Dataset splits:\n",
            "  Train: 6469, Val: 1618, Test: 3241\n",
            "\n",
            "[Training GAP]\n"
          ]
        },
        {
          "output_type": "stream",
          "name": "stderr",
          "text": [
            "/usr/local/lib/python3.12/dist-packages/torch/nn/modules/transformer.py:392: UserWarning: enable_nested_tensor is True, but self.use_nested_tensor is False because encoder_layer.norm_first was True\n",
            "  warnings.warn(\n"
          ]
        },
        {
          "output_type": "stream",
          "name": "stdout",
          "text": [
            "  Epoch  10: Train Acc=0.9171, Val Acc=0.9159, F1=0.9196\n",
            "  Epoch  20: Train Acc=0.9406, Val Acc=0.9271, F1=0.9369\n",
            "  Epoch  30: Train Acc=0.9478, Val Acc=0.9240, F1=0.9372\n",
            "  Epoch  40: Train Acc=0.9539, Val Acc=0.9209, F1=0.9356\n",
            "  Epoch  50: Train Acc=0.9488, Val Acc=0.9400, F1=0.9496\n",
            "  Epoch  60: Train Acc=0.9552, Val Acc=0.9400, F1=0.9483\n",
            "  Early stopping at epoch 63\n",
            "  Best Val Acc: 0.9456\n",
            "\n",
            "[GAP Results]\n",
            "  Val Acc: 0.9456\n",
            "  Test Acc: 0.8963, F1: 0.9013\n",
            "\n",
            "[Training TPA]\n"
          ]
        },
        {
          "output_type": "stream",
          "name": "stderr",
          "text": [
            "/usr/local/lib/python3.12/dist-packages/torch/nn/modules/transformer.py:392: UserWarning: enable_nested_tensor is True, but self.use_nested_tensor is False because encoder_layer.norm_first was True\n",
            "  warnings.warn(\n"
          ]
        },
        {
          "output_type": "stream",
          "name": "stdout",
          "text": [
            "  Epoch  10: Train Acc=0.9165, Val Acc=0.8912, F1=0.8913\n",
            "  Epoch  20: Train Acc=0.9453, Val Acc=0.9333, F1=0.9423\n",
            "  Epoch  30: Train Acc=0.9529, Val Acc=0.9407, F1=0.9493\n",
            "  Epoch  40: Train Acc=0.9539, Val Acc=0.9370, F1=0.9458\n",
            "  Epoch  50: Train Acc=0.9529, Val Acc=0.9363, F1=0.9456\n",
            "  Epoch  60: Train Acc=0.9552, Val Acc=0.9450, F1=0.9539\n",
            "  Epoch  70: Train Acc=0.9516, Val Acc=0.9407, F1=0.9501\n",
            "  Early stopping at epoch 79\n",
            "  Best Val Acc: 0.9450\n",
            "\n",
            "[TPA Results]\n",
            "  Val Acc: 0.9450\n",
            "  Test Acc: 0.8858, F1: 0.8876\n",
            "\n",
            "[Training Gated-TPA]\n"
          ]
        },
        {
          "output_type": "stream",
          "name": "stderr",
          "text": [
            "/usr/local/lib/python3.12/dist-packages/torch/nn/modules/transformer.py:392: UserWarning: enable_nested_tensor is True, but self.use_nested_tensor is False because encoder_layer.norm_first was True\n",
            "  warnings.warn(\n"
          ]
        },
        {
          "output_type": "stream",
          "name": "stdout",
          "text": [
            "  Epoch  10: Train Acc=0.9093, Val Acc=0.8807, F1=0.8815\n",
            "  Epoch  20: Train Acc=0.9389, Val Acc=0.9351, F1=0.9416\n",
            "  Epoch  30: Train Acc=0.9515, Val Acc=0.9234, F1=0.9308\n",
            "  Epoch  40: Train Acc=0.9502, Val Acc=0.9444, F1=0.9525\n",
            "  Epoch  50: Train Acc=0.9561, Val Acc=0.9456, F1=0.9545\n",
            "  Early stopping at epoch 53\n",
            "  Best Val Acc: 0.9462\n",
            "\n",
            "[Gated-TPA Results]\n",
            "  Val Acc: 0.9462\n",
            "  Test Acc: 0.8889, F1: 0.8932\n",
            "\n",
            "[Progress: 17/41]\n",
            "\n",
            "================================================================================\n",
            "EXPERIMENT: SITTING_TO_STANDING_40pct\n",
            "================================================================================\n",
            "\n",
            "Loading SITTING_TO_STANDING_40pct...\n",
            "  Path: /content/drive/MyDrive/AI_data/TPA2/uci_har_transition_datasets/SITTING_TO_STANDING_40pct\n",
            "  Train: (8087, 9, 128), Test: (3241, 9, 128)\n",
            "\n",
            "Dataset splits:\n",
            "  Train: 6469, Val: 1618, Test: 3241\n",
            "\n",
            "[Training GAP]\n"
          ]
        },
        {
          "output_type": "stream",
          "name": "stderr",
          "text": [
            "/usr/local/lib/python3.12/dist-packages/torch/nn/modules/transformer.py:392: UserWarning: enable_nested_tensor is True, but self.use_nested_tensor is False because encoder_layer.norm_first was True\n",
            "  warnings.warn(\n"
          ]
        },
        {
          "output_type": "stream",
          "name": "stdout",
          "text": [
            "  Epoch  10: Train Acc=0.9133, Val Acc=0.9166, F1=0.9209\n",
            "  Epoch  20: Train Acc=0.9383, Val Acc=0.9184, F1=0.9303\n",
            "  Epoch  30: Train Acc=0.9436, Val Acc=0.9197, F1=0.9342\n",
            "  Epoch  40: Train Acc=0.9498, Val Acc=0.9246, F1=0.9391\n",
            "  Epoch  50: Train Acc=0.9487, Val Acc=0.9333, F1=0.9461\n",
            "  Epoch  60: Train Acc=0.9519, Val Acc=0.9425, F1=0.9534\n",
            "  Early stopping at epoch 62\n",
            "  Best Val Acc: 0.9567\n",
            "\n",
            "[GAP Results]\n",
            "  Val Acc: 0.9567\n",
            "  Test Acc: 0.9003, F1: 0.9046\n",
            "\n",
            "[Training TPA]\n"
          ]
        },
        {
          "output_type": "stream",
          "name": "stderr",
          "text": [
            "/usr/local/lib/python3.12/dist-packages/torch/nn/modules/transformer.py:392: UserWarning: enable_nested_tensor is True, but self.use_nested_tensor is False because encoder_layer.norm_first was True\n",
            "  warnings.warn(\n"
          ]
        },
        {
          "output_type": "stream",
          "name": "stdout",
          "text": [
            "  Epoch  10: Train Acc=0.9148, Val Acc=0.9302, F1=0.9349\n",
            "  Epoch  20: Train Acc=0.9400, Val Acc=0.9413, F1=0.9476\n",
            "  Epoch  30: Train Acc=0.9416, Val Acc=0.9431, F1=0.9498\n",
            "  Epoch  40: Train Acc=0.9473, Val Acc=0.9283, F1=0.9396\n",
            "  Epoch  50: Train Acc=0.9468, Val Acc=0.9468, F1=0.9540\n",
            "  Epoch  60: Train Acc=0.9533, Val Acc=0.9475, F1=0.9563\n",
            "  Epoch  70: Train Acc=0.9530, Val Acc=0.9493, F1=0.9556\n",
            "  Early stopping at epoch 71\n",
            "  Best Val Acc: 0.9574\n",
            "\n",
            "[TPA Results]\n",
            "  Val Acc: 0.9574\n",
            "  Test Acc: 0.8939, F1: 0.8975\n",
            "\n",
            "[Training Gated-TPA]\n"
          ]
        },
        {
          "output_type": "stream",
          "name": "stderr",
          "text": [
            "/usr/local/lib/python3.12/dist-packages/torch/nn/modules/transformer.py:392: UserWarning: enable_nested_tensor is True, but self.use_nested_tensor is False because encoder_layer.norm_first was True\n",
            "  warnings.warn(\n"
          ]
        },
        {
          "output_type": "stream",
          "name": "stdout",
          "text": [
            "  Epoch  10: Train Acc=0.9003, Val Acc=0.9073, F1=0.9099\n",
            "  Epoch  20: Train Acc=0.9408, Val Acc=0.9357, F1=0.9422\n",
            "  Epoch  30: Train Acc=0.9498, Val Acc=0.9499, F1=0.9564\n",
            "  Epoch  40: Train Acc=0.9498, Val Acc=0.9475, F1=0.9538\n",
            "  Epoch  50: Train Acc=0.9516, Val Acc=0.9388, F1=0.9459\n",
            "  Epoch  60: Train Acc=0.9538, Val Acc=0.9524, F1=0.9585\n",
            "  Early stopping at epoch 67\n",
            "  Best Val Acc: 0.9574\n",
            "\n",
            "[Gated-TPA Results]\n",
            "  Val Acc: 0.9574\n",
            "  Test Acc: 0.8911, F1: 0.8946\n",
            "\n",
            "[Progress: 18/41]\n",
            "\n",
            "================================================================================\n",
            "EXPERIMENT: LAYING_TO_SITTING_10pct\n",
            "================================================================================\n",
            "\n",
            "Loading LAYING_TO_SITTING_10pct...\n",
            "  Path: /content/drive/MyDrive/AI_data/TPA2/uci_har_transition_datasets/LAYING_TO_SITTING_10pct\n",
            "  Train: (8087, 9, 128), Test: (3241, 9, 128)\n",
            "\n",
            "Dataset splits:\n",
            "  Train: 6469, Val: 1618, Test: 3241\n",
            "\n",
            "[Training GAP]\n"
          ]
        },
        {
          "output_type": "stream",
          "name": "stderr",
          "text": [
            "/usr/local/lib/python3.12/dist-packages/torch/nn/modules/transformer.py:392: UserWarning: enable_nested_tensor is True, but self.use_nested_tensor is False because encoder_layer.norm_first was True\n",
            "  warnings.warn(\n"
          ]
        },
        {
          "output_type": "stream",
          "name": "stdout",
          "text": [
            "  Epoch  10: Train Acc=0.9252, Val Acc=0.9190, F1=0.9127\n",
            "  Epoch  20: Train Acc=0.9490, Val Acc=0.9481, F1=0.9462\n",
            "  Epoch  30: Train Acc=0.9529, Val Acc=0.9561, F1=0.9541\n",
            "  Epoch  40: Train Acc=0.9547, Val Acc=0.9506, F1=0.9490\n",
            "  Epoch  50: Train Acc=0.9583, Val Acc=0.9623, F1=0.9613\n",
            "  Early stopping at epoch 57\n",
            "  Best Val Acc: 0.9623\n",
            "\n",
            "[GAP Results]\n",
            "  Val Acc: 0.9623\n",
            "  Test Acc: 0.9037, F1: 0.8941\n",
            "\n",
            "[Training TPA]\n"
          ]
        },
        {
          "output_type": "stream",
          "name": "stderr",
          "text": [
            "/usr/local/lib/python3.12/dist-packages/torch/nn/modules/transformer.py:392: UserWarning: enable_nested_tensor is True, but self.use_nested_tensor is False because encoder_layer.norm_first was True\n",
            "  warnings.warn(\n"
          ]
        },
        {
          "output_type": "stream",
          "name": "stdout",
          "text": [
            "  Epoch  10: Train Acc=0.9145, Val Acc=0.9438, F1=0.9386\n",
            "  Epoch  20: Train Acc=0.9498, Val Acc=0.9549, F1=0.9530\n",
            "  Epoch  30: Train Acc=0.9549, Val Acc=0.9549, F1=0.9535\n",
            "  Epoch  40: Train Acc=0.9559, Val Acc=0.9549, F1=0.9536\n",
            "  Early stopping at epoch 48\n",
            "  Best Val Acc: 0.9642\n",
            "\n",
            "[TPA Results]\n",
            "  Val Acc: 0.9642\n",
            "  Test Acc: 0.8942, F1: 0.8825\n",
            "\n",
            "[Training Gated-TPA]\n"
          ]
        },
        {
          "output_type": "stream",
          "name": "stderr",
          "text": [
            "/usr/local/lib/python3.12/dist-packages/torch/nn/modules/transformer.py:392: UserWarning: enable_nested_tensor is True, but self.use_nested_tensor is False because encoder_layer.norm_first was True\n",
            "  warnings.warn(\n"
          ]
        },
        {
          "output_type": "stream",
          "name": "stdout",
          "text": [
            "  Epoch  10: Train Acc=0.9213, Val Acc=0.9376, F1=0.9312\n",
            "  Epoch  20: Train Acc=0.9485, Val Acc=0.9623, F1=0.9610\n",
            "  Epoch  30: Train Acc=0.9556, Val Acc=0.9635, F1=0.9626\n",
            "  Epoch  40: Train Acc=0.9573, Val Acc=0.9611, F1=0.9600\n",
            "  Early stopping at epoch 43\n",
            "  Best Val Acc: 0.9648\n",
            "\n",
            "[Gated-TPA Results]\n",
            "  Val Acc: 0.9648\n",
            "  Test Acc: 0.8988, F1: 0.8881\n",
            "\n",
            "[Progress: 19/41]\n",
            "\n",
            "================================================================================\n",
            "EXPERIMENT: LAYING_TO_SITTING_20pct\n",
            "================================================================================\n",
            "\n",
            "Loading LAYING_TO_SITTING_20pct...\n",
            "  Path: /content/drive/MyDrive/AI_data/TPA2/uci_har_transition_datasets/LAYING_TO_SITTING_20pct\n",
            "  Train: (8087, 9, 128), Test: (3241, 9, 128)\n",
            "\n",
            "Dataset splits:\n",
            "  Train: 6469, Val: 1618, Test: 3241\n",
            "\n",
            "[Training GAP]\n"
          ]
        },
        {
          "output_type": "stream",
          "name": "stderr",
          "text": [
            "/usr/local/lib/python3.12/dist-packages/torch/nn/modules/transformer.py:392: UserWarning: enable_nested_tensor is True, but self.use_nested_tensor is False because encoder_layer.norm_first was True\n",
            "  warnings.warn(\n"
          ]
        },
        {
          "output_type": "stream",
          "name": "stdout",
          "text": [
            "  Epoch  10: Train Acc=0.9243, Val Acc=0.9283, F1=0.9206\n",
            "  Epoch  20: Train Acc=0.9468, Val Acc=0.9549, F1=0.9513\n",
            "  Epoch  30: Train Acc=0.9499, Val Acc=0.9487, F1=0.9467\n",
            "  Epoch  40: Train Acc=0.9536, Val Acc=0.9685, F1=0.9674\n",
            "  Epoch  50: Train Acc=0.9544, Val Acc=0.9629, F1=0.9617\n",
            "  Epoch  60: Train Acc=0.9567, Val Acc=0.9679, F1=0.9669\n",
            "  Epoch  70: Train Acc=0.9573, Val Acc=0.9685, F1=0.9676\n",
            "  Early stopping at epoch 79\n",
            "  Best Val Acc: 0.9716\n",
            "\n",
            "[GAP Results]\n",
            "  Val Acc: 0.9716\n",
            "  Test Acc: 0.9050, F1: 0.8959\n",
            "\n",
            "[Training TPA]\n"
          ]
        },
        {
          "output_type": "stream",
          "name": "stderr",
          "text": [
            "/usr/local/lib/python3.12/dist-packages/torch/nn/modules/transformer.py:392: UserWarning: enable_nested_tensor is True, but self.use_nested_tensor is False because encoder_layer.norm_first was True\n",
            "  warnings.warn(\n"
          ]
        },
        {
          "output_type": "stream",
          "name": "stdout",
          "text": [
            "  Epoch  10: Train Acc=0.9236, Val Acc=0.9487, F1=0.9437\n",
            "  Epoch  20: Train Acc=0.9490, Val Acc=0.9654, F1=0.9637\n",
            "  Epoch  30: Train Acc=0.9501, Val Acc=0.9536, F1=0.9516\n",
            "  Epoch  40: Train Acc=0.9547, Val Acc=0.9611, F1=0.9595\n",
            "  Epoch  50: Train Acc=0.9555, Val Acc=0.9679, F1=0.9665\n",
            "  Epoch  60: Train Acc=0.9563, Val Acc=0.9685, F1=0.9673\n",
            "  Epoch  70: Train Acc=0.9564, Val Acc=0.9697, F1=0.9689\n",
            "  Epoch  80: Train Acc=0.9586, Val Acc=0.9697, F1=0.9688\n",
            "  Early stopping at epoch 83\n",
            "  Best Val Acc: 0.9716\n",
            "\n",
            "[TPA Results]\n",
            "  Val Acc: 0.9716\n",
            "  Test Acc: 0.8929, F1: 0.8811\n",
            "\n",
            "[Training Gated-TPA]\n"
          ]
        },
        {
          "output_type": "stream",
          "name": "stderr",
          "text": [
            "/usr/local/lib/python3.12/dist-packages/torch/nn/modules/transformer.py:392: UserWarning: enable_nested_tensor is True, but self.use_nested_tensor is False because encoder_layer.norm_first was True\n",
            "  warnings.warn(\n"
          ]
        },
        {
          "output_type": "stream",
          "name": "stdout",
          "text": [
            "  Epoch  10: Train Acc=0.9236, Val Acc=0.9258, F1=0.9176\n",
            "  Epoch  20: Train Acc=0.9498, Val Acc=0.9580, F1=0.9557\n",
            "  Epoch  30: Train Acc=0.9504, Val Acc=0.9530, F1=0.9511\n",
            "  Epoch  40: Train Acc=0.9547, Val Acc=0.9666, F1=0.9652\n",
            "  Epoch  50: Train Acc=0.9542, Val Acc=0.9567, F1=0.9551\n",
            "  Epoch  60: Train Acc=0.9572, Val Acc=0.9654, F1=0.9640\n",
            "  Early stopping at epoch 68\n",
            "  Best Val Acc: 0.9703\n",
            "\n",
            "[Gated-TPA Results]\n",
            "  Val Acc: 0.9703\n",
            "  Test Acc: 0.9164, F1: 0.9086\n",
            "\n",
            "[Progress: 20/41]\n",
            "\n",
            "================================================================================\n",
            "EXPERIMENT: LAYING_TO_SITTING_30pct\n",
            "================================================================================\n",
            "\n",
            "Loading LAYING_TO_SITTING_30pct...\n",
            "  Path: /content/drive/MyDrive/AI_data/TPA2/uci_har_transition_datasets/LAYING_TO_SITTING_30pct\n",
            "  Train: (8087, 9, 128), Test: (3241, 9, 128)\n",
            "\n",
            "Dataset splits:\n",
            "  Train: 6469, Val: 1618, Test: 3241\n",
            "\n",
            "[Training GAP]\n"
          ]
        },
        {
          "output_type": "stream",
          "name": "stderr",
          "text": [
            "/usr/local/lib/python3.12/dist-packages/torch/nn/modules/transformer.py:392: UserWarning: enable_nested_tensor is True, but self.use_nested_tensor is False because encoder_layer.norm_first was True\n",
            "  warnings.warn(\n"
          ]
        },
        {
          "output_type": "stream",
          "name": "stdout",
          "text": [
            "  Epoch  10: Train Acc=0.9241, Val Acc=0.9333, F1=0.9275\n",
            "  Epoch  20: Train Acc=0.9495, Val Acc=0.9468, F1=0.9437\n",
            "  Epoch  30: Train Acc=0.9524, Val Acc=0.9499, F1=0.9482\n",
            "  Epoch  40: Train Acc=0.9558, Val Acc=0.9462, F1=0.9444\n",
            "  Epoch  50: Train Acc=0.9566, Val Acc=0.9617, F1=0.9608\n",
            "  Epoch  60: Train Acc=0.9581, Val Acc=0.9549, F1=0.9535\n",
            "  Epoch  70: Train Acc=0.9603, Val Acc=0.9512, F1=0.9494\n",
            "  Early stopping at epoch 70\n",
            "  Best Val Acc: 0.9617\n",
            "\n",
            "[GAP Results]\n",
            "  Val Acc: 0.9617\n",
            "  Test Acc: 0.9108, F1: 0.9028\n",
            "\n",
            "[Training TPA]\n"
          ]
        },
        {
          "output_type": "stream",
          "name": "stderr",
          "text": [
            "/usr/local/lib/python3.12/dist-packages/torch/nn/modules/transformer.py:392: UserWarning: enable_nested_tensor is True, but self.use_nested_tensor is False because encoder_layer.norm_first was True\n",
            "  warnings.warn(\n"
          ]
        },
        {
          "output_type": "stream",
          "name": "stdout",
          "text": [
            "  Epoch  10: Train Acc=0.9190, Val Acc=0.9314, F1=0.9256\n",
            "  Epoch  20: Train Acc=0.9473, Val Acc=0.9518, F1=0.9500\n",
            "  Epoch  30: Train Acc=0.9539, Val Acc=0.9363, F1=0.9333\n",
            "  Epoch  40: Train Acc=0.9539, Val Acc=0.9438, F1=0.9419\n",
            "  Epoch  50: Train Acc=0.9552, Val Acc=0.9561, F1=0.9545\n",
            "  Epoch  60: Train Acc=0.9567, Val Acc=0.9574, F1=0.9561\n",
            "  Epoch  70: Train Acc=0.9575, Val Acc=0.9592, F1=0.9583\n",
            "  Epoch  80: Train Acc=0.9604, Val Acc=0.9598, F1=0.9591\n",
            "  Early stopping at epoch 81\n",
            "  Best Val Acc: 0.9623\n",
            "\n",
            "[TPA Results]\n",
            "  Val Acc: 0.9623\n",
            "  Test Acc: 0.9037, F1: 0.8933\n",
            "\n",
            "[Training Gated-TPA]\n"
          ]
        },
        {
          "output_type": "stream",
          "name": "stderr",
          "text": [
            "/usr/local/lib/python3.12/dist-packages/torch/nn/modules/transformer.py:392: UserWarning: enable_nested_tensor is True, but self.use_nested_tensor is False because encoder_layer.norm_first was True\n",
            "  warnings.warn(\n"
          ]
        },
        {
          "output_type": "stream",
          "name": "stdout",
          "text": [
            "  Epoch  10: Train Acc=0.9156, Val Acc=0.9345, F1=0.9283\n",
            "  Epoch  20: Train Acc=0.9507, Val Acc=0.9487, F1=0.9472\n",
            "  Epoch  30: Train Acc=0.9549, Val Acc=0.9567, F1=0.9560\n",
            "  Epoch  40: Train Acc=0.9555, Val Acc=0.9438, F1=0.9423\n",
            "  Epoch  50: Train Acc=0.9578, Val Acc=0.9604, F1=0.9596\n",
            "  Epoch  60: Train Acc=0.9567, Val Acc=0.9598, F1=0.9590\n",
            "  Epoch  70: Train Acc=0.9618, Val Acc=0.9506, F1=0.9498\n",
            "  Epoch  80: Train Acc=0.9609, Val Acc=0.9530, F1=0.9523\n",
            "  Early stopping at epoch 84\n",
            "  Best Val Acc: 0.9635\n",
            "\n",
            "[Gated-TPA Results]\n",
            "  Val Acc: 0.9635\n",
            "  Test Acc: 0.9148, F1: 0.9068\n",
            "\n",
            "[Progress: 21/41]\n",
            "\n",
            "================================================================================\n",
            "EXPERIMENT: LAYING_TO_SITTING_40pct\n",
            "================================================================================\n",
            "\n",
            "Loading LAYING_TO_SITTING_40pct...\n",
            "  Path: /content/drive/MyDrive/AI_data/TPA2/uci_har_transition_datasets/LAYING_TO_SITTING_40pct\n",
            "  Train: (8087, 9, 128), Test: (3241, 9, 128)\n",
            "\n",
            "Dataset splits:\n",
            "  Train: 6469, Val: 1618, Test: 3241\n",
            "\n",
            "[Training GAP]\n"
          ]
        },
        {
          "output_type": "stream",
          "name": "stderr",
          "text": [
            "/usr/local/lib/python3.12/dist-packages/torch/nn/modules/transformer.py:392: UserWarning: enable_nested_tensor is True, but self.use_nested_tensor is False because encoder_layer.norm_first was True\n",
            "  warnings.warn(\n"
          ]
        },
        {
          "output_type": "stream",
          "name": "stdout",
          "text": [
            "  Epoch  10: Train Acc=0.9264, Val Acc=0.9147, F1=0.9090\n",
            "  Epoch  20: Train Acc=0.9499, Val Acc=0.9326, F1=0.9285\n",
            "  Epoch  30: Train Acc=0.9522, Val Acc=0.9388, F1=0.9362\n",
            "  Epoch  40: Train Acc=0.9559, Val Acc=0.9413, F1=0.9392\n",
            "  Epoch  50: Train Acc=0.9575, Val Acc=0.9586, F1=0.9575\n",
            "  Epoch  60: Train Acc=0.9570, Val Acc=0.9407, F1=0.9392\n",
            "  Epoch  70: Train Acc=0.9589, Val Acc=0.9561, F1=0.9552\n",
            "  Early stopping at epoch 70\n",
            "  Best Val Acc: 0.9586\n",
            "\n",
            "[GAP Results]\n",
            "  Val Acc: 0.9586\n",
            "  Test Acc: 0.9025, F1: 0.8932\n",
            "\n",
            "[Training TPA]\n"
          ]
        },
        {
          "output_type": "stream",
          "name": "stderr",
          "text": [
            "/usr/local/lib/python3.12/dist-packages/torch/nn/modules/transformer.py:392: UserWarning: enable_nested_tensor is True, but self.use_nested_tensor is False because encoder_layer.norm_first was True\n",
            "  warnings.warn(\n"
          ]
        },
        {
          "output_type": "stream",
          "name": "stdout",
          "text": [
            "  Epoch  10: Train Acc=0.9026, Val Acc=0.9023, F1=0.8918\n",
            "  Epoch  20: Train Acc=0.9416, Val Acc=0.9413, F1=0.9380\n",
            "  Epoch  30: Train Acc=0.9521, Val Acc=0.9314, F1=0.9274\n",
            "  Epoch  40: Train Acc=0.9559, Val Acc=0.9530, F1=0.9517\n",
            "  Epoch  50: Train Acc=0.9589, Val Acc=0.9487, F1=0.9467\n",
            "  Epoch  60: Train Acc=0.9570, Val Acc=0.9512, F1=0.9498\n",
            "  Early stopping at epoch 63\n",
            "  Best Val Acc: 0.9555\n",
            "\n",
            "[TPA Results]\n",
            "  Val Acc: 0.9555\n",
            "  Test Acc: 0.8966, F1: 0.8850\n",
            "\n",
            "[Training Gated-TPA]\n"
          ]
        },
        {
          "output_type": "stream",
          "name": "stderr",
          "text": [
            "/usr/local/lib/python3.12/dist-packages/torch/nn/modules/transformer.py:392: UserWarning: enable_nested_tensor is True, but self.use_nested_tensor is False because encoder_layer.norm_first was True\n",
            "  warnings.warn(\n"
          ]
        },
        {
          "output_type": "stream",
          "name": "stdout",
          "text": [
            "  Epoch  10: Train Acc=0.9238, Val Acc=0.9036, F1=0.8954\n",
            "  Epoch  20: Train Acc=0.9508, Val Acc=0.9543, F1=0.9526\n",
            "  Epoch  30: Train Acc=0.9533, Val Acc=0.9450, F1=0.9437\n",
            "  Epoch  40: Train Acc=0.9597, Val Acc=0.9549, F1=0.9536\n",
            "  Epoch  50: Train Acc=0.9592, Val Acc=0.9487, F1=0.9473\n",
            "  Early stopping at epoch 59\n",
            "  Best Val Acc: 0.9592\n",
            "\n",
            "[Gated-TPA Results]\n",
            "  Val Acc: 0.9592\n",
            "  Test Acc: 0.9040, F1: 0.8948\n",
            "\n",
            "[Progress: 22/41]\n",
            "\n",
            "================================================================================\n",
            "EXPERIMENT: LAYING_TO_STANDING_10pct\n",
            "================================================================================\n",
            "\n",
            "Loading LAYING_TO_STANDING_10pct...\n",
            "  Path: /content/drive/MyDrive/AI_data/TPA2/uci_har_transition_datasets/LAYING_TO_STANDING_10pct\n",
            "  Train: (8087, 9, 128), Test: (3241, 9, 128)\n",
            "\n",
            "Dataset splits:\n",
            "  Train: 6469, Val: 1618, Test: 3241\n",
            "\n",
            "[Training GAP]\n"
          ]
        },
        {
          "output_type": "stream",
          "name": "stderr",
          "text": [
            "/usr/local/lib/python3.12/dist-packages/torch/nn/modules/transformer.py:392: UserWarning: enable_nested_tensor is True, but self.use_nested_tensor is False because encoder_layer.norm_first was True\n",
            "  warnings.warn(\n"
          ]
        },
        {
          "output_type": "stream",
          "name": "stdout",
          "text": [
            "  Epoch  10: Train Acc=0.9267, Val Acc=0.9265, F1=0.9217\n",
            "  Epoch  20: Train Acc=0.9474, Val Acc=0.9555, F1=0.9529\n",
            "  Epoch  30: Train Acc=0.9539, Val Acc=0.9481, F1=0.9459\n",
            "  Epoch  40: Train Acc=0.9544, Val Acc=0.9512, F1=0.9495\n",
            "  Epoch  50: Train Acc=0.9553, Val Acc=0.9574, F1=0.9559\n",
            "  Epoch  60: Train Acc=0.9572, Val Acc=0.9586, F1=0.9575\n",
            "  Early stopping at epoch 64\n",
            "  Best Val Acc: 0.9679\n",
            "\n",
            "[GAP Results]\n",
            "  Val Acc: 0.9679\n",
            "  Test Acc: 0.9087, F1: 0.8997\n",
            "\n",
            "[Training TPA]\n"
          ]
        },
        {
          "output_type": "stream",
          "name": "stderr",
          "text": [
            "/usr/local/lib/python3.12/dist-packages/torch/nn/modules/transformer.py:392: UserWarning: enable_nested_tensor is True, but self.use_nested_tensor is False because encoder_layer.norm_first was True\n",
            "  warnings.warn(\n"
          ]
        },
        {
          "output_type": "stream",
          "name": "stdout",
          "text": [
            "  Epoch  10: Train Acc=0.9001, Val Acc=0.9252, F1=0.9163\n",
            "  Epoch  20: Train Acc=0.9437, Val Acc=0.9475, F1=0.9444\n",
            "  Epoch  30: Train Acc=0.9530, Val Acc=0.9456, F1=0.9432\n",
            "  Epoch  40: Train Acc=0.9539, Val Acc=0.9530, F1=0.9515\n",
            "  Early stopping at epoch 47\n",
            "  Best Val Acc: 0.9654\n",
            "\n",
            "[TPA Results]\n",
            "  Val Acc: 0.9654\n",
            "  Test Acc: 0.8945, F1: 0.8831\n",
            "\n",
            "[Training Gated-TPA]\n"
          ]
        },
        {
          "output_type": "stream",
          "name": "stderr",
          "text": [
            "/usr/local/lib/python3.12/dist-packages/torch/nn/modules/transformer.py:392: UserWarning: enable_nested_tensor is True, but self.use_nested_tensor is False because encoder_layer.norm_first was True\n",
            "  warnings.warn(\n"
          ]
        },
        {
          "output_type": "stream",
          "name": "stdout",
          "text": [
            "  Epoch  10: Train Acc=0.9171, Val Acc=0.9215, F1=0.9119\n",
            "  Epoch  20: Train Acc=0.9505, Val Acc=0.9561, F1=0.9540\n",
            "  Epoch  30: Train Acc=0.9555, Val Acc=0.9438, F1=0.9422\n",
            "  Epoch  40: Train Acc=0.9549, Val Acc=0.9635, F1=0.9627\n",
            "  Epoch  50: Train Acc=0.9567, Val Acc=0.9660, F1=0.9652\n",
            "  Epoch  60: Train Acc=0.9576, Val Acc=0.9629, F1=0.9620\n",
            "  Early stopping at epoch 63\n",
            "  Best Val Acc: 0.9679\n",
            "\n",
            "[Gated-TPA Results]\n",
            "  Val Acc: 0.9679\n",
            "  Test Acc: 0.9081, F1: 0.8993\n",
            "\n",
            "[Progress: 23/41]\n",
            "\n",
            "================================================================================\n",
            "EXPERIMENT: LAYING_TO_STANDING_20pct\n",
            "================================================================================\n",
            "\n",
            "Loading LAYING_TO_STANDING_20pct...\n",
            "  Path: /content/drive/MyDrive/AI_data/TPA2/uci_har_transition_datasets/LAYING_TO_STANDING_20pct\n",
            "  Train: (8087, 9, 128), Test: (3241, 9, 128)\n",
            "\n",
            "Dataset splits:\n",
            "  Train: 6469, Val: 1618, Test: 3241\n",
            "\n",
            "[Training GAP]\n"
          ]
        },
        {
          "output_type": "stream",
          "name": "stderr",
          "text": [
            "/usr/local/lib/python3.12/dist-packages/torch/nn/modules/transformer.py:392: UserWarning: enable_nested_tensor is True, but self.use_nested_tensor is False because encoder_layer.norm_first was True\n",
            "  warnings.warn(\n"
          ]
        },
        {
          "output_type": "stream",
          "name": "stdout",
          "text": [
            "  Epoch  10: Train Acc=0.9303, Val Acc=0.9159, F1=0.9096\n",
            "  Epoch  20: Train Acc=0.9470, Val Acc=0.9333, F1=0.9300\n",
            "  Epoch  30: Train Acc=0.9546, Val Acc=0.9567, F1=0.9551\n",
            "  Epoch  40: Train Acc=0.9544, Val Acc=0.9518, F1=0.9508\n",
            "  Epoch  50: Train Acc=0.9583, Val Acc=0.9555, F1=0.9544\n",
            "  Early stopping at epoch 59\n",
            "  Best Val Acc: 0.9604\n",
            "\n",
            "[GAP Results]\n",
            "  Val Acc: 0.9604\n",
            "  Test Acc: 0.9044, F1: 0.8948\n",
            "\n",
            "[Training TPA]\n"
          ]
        },
        {
          "output_type": "stream",
          "name": "stderr",
          "text": [
            "/usr/local/lib/python3.12/dist-packages/torch/nn/modules/transformer.py:392: UserWarning: enable_nested_tensor is True, but self.use_nested_tensor is False because encoder_layer.norm_first was True\n",
            "  warnings.warn(\n"
          ]
        },
        {
          "output_type": "stream",
          "name": "stdout",
          "text": [
            "  Epoch  10: Train Acc=0.9083, Val Acc=0.9190, F1=0.9114\n",
            "  Epoch  20: Train Acc=0.9461, Val Acc=0.9506, F1=0.9479\n",
            "  Epoch  30: Train Acc=0.9546, Val Acc=0.9431, F1=0.9414\n",
            "  Epoch  40: Train Acc=0.9583, Val Acc=0.9468, F1=0.9452\n",
            "  Epoch  50: Train Acc=0.9552, Val Acc=0.9567, F1=0.9558\n",
            "  Early stopping at epoch 53\n",
            "  Best Val Acc: 0.9586\n",
            "\n",
            "[TPA Results]\n",
            "  Val Acc: 0.9586\n",
            "  Test Acc: 0.9019, F1: 0.8913\n",
            "\n",
            "[Training Gated-TPA]\n"
          ]
        },
        {
          "output_type": "stream",
          "name": "stderr",
          "text": [
            "/usr/local/lib/python3.12/dist-packages/torch/nn/modules/transformer.py:392: UserWarning: enable_nested_tensor is True, but self.use_nested_tensor is False because encoder_layer.norm_first was True\n",
            "  warnings.warn(\n"
          ]
        },
        {
          "output_type": "stream",
          "name": "stdout",
          "text": [
            "  Epoch  10: Train Acc=0.9218, Val Acc=0.9258, F1=0.9191\n",
            "  Epoch  20: Train Acc=0.9474, Val Acc=0.9419, F1=0.9396\n",
            "  Epoch  30: Train Acc=0.9533, Val Acc=0.9555, F1=0.9544\n",
            "  Epoch  40: Train Acc=0.9583, Val Acc=0.9598, F1=0.9593\n",
            "  Epoch  50: Train Acc=0.9580, Val Acc=0.9506, F1=0.9496\n",
            "  Epoch  60: Train Acc=0.9603, Val Acc=0.9518, F1=0.9509\n",
            "  Early stopping at epoch 65\n",
            "  Best Val Acc: 0.9623\n",
            "\n",
            "[Gated-TPA Results]\n",
            "  Val Acc: 0.9623\n",
            "  Test Acc: 0.9047, F1: 0.8954\n",
            "\n",
            "[Progress: 24/41]\n",
            "\n",
            "================================================================================\n",
            "EXPERIMENT: LAYING_TO_STANDING_30pct\n",
            "================================================================================\n",
            "\n",
            "Loading LAYING_TO_STANDING_30pct...\n",
            "  Path: /content/drive/MyDrive/AI_data/TPA2/uci_har_transition_datasets/LAYING_TO_STANDING_30pct\n",
            "  Train: (8087, 9, 128), Test: (3241, 9, 128)\n",
            "\n",
            "Dataset splits:\n",
            "  Train: 6469, Val: 1618, Test: 3241\n",
            "\n",
            "[Training GAP]\n"
          ]
        },
        {
          "output_type": "stream",
          "name": "stderr",
          "text": [
            "/usr/local/lib/python3.12/dist-packages/torch/nn/modules/transformer.py:392: UserWarning: enable_nested_tensor is True, but self.use_nested_tensor is False because encoder_layer.norm_first was True\n",
            "  warnings.warn(\n"
          ]
        },
        {
          "output_type": "stream",
          "name": "stdout",
          "text": [
            "  Epoch  10: Train Acc=0.9297, Val Acc=0.8993, F1=0.8883\n",
            "  Epoch  20: Train Acc=0.9518, Val Acc=0.9326, F1=0.9290\n",
            "  Epoch  30: Train Acc=0.9542, Val Acc=0.9506, F1=0.9483\n",
            "  Epoch  40: Train Acc=0.9556, Val Acc=0.9543, F1=0.9524\n",
            "  Epoch  50: Train Acc=0.9589, Val Acc=0.9487, F1=0.9470\n",
            "  Epoch  60: Train Acc=0.9592, Val Acc=0.9512, F1=0.9489\n",
            "  Early stopping at epoch 69\n",
            "  Best Val Acc: 0.9574\n",
            "\n",
            "[GAP Results]\n",
            "  Val Acc: 0.9574\n",
            "  Test Acc: 0.9000, F1: 0.8900\n",
            "\n",
            "[Training TPA]\n"
          ]
        },
        {
          "output_type": "stream",
          "name": "stderr",
          "text": [
            "/usr/local/lib/python3.12/dist-packages/torch/nn/modules/transformer.py:392: UserWarning: enable_nested_tensor is True, but self.use_nested_tensor is False because encoder_layer.norm_first was True\n",
            "  warnings.warn(\n"
          ]
        },
        {
          "output_type": "stream",
          "name": "stdout",
          "text": [
            "  Epoch  10: Train Acc=0.9091, Val Acc=0.8999, F1=0.8889\n",
            "  Epoch  20: Train Acc=0.9482, Val Acc=0.9487, F1=0.9458\n",
            "  Epoch  30: Train Acc=0.9558, Val Acc=0.9518, F1=0.9497\n",
            "  Epoch  40: Train Acc=0.9569, Val Acc=0.9431, F1=0.9407\n",
            "  Epoch  50: Train Acc=0.9593, Val Acc=0.9574, F1=0.9563\n",
            "  Epoch  60: Train Acc=0.9600, Val Acc=0.9512, F1=0.9498\n",
            "  Epoch  70: Train Acc=0.9603, Val Acc=0.9549, F1=0.9535\n",
            "  Early stopping at epoch 77\n",
            "  Best Val Acc: 0.9604\n",
            "\n",
            "[TPA Results]\n",
            "  Val Acc: 0.9604\n",
            "  Test Acc: 0.9028, F1: 0.8927\n",
            "\n",
            "[Training Gated-TPA]\n"
          ]
        },
        {
          "output_type": "stream",
          "name": "stderr",
          "text": [
            "/usr/local/lib/python3.12/dist-packages/torch/nn/modules/transformer.py:392: UserWarning: enable_nested_tensor is True, but self.use_nested_tensor is False because encoder_layer.norm_first was True\n",
            "  warnings.warn(\n"
          ]
        },
        {
          "output_type": "stream",
          "name": "stdout",
          "text": [
            "  Epoch  10: Train Acc=0.9250, Val Acc=0.8993, F1=0.8883\n",
            "  Epoch  20: Train Acc=0.9539, Val Acc=0.9499, F1=0.9476\n",
            "  Epoch  30: Train Acc=0.9556, Val Acc=0.9499, F1=0.9480\n",
            "  Epoch  40: Train Acc=0.9576, Val Acc=0.9580, F1=0.9566\n",
            "  Epoch  50: Train Acc=0.9601, Val Acc=0.9586, F1=0.9575\n",
            "  Early stopping at epoch 57\n",
            "  Best Val Acc: 0.9604\n",
            "\n",
            "[Gated-TPA Results]\n",
            "  Val Acc: 0.9604\n",
            "  Test Acc: 0.9019, F1: 0.8923\n",
            "\n",
            "[Progress: 25/41]\n",
            "\n",
            "================================================================================\n",
            "EXPERIMENT: LAYING_TO_STANDING_40pct\n",
            "================================================================================\n",
            "\n",
            "Loading LAYING_TO_STANDING_40pct...\n",
            "  Path: /content/drive/MyDrive/AI_data/TPA2/uci_har_transition_datasets/LAYING_TO_STANDING_40pct\n",
            "  Train: (8087, 9, 128), Test: (3241, 9, 128)\n",
            "\n",
            "Dataset splits:\n",
            "  Train: 6469, Val: 1618, Test: 3241\n",
            "\n",
            "[Training GAP]\n"
          ]
        },
        {
          "output_type": "stream",
          "name": "stderr",
          "text": [
            "/usr/local/lib/python3.12/dist-packages/torch/nn/modules/transformer.py:392: UserWarning: enable_nested_tensor is True, but self.use_nested_tensor is False because encoder_layer.norm_first was True\n",
            "  warnings.warn(\n"
          ]
        },
        {
          "output_type": "stream",
          "name": "stdout",
          "text": [
            "  Epoch  10: Train Acc=0.9289, Val Acc=0.9209, F1=0.9135\n",
            "  Epoch  20: Train Acc=0.9496, Val Acc=0.9450, F1=0.9420\n",
            "  Epoch  30: Train Acc=0.9559, Val Acc=0.9462, F1=0.9442\n",
            "  Epoch  40: Train Acc=0.9550, Val Acc=0.9499, F1=0.9480\n",
            "  Epoch  50: Train Acc=0.9580, Val Acc=0.9623, F1=0.9613\n",
            "  Epoch  60: Train Acc=0.9572, Val Acc=0.9623, F1=0.9614\n",
            "  Epoch  70: Train Acc=0.9550, Val Acc=0.9623, F1=0.9607\n",
            "  Epoch  80: Train Acc=0.9593, Val Acc=0.9654, F1=0.9648\n",
            "  Epoch  90: Train Acc=0.9615, Val Acc=0.9611, F1=0.9600\n",
            "  Epoch 100: Train Acc=0.9614, Val Acc=0.9629, F1=0.9618\n",
            "  Best Val Acc: 0.9685\n",
            "\n",
            "[GAP Results]\n",
            "  Val Acc: 0.9685\n",
            "  Test Acc: 0.9148, F1: 0.9069\n",
            "\n",
            "[Training TPA]\n"
          ]
        },
        {
          "output_type": "stream",
          "name": "stderr",
          "text": [
            "/usr/local/lib/python3.12/dist-packages/torch/nn/modules/transformer.py:392: UserWarning: enable_nested_tensor is True, but self.use_nested_tensor is False because encoder_layer.norm_first was True\n",
            "  warnings.warn(\n"
          ]
        },
        {
          "output_type": "stream",
          "name": "stdout",
          "text": [
            "  Epoch  10: Train Acc=0.8935, Val Acc=0.9110, F1=0.8988\n",
            "  Epoch  20: Train Acc=0.9396, Val Acc=0.9493, F1=0.9445\n",
            "  Epoch  30: Train Acc=0.9499, Val Acc=0.9499, F1=0.9462\n",
            "  Epoch  40: Train Acc=0.9532, Val Acc=0.9611, F1=0.9595\n",
            "  Epoch  50: Train Acc=0.9550, Val Acc=0.9580, F1=0.9564\n",
            "  Epoch  60: Train Acc=0.9569, Val Acc=0.9574, F1=0.9556\n",
            "  Early stopping at epoch 62\n",
            "  Best Val Acc: 0.9629\n",
            "\n",
            "[TPA Results]\n",
            "  Val Acc: 0.9629\n",
            "  Test Acc: 0.8957, F1: 0.8842\n",
            "\n",
            "[Training Gated-TPA]\n"
          ]
        },
        {
          "output_type": "stream",
          "name": "stderr",
          "text": [
            "/usr/local/lib/python3.12/dist-packages/torch/nn/modules/transformer.py:392: UserWarning: enable_nested_tensor is True, but self.use_nested_tensor is False because encoder_layer.norm_first was True\n",
            "  warnings.warn(\n"
          ]
        },
        {
          "output_type": "stream",
          "name": "stdout",
          "text": [
            "  Epoch  10: Train Acc=0.9229, Val Acc=0.9221, F1=0.9148\n",
            "  Epoch  20: Train Acc=0.9476, Val Acc=0.9561, F1=0.9538\n",
            "  Epoch  30: Train Acc=0.9541, Val Acc=0.9629, F1=0.9617\n",
            "  Epoch  40: Train Acc=0.9549, Val Acc=0.9598, F1=0.9590\n",
            "  Epoch  50: Train Acc=0.9535, Val Acc=0.9611, F1=0.9599\n",
            "  Epoch  60: Train Acc=0.9592, Val Acc=0.9611, F1=0.9598\n",
            "  Early stopping at epoch 62\n",
            "  Best Val Acc: 0.9660\n",
            "\n",
            "[Gated-TPA Results]\n",
            "  Val Acc: 0.9660\n",
            "  Test Acc: 0.8997, F1: 0.8899\n",
            "\n",
            "[Progress: 26/41]\n",
            "\n",
            "================================================================================\n",
            "EXPERIMENT: WALKING_TO_WALKING_UPSTAIRS_10pct\n",
            "================================================================================\n",
            "\n",
            "Loading WALKING_TO_WALKING_UPSTAIRS_10pct...\n",
            "  Path: /content/drive/MyDrive/AI_data/TPA2/uci_har_transition_datasets/WALKING_TO_WALKING_UPSTAIRS_10pct\n",
            "  Train: (8087, 9, 128), Test: (3241, 9, 128)\n",
            "\n",
            "Dataset splits:\n",
            "  Train: 6469, Val: 1618, Test: 3241\n",
            "\n",
            "[Training GAP]\n"
          ]
        },
        {
          "output_type": "stream",
          "name": "stderr",
          "text": [
            "/usr/local/lib/python3.12/dist-packages/torch/nn/modules/transformer.py:392: UserWarning: enable_nested_tensor is True, but self.use_nested_tensor is False because encoder_layer.norm_first was True\n",
            "  warnings.warn(\n"
          ]
        },
        {
          "output_type": "stream",
          "name": "stdout",
          "text": [
            "  Epoch  10: Train Acc=0.9247, Val Acc=0.9265, F1=0.9248\n",
            "  Epoch  20: Train Acc=0.9485, Val Acc=0.9351, F1=0.9326\n",
            "  Epoch  30: Train Acc=0.9542, Val Acc=0.9382, F1=0.9355\n",
            "  Epoch  40: Train Acc=0.9576, Val Acc=0.9536, F1=0.9526\n",
            "  Epoch  50: Train Acc=0.9572, Val Acc=0.9493, F1=0.9480\n",
            "  Epoch  60: Train Acc=0.9593, Val Acc=0.9543, F1=0.9532\n",
            "  Early stopping at epoch 62\n",
            "  Best Val Acc: 0.9586\n",
            "\n",
            "[GAP Results]\n",
            "  Val Acc: 0.9586\n",
            "  Test Acc: 0.9003, F1: 0.8947\n",
            "\n",
            "[Training TPA]\n"
          ]
        },
        {
          "output_type": "stream",
          "name": "stderr",
          "text": [
            "/usr/local/lib/python3.12/dist-packages/torch/nn/modules/transformer.py:392: UserWarning: enable_nested_tensor is True, but self.use_nested_tensor is False because encoder_layer.norm_first was True\n",
            "  warnings.warn(\n"
          ]
        },
        {
          "output_type": "stream",
          "name": "stdout",
          "text": [
            "  Epoch  10: Train Acc=0.9236, Val Acc=0.9227, F1=0.9209\n",
            "  Epoch  20: Train Acc=0.9504, Val Acc=0.9475, F1=0.9462\n",
            "  Epoch  30: Train Acc=0.9555, Val Acc=0.9555, F1=0.9549\n",
            "  Epoch  40: Train Acc=0.9566, Val Acc=0.9487, F1=0.9475\n",
            "  Epoch  50: Train Acc=0.9567, Val Acc=0.9604, F1=0.9595\n",
            "  Epoch  60: Train Acc=0.9576, Val Acc=0.9567, F1=0.9560\n",
            "  Epoch  70: Train Acc=0.9590, Val Acc=0.9567, F1=0.9559\n",
            "  Early stopping at epoch 70\n",
            "  Best Val Acc: 0.9604\n",
            "\n",
            "[TPA Results]\n",
            "  Val Acc: 0.9604\n",
            "  Test Acc: 0.8772, F1: 0.8750\n",
            "\n",
            "[Training Gated-TPA]\n"
          ]
        },
        {
          "output_type": "stream",
          "name": "stderr",
          "text": [
            "/usr/local/lib/python3.12/dist-packages/torch/nn/modules/transformer.py:392: UserWarning: enable_nested_tensor is True, but self.use_nested_tensor is False because encoder_layer.norm_first was True\n",
            "  warnings.warn(\n"
          ]
        },
        {
          "output_type": "stream",
          "name": "stdout",
          "text": [
            "  Epoch  10: Train Acc=0.9312, Val Acc=0.9314, F1=0.9295\n",
            "  Epoch  20: Train Acc=0.9510, Val Acc=0.9530, F1=0.9516\n",
            "  Epoch  30: Train Acc=0.9575, Val Acc=0.9586, F1=0.9579\n",
            "  Epoch  40: Train Acc=0.9569, Val Acc=0.9574, F1=0.9566\n",
            "  Epoch  50: Train Acc=0.9586, Val Acc=0.9438, F1=0.9420\n",
            "  Early stopping at epoch 50\n",
            "  Best Val Acc: 0.9586\n",
            "\n",
            "[Gated-TPA Results]\n",
            "  Val Acc: 0.9586\n",
            "  Test Acc: 0.8871, F1: 0.8850\n",
            "\n",
            "[Progress: 27/41]\n",
            "\n",
            "================================================================================\n",
            "EXPERIMENT: WALKING_TO_WALKING_UPSTAIRS_20pct\n",
            "================================================================================\n",
            "\n",
            "Loading WALKING_TO_WALKING_UPSTAIRS_20pct...\n",
            "  Path: /content/drive/MyDrive/AI_data/TPA2/uci_har_transition_datasets/WALKING_TO_WALKING_UPSTAIRS_20pct\n",
            "  Train: (8087, 9, 128), Test: (3241, 9, 128)\n",
            "\n",
            "Dataset splits:\n",
            "  Train: 6469, Val: 1618, Test: 3241\n",
            "\n",
            "[Training GAP]\n"
          ]
        },
        {
          "output_type": "stream",
          "name": "stderr",
          "text": [
            "/usr/local/lib/python3.12/dist-packages/torch/nn/modules/transformer.py:392: UserWarning: enable_nested_tensor is True, but self.use_nested_tensor is False because encoder_layer.norm_first was True\n",
            "  warnings.warn(\n"
          ]
        },
        {
          "output_type": "stream",
          "name": "stdout",
          "text": [
            "  Epoch  10: Train Acc=0.9198, Val Acc=0.9178, F1=0.9154\n",
            "  Epoch  20: Train Acc=0.9456, Val Acc=0.9425, F1=0.9413\n",
            "  Epoch  30: Train Acc=0.9521, Val Acc=0.9431, F1=0.9409\n",
            "  Epoch  40: Train Acc=0.9567, Val Acc=0.9438, F1=0.9418\n",
            "  Epoch  50: Train Acc=0.9589, Val Acc=0.9536, F1=0.9521\n",
            "  Early stopping at epoch 58\n",
            "  Best Val Acc: 0.9623\n",
            "\n",
            "[GAP Results]\n",
            "  Val Acc: 0.9623\n",
            "  Test Acc: 0.9090, F1: 0.9039\n",
            "\n",
            "[Training TPA]\n"
          ]
        },
        {
          "output_type": "stream",
          "name": "stderr",
          "text": [
            "/usr/local/lib/python3.12/dist-packages/torch/nn/modules/transformer.py:392: UserWarning: enable_nested_tensor is True, but self.use_nested_tensor is False because encoder_layer.norm_first was True\n",
            "  warnings.warn(\n"
          ]
        },
        {
          "output_type": "stream",
          "name": "stdout",
          "text": [
            "  Epoch  10: Train Acc=0.9201, Val Acc=0.9178, F1=0.9150\n",
            "  Epoch  20: Train Acc=0.9461, Val Acc=0.9382, F1=0.9371\n",
            "  Epoch  30: Train Acc=0.9556, Val Acc=0.9413, F1=0.9396\n",
            "  Epoch  40: Train Acc=0.9556, Val Acc=0.9555, F1=0.9548\n",
            "  Epoch  50: Train Acc=0.9547, Val Acc=0.9481, F1=0.9468\n",
            "  Epoch  60: Train Acc=0.9576, Val Acc=0.9617, F1=0.9611\n",
            "  Epoch  70: Train Acc=0.9580, Val Acc=0.9462, F1=0.9448\n",
            "  Epoch  80: Train Acc=0.9561, Val Acc=0.9629, F1=0.9625\n",
            "  Epoch  90: Train Acc=0.9592, Val Acc=0.9536, F1=0.9525\n",
            "  Epoch 100: Train Acc=0.9598, Val Acc=0.9629, F1=0.9622\n",
            "  Best Val Acc: 0.9654\n",
            "\n",
            "[TPA Results]\n",
            "  Val Acc: 0.9654\n",
            "  Test Acc: 0.8902, F1: 0.8876\n",
            "\n",
            "[Training Gated-TPA]\n"
          ]
        },
        {
          "output_type": "stream",
          "name": "stderr",
          "text": [
            "/usr/local/lib/python3.12/dist-packages/torch/nn/modules/transformer.py:392: UserWarning: enable_nested_tensor is True, but self.use_nested_tensor is False because encoder_layer.norm_first was True\n",
            "  warnings.warn(\n"
          ]
        },
        {
          "output_type": "stream",
          "name": "stdout",
          "text": [
            "  Epoch  10: Train Acc=0.9179, Val Acc=0.9252, F1=0.9229\n",
            "  Epoch  20: Train Acc=0.9471, Val Acc=0.9604, F1=0.9596\n",
            "  Epoch  30: Train Acc=0.9532, Val Acc=0.9462, F1=0.9457\n",
            "  Epoch  40: Train Acc=0.9547, Val Acc=0.9611, F1=0.9606\n",
            "  Epoch  50: Train Acc=0.9564, Val Acc=0.9629, F1=0.9628\n",
            "  Epoch  60: Train Acc=0.9584, Val Acc=0.9555, F1=0.9551\n",
            "  Epoch  70: Train Acc=0.9604, Val Acc=0.9530, F1=0.9531\n",
            "  Early stopping at epoch 72\n",
            "  Best Val Acc: 0.9648\n",
            "\n",
            "[Gated-TPA Results]\n",
            "  Val Acc: 0.9648\n",
            "  Test Acc: 0.9040, F1: 0.9010\n",
            "\n",
            "[Progress: 28/41]\n",
            "\n",
            "================================================================================\n",
            "EXPERIMENT: WALKING_TO_WALKING_UPSTAIRS_30pct\n",
            "================================================================================\n",
            "\n",
            "Loading WALKING_TO_WALKING_UPSTAIRS_30pct...\n",
            "  Path: /content/drive/MyDrive/AI_data/TPA2/uci_har_transition_datasets/WALKING_TO_WALKING_UPSTAIRS_30pct\n",
            "  Train: (8087, 9, 128), Test: (3241, 9, 128)\n",
            "\n",
            "Dataset splits:\n",
            "  Train: 6469, Val: 1618, Test: 3241\n",
            "\n",
            "[Training GAP]\n"
          ]
        },
        {
          "output_type": "stream",
          "name": "stderr",
          "text": [
            "/usr/local/lib/python3.12/dist-packages/torch/nn/modules/transformer.py:392: UserWarning: enable_nested_tensor is True, but self.use_nested_tensor is False because encoder_layer.norm_first was True\n",
            "  warnings.warn(\n"
          ]
        },
        {
          "output_type": "stream",
          "name": "stdout",
          "text": [
            "  Epoch  10: Train Acc=0.9170, Val Acc=0.9209, F1=0.9192\n",
            "  Epoch  20: Train Acc=0.9473, Val Acc=0.9450, F1=0.9441\n",
            "  Epoch  30: Train Acc=0.9538, Val Acc=0.9512, F1=0.9502\n",
            "  Epoch  40: Train Acc=0.9559, Val Acc=0.9592, F1=0.9582\n",
            "  Epoch  50: Train Acc=0.9572, Val Acc=0.9555, F1=0.9544\n",
            "  Early stopping at epoch 55\n",
            "  Best Val Acc: 0.9660\n",
            "\n",
            "[GAP Results]\n",
            "  Val Acc: 0.9660\n",
            "  Test Acc: 0.9003, F1: 0.8957\n",
            "\n",
            "[Training TPA]\n"
          ]
        },
        {
          "output_type": "stream",
          "name": "stderr",
          "text": [
            "/usr/local/lib/python3.12/dist-packages/torch/nn/modules/transformer.py:392: UserWarning: enable_nested_tensor is True, but self.use_nested_tensor is False because encoder_layer.norm_first was True\n",
            "  warnings.warn(\n"
          ]
        },
        {
          "output_type": "stream",
          "name": "stdout",
          "text": [
            "  Epoch  10: Train Acc=0.9216, Val Acc=0.9382, F1=0.9362\n",
            "  Epoch  20: Train Acc=0.9461, Val Acc=0.9549, F1=0.9541\n",
            "  Epoch  30: Train Acc=0.9521, Val Acc=0.9598, F1=0.9593\n",
            "  Epoch  40: Train Acc=0.9536, Val Acc=0.9487, F1=0.9470\n",
            "  Epoch  50: Train Acc=0.9555, Val Acc=0.9623, F1=0.9618\n",
            "  Early stopping at epoch 57\n",
            "  Best Val Acc: 0.9648\n",
            "\n",
            "[TPA Results]\n",
            "  Val Acc: 0.9648\n",
            "  Test Acc: 0.8846, F1: 0.8821\n",
            "\n",
            "[Training Gated-TPA]\n"
          ]
        },
        {
          "output_type": "stream",
          "name": "stderr",
          "text": [
            "/usr/local/lib/python3.12/dist-packages/torch/nn/modules/transformer.py:392: UserWarning: enable_nested_tensor is True, but self.use_nested_tensor is False because encoder_layer.norm_first was True\n",
            "  warnings.warn(\n"
          ]
        },
        {
          "output_type": "stream",
          "name": "stdout",
          "text": [
            "  Epoch  10: Train Acc=0.9114, Val Acc=0.9203, F1=0.9176\n",
            "  Epoch  20: Train Acc=0.9501, Val Acc=0.9648, F1=0.9641\n",
            "  Epoch  30: Train Acc=0.9552, Val Acc=0.9617, F1=0.9607\n",
            "  Epoch  40: Train Acc=0.9575, Val Acc=0.9574, F1=0.9564\n",
            "  Early stopping at epoch 47\n",
            "  Best Val Acc: 0.9660\n",
            "\n",
            "[Gated-TPA Results]\n",
            "  Val Acc: 0.9660\n",
            "  Test Acc: 0.8889, F1: 0.8865\n",
            "\n",
            "[Progress: 29/41]\n",
            "\n",
            "================================================================================\n",
            "EXPERIMENT: WALKING_TO_WALKING_UPSTAIRS_40pct\n",
            "================================================================================\n",
            "\n",
            "Loading WALKING_TO_WALKING_UPSTAIRS_40pct...\n",
            "  Path: /content/drive/MyDrive/AI_data/TPA2/uci_har_transition_datasets/WALKING_TO_WALKING_UPSTAIRS_40pct\n",
            "  Train: (8087, 9, 128), Test: (3241, 9, 128)\n",
            "\n",
            "Dataset splits:\n",
            "  Train: 6469, Val: 1618, Test: 3241\n",
            "\n",
            "[Training GAP]\n"
          ]
        },
        {
          "output_type": "stream",
          "name": "stderr",
          "text": [
            "/usr/local/lib/python3.12/dist-packages/torch/nn/modules/transformer.py:392: UserWarning: enable_nested_tensor is True, but self.use_nested_tensor is False because encoder_layer.norm_first was True\n",
            "  warnings.warn(\n"
          ]
        },
        {
          "output_type": "stream",
          "name": "stdout",
          "text": [
            "  Epoch  10: Train Acc=0.9136, Val Acc=0.9091, F1=0.9065\n",
            "  Epoch  20: Train Acc=0.9479, Val Acc=0.9227, F1=0.9197\n",
            "  Epoch  30: Train Acc=0.9546, Val Acc=0.9394, F1=0.9374\n",
            "  Epoch  40: Train Acc=0.9550, Val Acc=0.9413, F1=0.9387\n",
            "  Epoch  50: Train Acc=0.9559, Val Acc=0.9512, F1=0.9497\n",
            "  Epoch  60: Train Acc=0.9573, Val Acc=0.9604, F1=0.9596\n",
            "  Early stopping at epoch 66\n",
            "  Best Val Acc: 0.9611\n",
            "\n",
            "[GAP Results]\n",
            "  Val Acc: 0.9611\n",
            "  Test Acc: 0.9047, F1: 0.8998\n",
            "\n",
            "[Training TPA]\n"
          ]
        },
        {
          "output_type": "stream",
          "name": "stderr",
          "text": [
            "/usr/local/lib/python3.12/dist-packages/torch/nn/modules/transformer.py:392: UserWarning: enable_nested_tensor is True, but self.use_nested_tensor is False because encoder_layer.norm_first was True\n",
            "  warnings.warn(\n"
          ]
        },
        {
          "output_type": "stream",
          "name": "stdout",
          "text": [
            "  Epoch  10: Train Acc=0.9219, Val Acc=0.9289, F1=0.9283\n",
            "  Epoch  20: Train Acc=0.9501, Val Acc=0.9586, F1=0.9576\n",
            "  Epoch  30: Train Acc=0.9527, Val Acc=0.9518, F1=0.9510\n",
            "  Epoch  40: Train Acc=0.9552, Val Acc=0.9462, F1=0.9452\n",
            "  Epoch  50: Train Acc=0.9573, Val Acc=0.9586, F1=0.9578\n",
            "  Early stopping at epoch 56\n",
            "  Best Val Acc: 0.9604\n",
            "\n",
            "[TPA Results]\n",
            "  Val Acc: 0.9604\n",
            "  Test Acc: 0.9028, F1: 0.8987\n",
            "\n",
            "[Training Gated-TPA]\n"
          ]
        },
        {
          "output_type": "stream",
          "name": "stderr",
          "text": [
            "/usr/local/lib/python3.12/dist-packages/torch/nn/modules/transformer.py:392: UserWarning: enable_nested_tensor is True, but self.use_nested_tensor is False because encoder_layer.norm_first was True\n",
            "  warnings.warn(\n"
          ]
        },
        {
          "output_type": "stream",
          "name": "stdout",
          "text": [
            "  Epoch  10: Train Acc=0.9167, Val Acc=0.9197, F1=0.9175\n",
            "  Epoch  20: Train Acc=0.9499, Val Acc=0.9549, F1=0.9535\n",
            "  Epoch  30: Train Acc=0.9539, Val Acc=0.9506, F1=0.9493\n",
            "  Epoch  40: Train Acc=0.9573, Val Acc=0.9592, F1=0.9585\n",
            "  Early stopping at epoch 47\n",
            "  Best Val Acc: 0.9598\n",
            "\n",
            "[Gated-TPA Results]\n",
            "  Val Acc: 0.9598\n",
            "  Test Acc: 0.8939, F1: 0.8909\n",
            "\n",
            "[Progress: 30/41]\n",
            "\n",
            "================================================================================\n",
            "EXPERIMENT: WALKING_TO_WALKING_DOWNSTAIRS_10pct\n",
            "================================================================================\n",
            "\n",
            "Loading WALKING_TO_WALKING_DOWNSTAIRS_10pct...\n",
            "  Path: /content/drive/MyDrive/AI_data/TPA2/uci_har_transition_datasets/WALKING_TO_WALKING_DOWNSTAIRS_10pct\n",
            "  Train: (8087, 9, 128), Test: (3241, 9, 128)\n",
            "\n",
            "Dataset splits:\n",
            "  Train: 6469, Val: 1618, Test: 3241\n",
            "\n",
            "[Training GAP]\n"
          ]
        },
        {
          "output_type": "stream",
          "name": "stderr",
          "text": [
            "/usr/local/lib/python3.12/dist-packages/torch/nn/modules/transformer.py:392: UserWarning: enable_nested_tensor is True, but self.use_nested_tensor is False because encoder_layer.norm_first was True\n",
            "  warnings.warn(\n"
          ]
        },
        {
          "output_type": "stream",
          "name": "stdout",
          "text": [
            "  Epoch  10: Train Acc=0.9168, Val Acc=0.9308, F1=0.9292\n",
            "  Epoch  20: Train Acc=0.9476, Val Acc=0.9462, F1=0.9450\n",
            "  Epoch  30: Train Acc=0.9525, Val Acc=0.9611, F1=0.9602\n",
            "  Epoch  40: Train Acc=0.9546, Val Acc=0.9499, F1=0.9485\n",
            "  Epoch  50: Train Acc=0.9581, Val Acc=0.9586, F1=0.9577\n",
            "  Early stopping at epoch 54\n",
            "  Best Val Acc: 0.9635\n",
            "\n",
            "[GAP Results]\n",
            "  Val Acc: 0.9635\n",
            "  Test Acc: 0.8976, F1: 0.8922\n",
            "\n",
            "[Training TPA]\n"
          ]
        },
        {
          "output_type": "stream",
          "name": "stderr",
          "text": [
            "/usr/local/lib/python3.12/dist-packages/torch/nn/modules/transformer.py:392: UserWarning: enable_nested_tensor is True, but self.use_nested_tensor is False because encoder_layer.norm_first was True\n",
            "  warnings.warn(\n"
          ]
        },
        {
          "output_type": "stream",
          "name": "stdout",
          "text": [
            "  Epoch  10: Train Acc=0.9287, Val Acc=0.9487, F1=0.9478\n",
            "  Epoch  20: Train Acc=0.9478, Val Acc=0.9598, F1=0.9591\n",
            "  Epoch  30: Train Acc=0.9527, Val Acc=0.9611, F1=0.9601\n",
            "  Epoch  40: Train Acc=0.9566, Val Acc=0.9617, F1=0.9611\n",
            "  Epoch  50: Train Acc=0.9556, Val Acc=0.9518, F1=0.9510\n",
            "  Epoch  60: Train Acc=0.9561, Val Acc=0.9586, F1=0.9579\n",
            "  Epoch  70: Train Acc=0.9553, Val Acc=0.9611, F1=0.9603\n",
            "  Epoch  80: Train Acc=0.9576, Val Acc=0.9530, F1=0.9519\n",
            "  Early stopping at epoch 86\n",
            "  Best Val Acc: 0.9654\n",
            "\n",
            "[TPA Results]\n",
            "  Val Acc: 0.9654\n",
            "  Test Acc: 0.8976, F1: 0.8941\n",
            "\n",
            "[Training Gated-TPA]\n"
          ]
        },
        {
          "output_type": "stream",
          "name": "stderr",
          "text": [
            "/usr/local/lib/python3.12/dist-packages/torch/nn/modules/transformer.py:392: UserWarning: enable_nested_tensor is True, but self.use_nested_tensor is False because encoder_layer.norm_first was True\n",
            "  warnings.warn(\n"
          ]
        },
        {
          "output_type": "stream",
          "name": "stdout",
          "text": [
            "  Epoch  10: Train Acc=0.9199, Val Acc=0.9203, F1=0.9182\n",
            "  Epoch  20: Train Acc=0.9478, Val Acc=0.9635, F1=0.9629\n",
            "  Epoch  30: Train Acc=0.9555, Val Acc=0.9604, F1=0.9599\n",
            "  Epoch  40: Train Acc=0.9575, Val Acc=0.9530, F1=0.9521\n",
            "  Epoch  50: Train Acc=0.9544, Val Acc=0.9574, F1=0.9567\n",
            "  Epoch  60: Train Acc=0.9581, Val Acc=0.9642, F1=0.9637\n",
            "  Epoch  70: Train Acc=0.9590, Val Acc=0.9444, F1=0.9429\n",
            "  Early stopping at epoch 76\n",
            "  Best Val Acc: 0.9672\n",
            "\n",
            "[Gated-TPA Results]\n",
            "  Val Acc: 0.9672\n",
            "  Test Acc: 0.9044, F1: 0.8999\n",
            "\n",
            "[Progress: 31/41]\n",
            "\n",
            "================================================================================\n",
            "EXPERIMENT: WALKING_TO_WALKING_DOWNSTAIRS_20pct\n",
            "================================================================================\n",
            "\n",
            "Loading WALKING_TO_WALKING_DOWNSTAIRS_20pct...\n",
            "  Path: /content/drive/MyDrive/AI_data/TPA2/uci_har_transition_datasets/WALKING_TO_WALKING_DOWNSTAIRS_20pct\n",
            "  Train: (8087, 9, 128), Test: (3241, 9, 128)\n",
            "\n",
            "Dataset splits:\n",
            "  Train: 6469, Val: 1618, Test: 3241\n",
            "\n",
            "[Training GAP]\n"
          ]
        },
        {
          "output_type": "stream",
          "name": "stderr",
          "text": [
            "/usr/local/lib/python3.12/dist-packages/torch/nn/modules/transformer.py:392: UserWarning: enable_nested_tensor is True, but self.use_nested_tensor is False because encoder_layer.norm_first was True\n",
            "  warnings.warn(\n"
          ]
        },
        {
          "output_type": "stream",
          "name": "stdout",
          "text": [
            "  Epoch  10: Train Acc=0.9176, Val Acc=0.9153, F1=0.9126\n",
            "  Epoch  20: Train Acc=0.9450, Val Acc=0.9456, F1=0.9440\n",
            "  Epoch  30: Train Acc=0.9518, Val Acc=0.9592, F1=0.9583\n",
            "  Epoch  40: Train Acc=0.9541, Val Acc=0.9524, F1=0.9511\n",
            "  Epoch  50: Train Acc=0.9555, Val Acc=0.9598, F1=0.9588\n",
            "  Early stopping at epoch 56\n",
            "  Best Val Acc: 0.9660\n",
            "\n",
            "[GAP Results]\n",
            "  Val Acc: 0.9660\n",
            "  Test Acc: 0.8994, F1: 0.8942\n",
            "\n",
            "[Training TPA]\n"
          ]
        },
        {
          "output_type": "stream",
          "name": "stderr",
          "text": [
            "/usr/local/lib/python3.12/dist-packages/torch/nn/modules/transformer.py:392: UserWarning: enable_nested_tensor is True, but self.use_nested_tensor is False because encoder_layer.norm_first was True\n",
            "  warnings.warn(\n"
          ]
        },
        {
          "output_type": "stream",
          "name": "stdout",
          "text": [
            "  Epoch  10: Train Acc=0.9272, Val Acc=0.9314, F1=0.9301\n",
            "  Epoch  20: Train Acc=0.9451, Val Acc=0.9623, F1=0.9619\n",
            "  Epoch  30: Train Acc=0.9544, Val Acc=0.9512, F1=0.9500\n",
            "  Epoch  40: Train Acc=0.9535, Val Acc=0.9666, F1=0.9661\n",
            "  Epoch  50: Train Acc=0.9559, Val Acc=0.9543, F1=0.9529\n",
            "  Epoch  60: Train Acc=0.9538, Val Acc=0.9598, F1=0.9591\n",
            "  Early stopping at epoch 60\n",
            "  Best Val Acc: 0.9666\n",
            "\n",
            "[TPA Results]\n",
            "  Val Acc: 0.9666\n",
            "  Test Acc: 0.8865, F1: 0.8833\n",
            "\n",
            "[Training Gated-TPA]\n"
          ]
        },
        {
          "output_type": "stream",
          "name": "stderr",
          "text": [
            "/usr/local/lib/python3.12/dist-packages/torch/nn/modules/transformer.py:392: UserWarning: enable_nested_tensor is True, but self.use_nested_tensor is False because encoder_layer.norm_first was True\n",
            "  warnings.warn(\n"
          ]
        },
        {
          "output_type": "stream",
          "name": "stdout",
          "text": [
            "  Epoch  10: Train Acc=0.9219, Val Acc=0.9023, F1=0.8983\n",
            "  Epoch  20: Train Acc=0.9522, Val Acc=0.9586, F1=0.9581\n",
            "  Epoch  30: Train Acc=0.9522, Val Acc=0.9604, F1=0.9598\n",
            "  Epoch  40: Train Acc=0.9576, Val Acc=0.9623, F1=0.9618\n",
            "  Epoch  50: Train Acc=0.9580, Val Acc=0.9598, F1=0.9587\n",
            "  Early stopping at epoch 51\n",
            "  Best Val Acc: 0.9648\n",
            "\n",
            "[Gated-TPA Results]\n",
            "  Val Acc: 0.9648\n",
            "  Test Acc: 0.8948, F1: 0.8917\n",
            "\n",
            "[Progress: 32/41]\n",
            "\n",
            "================================================================================\n",
            "EXPERIMENT: WALKING_TO_WALKING_DOWNSTAIRS_30pct\n",
            "================================================================================\n",
            "\n",
            "Loading WALKING_TO_WALKING_DOWNSTAIRS_30pct...\n",
            "  Path: /content/drive/MyDrive/AI_data/TPA2/uci_har_transition_datasets/WALKING_TO_WALKING_DOWNSTAIRS_30pct\n",
            "  Train: (8087, 9, 128), Test: (3241, 9, 128)\n",
            "\n",
            "Dataset splits:\n",
            "  Train: 6469, Val: 1618, Test: 3241\n",
            "\n",
            "[Training GAP]\n"
          ]
        },
        {
          "output_type": "stream",
          "name": "stderr",
          "text": [
            "/usr/local/lib/python3.12/dist-packages/torch/nn/modules/transformer.py:392: UserWarning: enable_nested_tensor is True, but self.use_nested_tensor is False because encoder_layer.norm_first was True\n",
            "  warnings.warn(\n"
          ]
        },
        {
          "output_type": "stream",
          "name": "stdout",
          "text": [
            "  Epoch  10: Train Acc=0.9196, Val Acc=0.9147, F1=0.9129\n",
            "  Epoch  20: Train Acc=0.9491, Val Acc=0.9450, F1=0.9443\n",
            "  Epoch  30: Train Acc=0.9558, Val Acc=0.9506, F1=0.9499\n",
            "  Epoch  40: Train Acc=0.9580, Val Acc=0.9481, F1=0.9471\n",
            "  Epoch  50: Train Acc=0.9558, Val Acc=0.9481, F1=0.9473\n",
            "  Epoch  60: Train Acc=0.9621, Val Acc=0.9543, F1=0.9536\n",
            "  Epoch  70: Train Acc=0.9575, Val Acc=0.9543, F1=0.9536\n",
            "  Epoch  80: Train Acc=0.9615, Val Acc=0.9574, F1=0.9567\n",
            "  Epoch  90: Train Acc=0.9620, Val Acc=0.9561, F1=0.9555\n",
            "  Epoch 100: Train Acc=0.9604, Val Acc=0.9580, F1=0.9573\n",
            "  Best Val Acc: 0.9611\n",
            "\n",
            "[GAP Results]\n",
            "  Val Acc: 0.9611\n",
            "  Test Acc: 0.9016, F1: 0.8965\n",
            "\n",
            "[Training TPA]\n"
          ]
        },
        {
          "output_type": "stream",
          "name": "stderr",
          "text": [
            "/usr/local/lib/python3.12/dist-packages/torch/nn/modules/transformer.py:392: UserWarning: enable_nested_tensor is True, but self.use_nested_tensor is False because encoder_layer.norm_first was True\n",
            "  warnings.warn(\n"
          ]
        },
        {
          "output_type": "stream",
          "name": "stdout",
          "text": [
            "  Epoch  10: Train Acc=0.9260, Val Acc=0.9376, F1=0.9361\n",
            "  Epoch  20: Train Acc=0.9487, Val Acc=0.9419, F1=0.9402\n",
            "  Epoch  30: Train Acc=0.9542, Val Acc=0.9468, F1=0.9454\n",
            "  Epoch  40: Train Acc=0.9570, Val Acc=0.9530, F1=0.9518\n",
            "  Epoch  50: Train Acc=0.9563, Val Acc=0.9425, F1=0.9410\n",
            "  Epoch  60: Train Acc=0.9570, Val Acc=0.9524, F1=0.9513\n",
            "  Early stopping at epoch 68\n",
            "  Best Val Acc: 0.9543\n",
            "\n",
            "[TPA Results]\n",
            "  Val Acc: 0.9543\n",
            "  Test Acc: 0.8939, F1: 0.8908\n",
            "\n",
            "[Training Gated-TPA]\n"
          ]
        },
        {
          "output_type": "stream",
          "name": "stderr",
          "text": [
            "/usr/local/lib/python3.12/dist-packages/torch/nn/modules/transformer.py:392: UserWarning: enable_nested_tensor is True, but self.use_nested_tensor is False because encoder_layer.norm_first was True\n",
            "  warnings.warn(\n"
          ]
        },
        {
          "output_type": "stream",
          "name": "stdout",
          "text": [
            "  Epoch  10: Train Acc=0.9212, Val Acc=0.9054, F1=0.9026\n",
            "  Epoch  20: Train Acc=0.9522, Val Acc=0.9456, F1=0.9447\n",
            "  Epoch  30: Train Acc=0.9556, Val Acc=0.9444, F1=0.9434\n",
            "  Epoch  40: Train Acc=0.9597, Val Acc=0.9549, F1=0.9540\n",
            "  Epoch  50: Train Acc=0.9569, Val Acc=0.9549, F1=0.9542\n",
            "  Epoch  60: Train Acc=0.9614, Val Acc=0.9431, F1=0.9417\n",
            "  Epoch  70: Train Acc=0.9623, Val Acc=0.9549, F1=0.9542\n",
            "  Epoch  80: Train Acc=0.9624, Val Acc=0.9561, F1=0.9551\n",
            "  Early stopping at epoch 84\n",
            "  Best Val Acc: 0.9561\n",
            "\n",
            "[Gated-TPA Results]\n",
            "  Val Acc: 0.9561\n",
            "  Test Acc: 0.9028, F1: 0.8990\n",
            "\n",
            "[Progress: 33/41]\n",
            "\n",
            "================================================================================\n",
            "EXPERIMENT: WALKING_TO_WALKING_DOWNSTAIRS_40pct\n",
            "================================================================================\n",
            "\n",
            "Loading WALKING_TO_WALKING_DOWNSTAIRS_40pct...\n",
            "  Path: /content/drive/MyDrive/AI_data/TPA2/uci_har_transition_datasets/WALKING_TO_WALKING_DOWNSTAIRS_40pct\n",
            "  Train: (8087, 9, 128), Test: (3241, 9, 128)\n",
            "\n",
            "Dataset splits:\n",
            "  Train: 6469, Val: 1618, Test: 3241\n",
            "\n",
            "[Training GAP]\n"
          ]
        },
        {
          "output_type": "stream",
          "name": "stderr",
          "text": [
            "/usr/local/lib/python3.12/dist-packages/torch/nn/modules/transformer.py:392: UserWarning: enable_nested_tensor is True, but self.use_nested_tensor is False because encoder_layer.norm_first was True\n",
            "  warnings.warn(\n"
          ]
        },
        {
          "output_type": "stream",
          "name": "stdout",
          "text": [
            "  Epoch  10: Train Acc=0.9116, Val Acc=0.9110, F1=0.9094\n",
            "  Epoch  20: Train Acc=0.9450, Val Acc=0.9462, F1=0.9451\n",
            "  Epoch  30: Train Acc=0.9513, Val Acc=0.9419, F1=0.9404\n",
            "  Epoch  40: Train Acc=0.9564, Val Acc=0.9475, F1=0.9459\n",
            "  Epoch  50: Train Acc=0.9556, Val Acc=0.9617, F1=0.9610\n",
            "  Early stopping at epoch 58\n",
            "  Best Val Acc: 0.9623\n",
            "\n",
            "[GAP Results]\n",
            "  Val Acc: 0.9623\n",
            "  Test Acc: 0.8923, F1: 0.8876\n",
            "\n",
            "[Training TPA]\n"
          ]
        },
        {
          "output_type": "stream",
          "name": "stderr",
          "text": [
            "/usr/local/lib/python3.12/dist-packages/torch/nn/modules/transformer.py:392: UserWarning: enable_nested_tensor is True, but self.use_nested_tensor is False because encoder_layer.norm_first was True\n",
            "  warnings.warn(\n"
          ]
        },
        {
          "output_type": "stream",
          "name": "stdout",
          "text": [
            "  Epoch  10: Train Acc=0.9170, Val Acc=0.9345, F1=0.9328\n",
            "  Epoch  20: Train Acc=0.9457, Val Acc=0.9376, F1=0.9358\n",
            "  Epoch  30: Train Acc=0.9538, Val Acc=0.9592, F1=0.9584\n",
            "  Epoch  40: Train Acc=0.9542, Val Acc=0.9518, F1=0.9510\n",
            "  Epoch  50: Train Acc=0.9558, Val Acc=0.9524, F1=0.9514\n",
            "  Epoch  60: Train Acc=0.9544, Val Acc=0.9617, F1=0.9610\n",
            "  Early stopping at epoch 68\n",
            "  Best Val Acc: 0.9629\n",
            "\n",
            "[TPA Results]\n",
            "  Val Acc: 0.9629\n",
            "  Test Acc: 0.8874, F1: 0.8845\n",
            "\n",
            "[Training Gated-TPA]\n"
          ]
        },
        {
          "output_type": "stream",
          "name": "stderr",
          "text": [
            "/usr/local/lib/python3.12/dist-packages/torch/nn/modules/transformer.py:392: UserWarning: enable_nested_tensor is True, but self.use_nested_tensor is False because encoder_layer.norm_first was True\n",
            "  warnings.warn(\n"
          ]
        },
        {
          "output_type": "stream",
          "name": "stdout",
          "text": [
            "  Epoch  10: Train Acc=0.9103, Val Acc=0.9221, F1=0.9210\n",
            "  Epoch  20: Train Acc=0.9473, Val Acc=0.9561, F1=0.9558\n",
            "  Epoch  30: Train Acc=0.9542, Val Acc=0.9604, F1=0.9598\n",
            "  Epoch  40: Train Acc=0.9578, Val Acc=0.9617, F1=0.9613\n",
            "  Epoch  50: Train Acc=0.9553, Val Acc=0.9604, F1=0.9599\n",
            "  Epoch  60: Train Acc=0.9575, Val Acc=0.9580, F1=0.9573\n",
            "  Early stopping at epoch 66\n",
            "  Best Val Acc: 0.9654\n",
            "\n",
            "[Gated-TPA Results]\n",
            "  Val Acc: 0.9654\n",
            "  Test Acc: 0.8973, F1: 0.8933\n",
            "\n",
            "[Progress: 34/41]\n",
            "\n",
            "================================================================================\n",
            "EXPERIMENT: WALKING_UPSTAIRS_TO_WALKING_10pct\n",
            "================================================================================\n",
            "\n",
            "Loading WALKING_UPSTAIRS_TO_WALKING_10pct...\n",
            "  Path: /content/drive/MyDrive/AI_data/TPA2/uci_har_transition_datasets/WALKING_UPSTAIRS_TO_WALKING_10pct\n",
            "  Train: (8087, 9, 128), Test: (3241, 9, 128)\n",
            "\n",
            "Dataset splits:\n",
            "  Train: 6469, Val: 1618, Test: 3241\n",
            "\n",
            "[Training GAP]\n"
          ]
        },
        {
          "output_type": "stream",
          "name": "stderr",
          "text": [
            "/usr/local/lib/python3.12/dist-packages/torch/nn/modules/transformer.py:392: UserWarning: enable_nested_tensor is True, but self.use_nested_tensor is False because encoder_layer.norm_first was True\n",
            "  warnings.warn(\n"
          ]
        },
        {
          "output_type": "stream",
          "name": "stdout",
          "text": [
            "  Epoch  10: Train Acc=0.9204, Val Acc=0.9166, F1=0.9144\n",
            "  Epoch  20: Train Acc=0.9476, Val Acc=0.9357, F1=0.9333\n",
            "  Epoch  30: Train Acc=0.9550, Val Acc=0.9431, F1=0.9421\n",
            "  Epoch  40: Train Acc=0.9598, Val Acc=0.9524, F1=0.9518\n",
            "  Epoch  50: Train Acc=0.9589, Val Acc=0.9468, F1=0.9462\n",
            "  Epoch  60: Train Acc=0.9612, Val Acc=0.9499, F1=0.9486\n",
            "  Epoch  70: Train Acc=0.9597, Val Acc=0.9475, F1=0.9466\n",
            "  Early stopping at epoch 72\n",
            "  Best Val Acc: 0.9549\n",
            "\n",
            "[GAP Results]\n",
            "  Val Acc: 0.9549\n",
            "  Test Acc: 0.8936, F1: 0.8912\n",
            "\n",
            "[Training TPA]\n"
          ]
        },
        {
          "output_type": "stream",
          "name": "stderr",
          "text": [
            "/usr/local/lib/python3.12/dist-packages/torch/nn/modules/transformer.py:392: UserWarning: enable_nested_tensor is True, but self.use_nested_tensor is False because encoder_layer.norm_first was True\n",
            "  warnings.warn(\n"
          ]
        },
        {
          "output_type": "stream",
          "name": "stdout",
          "text": [
            "  Epoch  10: Train Acc=0.9243, Val Acc=0.9326, F1=0.9303\n",
            "  Epoch  20: Train Acc=0.9521, Val Acc=0.9468, F1=0.9459\n",
            "  Epoch  30: Train Acc=0.9583, Val Acc=0.9530, F1=0.9525\n",
            "  Epoch  40: Train Acc=0.9612, Val Acc=0.9481, F1=0.9472\n",
            "  Early stopping at epoch 48\n",
            "  Best Val Acc: 0.9561\n",
            "\n",
            "[TPA Results]\n",
            "  Val Acc: 0.9561\n",
            "  Test Acc: 0.9013, F1: 0.8973\n",
            "\n",
            "[Training Gated-TPA]\n"
          ]
        },
        {
          "output_type": "stream",
          "name": "stderr",
          "text": [
            "/usr/local/lib/python3.12/dist-packages/torch/nn/modules/transformer.py:392: UserWarning: enable_nested_tensor is True, but self.use_nested_tensor is False because encoder_layer.norm_first was True\n",
            "  warnings.warn(\n"
          ]
        },
        {
          "output_type": "stream",
          "name": "stdout",
          "text": [
            "  Epoch  10: Train Acc=0.9181, Val Acc=0.9314, F1=0.9303\n",
            "  Epoch  20: Train Acc=0.9524, Val Acc=0.9468, F1=0.9461\n",
            "  Epoch  30: Train Acc=0.9575, Val Acc=0.9444, F1=0.9436\n",
            "  Epoch  40: Train Acc=0.9598, Val Acc=0.9524, F1=0.9520\n",
            "  Epoch  50: Train Acc=0.9580, Val Acc=0.9468, F1=0.9462\n",
            "  Early stopping at epoch 52\n",
            "  Best Val Acc: 0.9543\n",
            "\n",
            "[Gated-TPA Results]\n",
            "  Val Acc: 0.9543\n",
            "  Test Acc: 0.8979, F1: 0.8943\n",
            "\n",
            "[Progress: 35/41]\n",
            "\n",
            "================================================================================\n",
            "EXPERIMENT: WALKING_UPSTAIRS_TO_WALKING_20pct\n",
            "================================================================================\n",
            "\n",
            "Loading WALKING_UPSTAIRS_TO_WALKING_20pct...\n",
            "  Path: /content/drive/MyDrive/AI_data/TPA2/uci_har_transition_datasets/WALKING_UPSTAIRS_TO_WALKING_20pct\n",
            "  Train: (8087, 9, 128), Test: (3241, 9, 128)\n",
            "\n",
            "Dataset splits:\n",
            "  Train: 6469, Val: 1618, Test: 3241\n",
            "\n",
            "[Training GAP]\n"
          ]
        },
        {
          "output_type": "stream",
          "name": "stderr",
          "text": [
            "/usr/local/lib/python3.12/dist-packages/torch/nn/modules/transformer.py:392: UserWarning: enable_nested_tensor is True, but self.use_nested_tensor is False because encoder_layer.norm_first was True\n",
            "  warnings.warn(\n"
          ]
        },
        {
          "output_type": "stream",
          "name": "stdout",
          "text": [
            "  Epoch  10: Train Acc=0.9111, Val Acc=0.9073, F1=0.9083\n",
            "  Epoch  20: Train Acc=0.9442, Val Acc=0.9499, F1=0.9493\n",
            "  Epoch  30: Train Acc=0.9536, Val Acc=0.9326, F1=0.9302\n",
            "  Epoch  40: Train Acc=0.9546, Val Acc=0.9518, F1=0.9512\n",
            "  Epoch  50: Train Acc=0.9566, Val Acc=0.9456, F1=0.9448\n",
            "  Early stopping at epoch 56\n",
            "  Best Val Acc: 0.9574\n",
            "\n",
            "[GAP Results]\n",
            "  Val Acc: 0.9574\n",
            "  Test Acc: 0.8939, F1: 0.8902\n",
            "\n",
            "[Training TPA]\n"
          ]
        },
        {
          "output_type": "stream",
          "name": "stderr",
          "text": [
            "/usr/local/lib/python3.12/dist-packages/torch/nn/modules/transformer.py:392: UserWarning: enable_nested_tensor is True, but self.use_nested_tensor is False because encoder_layer.norm_first was True\n",
            "  warnings.warn(\n"
          ]
        },
        {
          "output_type": "stream",
          "name": "stdout",
          "text": [
            "  Epoch  10: Train Acc=0.9246, Val Acc=0.9357, F1=0.9340\n",
            "  Epoch  20: Train Acc=0.9505, Val Acc=0.9475, F1=0.9463\n",
            "  Epoch  30: Train Acc=0.9569, Val Acc=0.9561, F1=0.9551\n",
            "  Epoch  40: Train Acc=0.9572, Val Acc=0.9549, F1=0.9538\n",
            "  Epoch  50: Train Acc=0.9549, Val Acc=0.9598, F1=0.9588\n",
            "  Epoch  60: Train Acc=0.9580, Val Acc=0.9592, F1=0.9584\n",
            "  Epoch  70: Train Acc=0.9597, Val Acc=0.9567, F1=0.9559\n",
            "  Early stopping at epoch 71\n",
            "  Best Val Acc: 0.9617\n",
            "\n",
            "[TPA Results]\n",
            "  Val Acc: 0.9617\n",
            "  Test Acc: 0.9010, F1: 0.8975\n",
            "\n",
            "[Training Gated-TPA]\n"
          ]
        },
        {
          "output_type": "stream",
          "name": "stderr",
          "text": [
            "/usr/local/lib/python3.12/dist-packages/torch/nn/modules/transformer.py:392: UserWarning: enable_nested_tensor is True, but self.use_nested_tensor is False because encoder_layer.norm_first was True\n",
            "  warnings.warn(\n"
          ]
        },
        {
          "output_type": "stream",
          "name": "stdout",
          "text": [
            "  Epoch  10: Train Acc=0.9162, Val Acc=0.9197, F1=0.9185\n",
            "  Epoch  20: Train Acc=0.9502, Val Acc=0.9518, F1=0.9509\n",
            "  Epoch  30: Train Acc=0.9563, Val Acc=0.9419, F1=0.9403\n",
            "  Epoch  40: Train Acc=0.9564, Val Acc=0.9456, F1=0.9443\n",
            "  Early stopping at epoch 48\n",
            "  Best Val Acc: 0.9604\n",
            "\n",
            "[Gated-TPA Results]\n",
            "  Val Acc: 0.9604\n",
            "  Test Acc: 0.8982, F1: 0.8944\n",
            "\n",
            "[Progress: 36/41]\n",
            "\n",
            "================================================================================\n",
            "EXPERIMENT: WALKING_UPSTAIRS_TO_WALKING_30pct\n",
            "================================================================================\n",
            "\n",
            "Loading WALKING_UPSTAIRS_TO_WALKING_30pct...\n",
            "  Path: /content/drive/MyDrive/AI_data/TPA2/uci_har_transition_datasets/WALKING_UPSTAIRS_TO_WALKING_30pct\n",
            "  Train: (8087, 9, 128), Test: (3241, 9, 128)\n",
            "\n",
            "Dataset splits:\n",
            "  Train: 6469, Val: 1618, Test: 3241\n",
            "\n",
            "[Training GAP]\n"
          ]
        },
        {
          "output_type": "stream",
          "name": "stderr",
          "text": [
            "/usr/local/lib/python3.12/dist-packages/torch/nn/modules/transformer.py:392: UserWarning: enable_nested_tensor is True, but self.use_nested_tensor is False because encoder_layer.norm_first was True\n",
            "  warnings.warn(\n"
          ]
        },
        {
          "output_type": "stream",
          "name": "stdout",
          "text": [
            "  Epoch  10: Train Acc=0.9114, Val Acc=0.9079, F1=0.9069\n",
            "  Epoch  20: Train Acc=0.9399, Val Acc=0.9326, F1=0.9302\n",
            "  Epoch  30: Train Acc=0.9501, Val Acc=0.9419, F1=0.9402\n",
            "  Epoch  40: Train Acc=0.9559, Val Acc=0.9431, F1=0.9421\n",
            "  Epoch  50: Train Acc=0.9561, Val Acc=0.9518, F1=0.9510\n",
            "  Early stopping at epoch 58\n",
            "  Best Val Acc: 0.9604\n",
            "\n",
            "[GAP Results]\n",
            "  Val Acc: 0.9604\n",
            "  Test Acc: 0.8932, F1: 0.8896\n",
            "\n",
            "[Training TPA]\n"
          ]
        },
        {
          "output_type": "stream",
          "name": "stderr",
          "text": [
            "/usr/local/lib/python3.12/dist-packages/torch/nn/modules/transformer.py:392: UserWarning: enable_nested_tensor is True, but self.use_nested_tensor is False because encoder_layer.norm_first was True\n",
            "  warnings.warn(\n"
          ]
        },
        {
          "output_type": "stream",
          "name": "stdout",
          "text": [
            "  Epoch  10: Train Acc=0.9236, Val Acc=0.9104, F1=0.9064\n",
            "  Epoch  20: Train Acc=0.9481, Val Acc=0.9407, F1=0.9395\n",
            "  Epoch  30: Train Acc=0.9549, Val Acc=0.9425, F1=0.9413\n",
            "  Epoch  40: Train Acc=0.9575, Val Acc=0.9654, F1=0.9650\n",
            "  Early stopping at epoch 48\n",
            "  Best Val Acc: 0.9654\n",
            "\n",
            "[TPA Results]\n",
            "  Val Acc: 0.9654\n",
            "  Test Acc: 0.8917, F1: 0.8886\n",
            "\n",
            "[Training Gated-TPA]\n"
          ]
        },
        {
          "output_type": "stream",
          "name": "stderr",
          "text": [
            "/usr/local/lib/python3.12/dist-packages/torch/nn/modules/transformer.py:392: UserWarning: enable_nested_tensor is True, but self.use_nested_tensor is False because encoder_layer.norm_first was True\n",
            "  warnings.warn(\n"
          ]
        },
        {
          "output_type": "stream",
          "name": "stdout",
          "text": [
            "  Epoch  10: Train Acc=0.9184, Val Acc=0.9215, F1=0.9192\n",
            "  Epoch  20: Train Acc=0.9476, Val Acc=0.9363, F1=0.9349\n",
            "  Epoch  30: Train Acc=0.9522, Val Acc=0.9450, F1=0.9439\n",
            "  Epoch  40: Train Acc=0.9563, Val Acc=0.9438, F1=0.9417\n",
            "  Early stopping at epoch 47\n",
            "  Best Val Acc: 0.9629\n",
            "\n",
            "[Gated-TPA Results]\n",
            "  Val Acc: 0.9629\n",
            "  Test Acc: 0.8840, F1: 0.8815\n",
            "\n",
            "[Progress: 37/41]\n",
            "\n",
            "================================================================================\n",
            "EXPERIMENT: WALKING_UPSTAIRS_TO_WALKING_40pct\n",
            "================================================================================\n",
            "\n",
            "Loading WALKING_UPSTAIRS_TO_WALKING_40pct...\n",
            "  Path: /content/drive/MyDrive/AI_data/TPA2/uci_har_transition_datasets/WALKING_UPSTAIRS_TO_WALKING_40pct\n",
            "  Train: (8087, 9, 128), Test: (3241, 9, 128)\n",
            "\n",
            "Dataset splits:\n",
            "  Train: 6469, Val: 1618, Test: 3241\n",
            "\n",
            "[Training GAP]\n"
          ]
        },
        {
          "output_type": "stream",
          "name": "stderr",
          "text": [
            "/usr/local/lib/python3.12/dist-packages/torch/nn/modules/transformer.py:392: UserWarning: enable_nested_tensor is True, but self.use_nested_tensor is False because encoder_layer.norm_first was True\n",
            "  warnings.warn(\n"
          ]
        },
        {
          "output_type": "stream",
          "name": "stdout",
          "text": [
            "  Epoch  10: Train Acc=0.9204, Val Acc=0.9215, F1=0.9214\n",
            "  Epoch  20: Train Acc=0.9433, Val Acc=0.9345, F1=0.9331\n",
            "  Epoch  30: Train Acc=0.9525, Val Acc=0.9536, F1=0.9534\n",
            "  Epoch  40: Train Acc=0.9539, Val Acc=0.9431, F1=0.9426\n",
            "  Epoch  50: Train Acc=0.9563, Val Acc=0.9561, F1=0.9557\n",
            "  Epoch  60: Train Acc=0.9567, Val Acc=0.9530, F1=0.9523\n",
            "  Epoch  70: Train Acc=0.9564, Val Acc=0.9518, F1=0.9511\n",
            "  Early stopping at epoch 72\n",
            "  Best Val Acc: 0.9586\n",
            "\n",
            "[GAP Results]\n",
            "  Val Acc: 0.9586\n",
            "  Test Acc: 0.8960, F1: 0.8927\n",
            "\n",
            "[Training TPA]\n"
          ]
        },
        {
          "output_type": "stream",
          "name": "stderr",
          "text": [
            "/usr/local/lib/python3.12/dist-packages/torch/nn/modules/transformer.py:392: UserWarning: enable_nested_tensor is True, but self.use_nested_tensor is False because encoder_layer.norm_first was True\n",
            "  warnings.warn(\n"
          ]
        },
        {
          "output_type": "stream",
          "name": "stdout",
          "text": [
            "  Epoch  10: Train Acc=0.9196, Val Acc=0.9333, F1=0.9318\n",
            "  Epoch  20: Train Acc=0.9476, Val Acc=0.9456, F1=0.9450\n",
            "  Epoch  30: Train Acc=0.9544, Val Acc=0.9456, F1=0.9441\n",
            "  Epoch  40: Train Acc=0.9567, Val Acc=0.9487, F1=0.9479\n",
            "  Epoch  50: Train Acc=0.9544, Val Acc=0.9543, F1=0.9536\n",
            "  Early stopping at epoch 57\n",
            "  Best Val Acc: 0.9598\n",
            "\n",
            "[TPA Results]\n",
            "  Val Acc: 0.9598\n",
            "  Test Acc: 0.8991, F1: 0.8960\n",
            "\n",
            "[Training Gated-TPA]\n"
          ]
        },
        {
          "output_type": "stream",
          "name": "stderr",
          "text": [
            "/usr/local/lib/python3.12/dist-packages/torch/nn/modules/transformer.py:392: UserWarning: enable_nested_tensor is True, but self.use_nested_tensor is False because encoder_layer.norm_first was True\n",
            "  warnings.warn(\n"
          ]
        },
        {
          "output_type": "stream",
          "name": "stdout",
          "text": [
            "  Epoch  10: Train Acc=0.9139, Val Acc=0.9221, F1=0.9225\n",
            "  Epoch  20: Train Acc=0.9467, Val Acc=0.9382, F1=0.9371\n",
            "  Epoch  30: Train Acc=0.9518, Val Acc=0.9530, F1=0.9522\n",
            "  Epoch  40: Train Acc=0.9576, Val Acc=0.9555, F1=0.9547\n",
            "  Epoch  50: Train Acc=0.9584, Val Acc=0.9604, F1=0.9598\n",
            "  Epoch  60: Train Acc=0.9597, Val Acc=0.9586, F1=0.9579\n",
            "  Epoch  70: Train Acc=0.9593, Val Acc=0.9592, F1=0.9582\n",
            "  Epoch  80: Train Acc=0.9617, Val Acc=0.9604, F1=0.9598\n",
            "  Epoch  90: Train Acc=0.9638, Val Acc=0.9648, F1=0.9644\n",
            "  Epoch 100: Train Acc=0.9658, Val Acc=0.9604, F1=0.9601\n",
            "  Best Val Acc: 0.9660\n",
            "\n",
            "[Gated-TPA Results]\n",
            "  Val Acc: 0.9660\n",
            "  Test Acc: 0.9013, F1: 0.8972\n",
            "\n",
            "[Progress: 38/41]\n",
            "\n",
            "================================================================================\n",
            "EXPERIMENT: WALKING_DOWNSTAIRS_TO_WALKING_10pct\n",
            "================================================================================\n",
            "\n",
            "Loading WALKING_DOWNSTAIRS_TO_WALKING_10pct...\n",
            "  Path: /content/drive/MyDrive/AI_data/TPA2/uci_har_transition_datasets/WALKING_DOWNSTAIRS_TO_WALKING_10pct\n",
            "  Train: (8087, 9, 128), Test: (3241, 9, 128)\n",
            "\n",
            "Dataset splits:\n",
            "  Train: 6469, Val: 1618, Test: 3241\n",
            "\n",
            "[Training GAP]\n"
          ]
        },
        {
          "output_type": "stream",
          "name": "stderr",
          "text": [
            "/usr/local/lib/python3.12/dist-packages/torch/nn/modules/transformer.py:392: UserWarning: enable_nested_tensor is True, but self.use_nested_tensor is False because encoder_layer.norm_first was True\n",
            "  warnings.warn(\n"
          ]
        },
        {
          "output_type": "stream",
          "name": "stdout",
          "text": [
            "  Epoch  10: Train Acc=0.9233, Val Acc=0.9166, F1=0.9135\n",
            "  Epoch  20: Train Acc=0.9456, Val Acc=0.9419, F1=0.9398\n",
            "  Epoch  30: Train Acc=0.9527, Val Acc=0.9407, F1=0.9389\n",
            "  Epoch  40: Train Acc=0.9550, Val Acc=0.9425, F1=0.9408\n",
            "  Epoch  50: Train Acc=0.9573, Val Acc=0.9518, F1=0.9508\n",
            "  Epoch  60: Train Acc=0.9583, Val Acc=0.9506, F1=0.9494\n",
            "  Epoch  70: Train Acc=0.9589, Val Acc=0.9555, F1=0.9544\n",
            "  Early stopping at epoch 71\n",
            "  Best Val Acc: 0.9555\n",
            "\n",
            "[GAP Results]\n",
            "  Val Acc: 0.9555\n",
            "  Test Acc: 0.9108, F1: 0.9070\n",
            "\n",
            "[Training TPA]\n"
          ]
        },
        {
          "output_type": "stream",
          "name": "stderr",
          "text": [
            "/usr/local/lib/python3.12/dist-packages/torch/nn/modules/transformer.py:392: UserWarning: enable_nested_tensor is True, but self.use_nested_tensor is False because encoder_layer.norm_first was True\n",
            "  warnings.warn(\n"
          ]
        },
        {
          "output_type": "stream",
          "name": "stdout",
          "text": [
            "  Epoch  10: Train Acc=0.9261, Val Acc=0.9400, F1=0.9375\n",
            "  Epoch  20: Train Acc=0.9505, Val Acc=0.9543, F1=0.9530\n",
            "  Epoch  30: Train Acc=0.9515, Val Acc=0.9555, F1=0.9546\n",
            "  Epoch  40: Train Acc=0.9555, Val Acc=0.9580, F1=0.9573\n",
            "  Epoch  50: Train Acc=0.9587, Val Acc=0.9506, F1=0.9496\n",
            "  Epoch  60: Train Acc=0.9600, Val Acc=0.9549, F1=0.9541\n",
            "  Early stopping at epoch 63\n",
            "  Best Val Acc: 0.9592\n",
            "\n",
            "[TPA Results]\n",
            "  Val Acc: 0.9592\n",
            "  Test Acc: 0.8979, F1: 0.8940\n",
            "\n",
            "[Training Gated-TPA]\n"
          ]
        },
        {
          "output_type": "stream",
          "name": "stderr",
          "text": [
            "/usr/local/lib/python3.12/dist-packages/torch/nn/modules/transformer.py:392: UserWarning: enable_nested_tensor is True, but self.use_nested_tensor is False because encoder_layer.norm_first was True\n",
            "  warnings.warn(\n"
          ]
        },
        {
          "output_type": "stream",
          "name": "stdout",
          "text": [
            "  Epoch  10: Train Acc=0.9168, Val Acc=0.9184, F1=0.9158\n",
            "  Epoch  20: Train Acc=0.9530, Val Acc=0.9419, F1=0.9405\n",
            "  Epoch  30: Train Acc=0.9569, Val Acc=0.9475, F1=0.9463\n",
            "  Epoch  40: Train Acc=0.9570, Val Acc=0.9475, F1=0.9462\n",
            "  Epoch  50: Train Acc=0.9564, Val Acc=0.9586, F1=0.9580\n",
            "  Early stopping at epoch 59\n",
            "  Best Val Acc: 0.9592\n",
            "\n",
            "[Gated-TPA Results]\n",
            "  Val Acc: 0.9592\n",
            "  Test Acc: 0.9028, F1: 0.9002\n",
            "\n",
            "[Progress: 39/41]\n",
            "\n",
            "================================================================================\n",
            "EXPERIMENT: WALKING_DOWNSTAIRS_TO_WALKING_20pct\n",
            "================================================================================\n",
            "\n",
            "Loading WALKING_DOWNSTAIRS_TO_WALKING_20pct...\n",
            "  Path: /content/drive/MyDrive/AI_data/TPA2/uci_har_transition_datasets/WALKING_DOWNSTAIRS_TO_WALKING_20pct\n",
            "  Train: (8087, 9, 128), Test: (3241, 9, 128)\n",
            "\n",
            "Dataset splits:\n",
            "  Train: 6469, Val: 1618, Test: 3241\n",
            "\n",
            "[Training GAP]\n"
          ]
        },
        {
          "output_type": "stream",
          "name": "stderr",
          "text": [
            "/usr/local/lib/python3.12/dist-packages/torch/nn/modules/transformer.py:392: UserWarning: enable_nested_tensor is True, but self.use_nested_tensor is False because encoder_layer.norm_first was True\n",
            "  warnings.warn(\n"
          ]
        },
        {
          "output_type": "stream",
          "name": "stdout",
          "text": [
            "  Epoch  10: Train Acc=0.9270, Val Acc=0.9172, F1=0.9135\n",
            "  Epoch  20: Train Acc=0.9459, Val Acc=0.9499, F1=0.9480\n",
            "  Epoch  30: Train Acc=0.9498, Val Acc=0.9351, F1=0.9325\n",
            "  Epoch  40: Train Acc=0.9541, Val Acc=0.9493, F1=0.9479\n",
            "  Epoch  50: Train Acc=0.9575, Val Acc=0.9493, F1=0.9482\n",
            "  Early stopping at epoch 56\n",
            "  Best Val Acc: 0.9567\n",
            "\n",
            "[GAP Results]\n",
            "  Val Acc: 0.9567\n",
            "  Test Acc: 0.9013, F1: 0.8977\n",
            "\n",
            "[Training TPA]\n"
          ]
        },
        {
          "output_type": "stream",
          "name": "stderr",
          "text": [
            "/usr/local/lib/python3.12/dist-packages/torch/nn/modules/transformer.py:392: UserWarning: enable_nested_tensor is True, but self.use_nested_tensor is False because encoder_layer.norm_first was True\n",
            "  warnings.warn(\n"
          ]
        },
        {
          "output_type": "stream",
          "name": "stdout",
          "text": [
            "  Epoch  10: Train Acc=0.9239, Val Acc=0.9376, F1=0.9350\n",
            "  Epoch  20: Train Acc=0.9512, Val Acc=0.9543, F1=0.9534\n",
            "  Epoch  30: Train Acc=0.9533, Val Acc=0.9530, F1=0.9521\n",
            "  Epoch  40: Train Acc=0.9555, Val Acc=0.9592, F1=0.9585\n",
            "  Early stopping at epoch 49\n",
            "  Best Val Acc: 0.9592\n",
            "\n",
            "[TPA Results]\n",
            "  Val Acc: 0.9592\n",
            "  Test Acc: 0.8976, F1: 0.8945\n",
            "\n",
            "[Training Gated-TPA]\n"
          ]
        },
        {
          "output_type": "stream",
          "name": "stderr",
          "text": [
            "/usr/local/lib/python3.12/dist-packages/torch/nn/modules/transformer.py:392: UserWarning: enable_nested_tensor is True, but self.use_nested_tensor is False because encoder_layer.norm_first was True\n",
            "  warnings.warn(\n"
          ]
        },
        {
          "output_type": "stream",
          "name": "stdout",
          "text": [
            "  Epoch  10: Train Acc=0.9236, Val Acc=0.9295, F1=0.9270\n",
            "  Epoch  20: Train Acc=0.9527, Val Acc=0.9462, F1=0.9453\n",
            "  Epoch  30: Train Acc=0.9525, Val Acc=0.9567, F1=0.9560\n",
            "  Epoch  40: Train Acc=0.9553, Val Acc=0.9561, F1=0.9555\n",
            "  Epoch  50: Train Acc=0.9590, Val Acc=0.9512, F1=0.9504\n",
            "  Early stopping at epoch 53\n",
            "  Best Val Acc: 0.9598\n",
            "\n",
            "[Gated-TPA Results]\n",
            "  Val Acc: 0.9598\n",
            "  Test Acc: 0.9013, F1: 0.8991\n",
            "\n",
            "[Progress: 40/41]\n",
            "\n",
            "================================================================================\n",
            "EXPERIMENT: WALKING_DOWNSTAIRS_TO_WALKING_30pct\n",
            "================================================================================\n",
            "\n",
            "Loading WALKING_DOWNSTAIRS_TO_WALKING_30pct...\n",
            "  Path: /content/drive/MyDrive/AI_data/TPA2/uci_har_transition_datasets/WALKING_DOWNSTAIRS_TO_WALKING_30pct\n",
            "  Train: (8087, 9, 128), Test: (3241, 9, 128)\n",
            "\n",
            "Dataset splits:\n",
            "  Train: 6469, Val: 1618, Test: 3241\n",
            "\n",
            "[Training GAP]\n"
          ]
        },
        {
          "output_type": "stream",
          "name": "stderr",
          "text": [
            "/usr/local/lib/python3.12/dist-packages/torch/nn/modules/transformer.py:392: UserWarning: enable_nested_tensor is True, but self.use_nested_tensor is False because encoder_layer.norm_first was True\n",
            "  warnings.warn(\n"
          ]
        },
        {
          "output_type": "stream",
          "name": "stdout",
          "text": [
            "  Epoch  10: Train Acc=0.9252, Val Acc=0.9314, F1=0.9285\n",
            "  Epoch  20: Train Acc=0.9433, Val Acc=0.9444, F1=0.9427\n",
            "  Epoch  30: Train Acc=0.9504, Val Acc=0.9604, F1=0.9590\n",
            "  Epoch  40: Train Acc=0.9536, Val Acc=0.9623, F1=0.9612\n",
            "  Epoch  50: Train Acc=0.9566, Val Acc=0.9642, F1=0.9631\n",
            "  Epoch  60: Train Acc=0.9552, Val Acc=0.9672, F1=0.9665\n",
            "  Epoch  70: Train Acc=0.9555, Val Acc=0.9611, F1=0.9600\n",
            "  Epoch  80: Train Acc=0.9583, Val Acc=0.9648, F1=0.9641\n",
            "  Epoch  90: Train Acc=0.9581, Val Acc=0.9685, F1=0.9680\n",
            "  Epoch 100: Train Acc=0.9618, Val Acc=0.9716, F1=0.9711\n",
            "  Best Val Acc: 0.9716\n",
            "\n",
            "[GAP Results]\n",
            "  Val Acc: 0.9716\n",
            "  Test Acc: 0.9105, F1: 0.9070\n",
            "\n",
            "[Training TPA]\n"
          ]
        },
        {
          "output_type": "stream",
          "name": "stderr",
          "text": [
            "/usr/local/lib/python3.12/dist-packages/torch/nn/modules/transformer.py:392: UserWarning: enable_nested_tensor is True, but self.use_nested_tensor is False because encoder_layer.norm_first was True\n",
            "  warnings.warn(\n"
          ]
        },
        {
          "output_type": "stream",
          "name": "stdout",
          "text": [
            "  Epoch  10: Train Acc=0.9212, Val Acc=0.9314, F1=0.9285\n",
            "  Epoch  20: Train Acc=0.9487, Val Acc=0.9617, F1=0.9609\n",
            "  Epoch  30: Train Acc=0.9515, Val Acc=0.9635, F1=0.9630\n",
            "  Epoch  40: Train Acc=0.9556, Val Acc=0.9623, F1=0.9616\n",
            "  Early stopping at epoch 49\n",
            "  Best Val Acc: 0.9672\n",
            "\n",
            "[TPA Results]\n",
            "  Val Acc: 0.9672\n",
            "  Test Acc: 0.9065, F1: 0.9037\n",
            "\n",
            "[Training Gated-TPA]\n"
          ]
        },
        {
          "output_type": "stream",
          "name": "stderr",
          "text": [
            "/usr/local/lib/python3.12/dist-packages/torch/nn/modules/transformer.py:392: UserWarning: enable_nested_tensor is True, but self.use_nested_tensor is False because encoder_layer.norm_first was True\n",
            "  warnings.warn(\n"
          ]
        },
        {
          "output_type": "stream",
          "name": "stdout",
          "text": [
            "  Epoch  10: Train Acc=0.9236, Val Acc=0.9363, F1=0.9344\n",
            "  Epoch  20: Train Acc=0.9454, Val Acc=0.9574, F1=0.9562\n",
            "  Epoch  30: Train Acc=0.9532, Val Acc=0.9629, F1=0.9621\n",
            "  Epoch  40: Train Acc=0.9549, Val Acc=0.9499, F1=0.9487\n",
            "  Epoch  50: Train Acc=0.9513, Val Acc=0.9710, F1=0.9704\n",
            "  Epoch  60: Train Acc=0.9561, Val Acc=0.9642, F1=0.9635\n",
            "  Early stopping at epoch 66\n",
            "  Best Val Acc: 0.9710\n",
            "\n",
            "[Gated-TPA Results]\n",
            "  Val Acc: 0.9710\n",
            "  Test Acc: 0.9050, F1: 0.9029\n",
            "\n",
            "[Progress: 41/41]\n",
            "\n",
            "================================================================================\n",
            "EXPERIMENT: WALKING_DOWNSTAIRS_TO_WALKING_40pct\n",
            "================================================================================\n",
            "\n",
            "Loading WALKING_DOWNSTAIRS_TO_WALKING_40pct...\n",
            "  Path: /content/drive/MyDrive/AI_data/TPA2/uci_har_transition_datasets/WALKING_DOWNSTAIRS_TO_WALKING_40pct\n",
            "  Train: (8087, 9, 128), Test: (3241, 9, 128)\n",
            "\n",
            "Dataset splits:\n",
            "  Train: 6469, Val: 1618, Test: 3241\n",
            "\n",
            "[Training GAP]\n"
          ]
        },
        {
          "output_type": "stream",
          "name": "stderr",
          "text": [
            "/usr/local/lib/python3.12/dist-packages/torch/nn/modules/transformer.py:392: UserWarning: enable_nested_tensor is True, but self.use_nested_tensor is False because encoder_layer.norm_first was True\n",
            "  warnings.warn(\n"
          ]
        },
        {
          "output_type": "stream",
          "name": "stdout",
          "text": [
            "  Epoch  10: Train Acc=0.9252, Val Acc=0.9178, F1=0.9131\n",
            "  Epoch  20: Train Acc=0.9462, Val Acc=0.9246, F1=0.9223\n",
            "  Epoch  30: Train Acc=0.9515, Val Acc=0.9493, F1=0.9481\n",
            "  Epoch  40: Train Acc=0.9576, Val Acc=0.9438, F1=0.9426\n",
            "  Epoch  50: Train Acc=0.9566, Val Acc=0.9431, F1=0.9418\n",
            "  Epoch  60: Train Acc=0.9595, Val Acc=0.9524, F1=0.9514\n",
            "  Epoch  70: Train Acc=0.9603, Val Acc=0.9530, F1=0.9520\n",
            "  Early stopping at epoch 71\n",
            "  Best Val Acc: 0.9592\n",
            "\n",
            "[GAP Results]\n",
            "  Val Acc: 0.9592\n",
            "  Test Acc: 0.9081, F1: 0.9048\n",
            "\n",
            "[Training TPA]\n"
          ]
        },
        {
          "output_type": "stream",
          "name": "stderr",
          "text": [
            "/usr/local/lib/python3.12/dist-packages/torch/nn/modules/transformer.py:392: UserWarning: enable_nested_tensor is True, but self.use_nested_tensor is False because encoder_layer.norm_first was True\n",
            "  warnings.warn(\n"
          ]
        },
        {
          "output_type": "stream",
          "name": "stdout",
          "text": [
            "  Epoch  10: Train Acc=0.9264, Val Acc=0.9129, F1=0.9107\n",
            "  Epoch  20: Train Acc=0.9470, Val Acc=0.9530, F1=0.9521\n",
            "  Epoch  30: Train Acc=0.9542, Val Acc=0.9586, F1=0.9580\n",
            "  Epoch  40: Train Acc=0.9533, Val Acc=0.9394, F1=0.9382\n",
            "  Epoch  50: Train Acc=0.9590, Val Acc=0.9549, F1=0.9542\n",
            "  Epoch  60: Train Acc=0.9581, Val Acc=0.9530, F1=0.9523\n",
            "  Early stopping at epoch 66\n",
            "  Best Val Acc: 0.9604\n",
            "\n",
            "[TPA Results]\n",
            "  Val Acc: 0.9604\n",
            "  Test Acc: 0.8991, F1: 0.8963\n",
            "\n",
            "[Training Gated-TPA]\n"
          ]
        },
        {
          "output_type": "stream",
          "name": "stderr",
          "text": [
            "/usr/local/lib/python3.12/dist-packages/torch/nn/modules/transformer.py:392: UserWarning: enable_nested_tensor is True, but self.use_nested_tensor is False because encoder_layer.norm_first was True\n",
            "  warnings.warn(\n"
          ]
        },
        {
          "output_type": "stream",
          "name": "stdout",
          "text": [
            "  Epoch  10: Train Acc=0.9199, Val Acc=0.8999, F1=0.8976\n",
            "  Epoch  20: Train Acc=0.9512, Val Acc=0.9499, F1=0.9489\n",
            "  Epoch  30: Train Acc=0.9559, Val Acc=0.9487, F1=0.9480\n",
            "  Epoch  40: Train Acc=0.9575, Val Acc=0.9567, F1=0.9561\n",
            "  Epoch  50: Train Acc=0.9592, Val Acc=0.9493, F1=0.9486\n",
            "  Epoch  60: Train Acc=0.9595, Val Acc=0.9506, F1=0.9496\n",
            "  Early stopping at epoch 66\n",
            "  Best Val Acc: 0.9592\n",
            "\n",
            "[Gated-TPA Results]\n",
            "  Val Acc: 0.9592\n",
            "  Test Acc: 0.9059, F1: 0.9039\n",
            "\n",
            "================================================================================\n",
            "SAVING RESULTS\n",
            "================================================================================\n",
            "\n",
            "Results saved to: /content/drive/MyDrive/AI_data/TPA2/unified_transformer_41datasets_results.json\n",
            "\n",
            "================================================================================\n",
            "SUMMARY\n",
            "================================================================================\n",
            "Total experiments: 123\n",
            "Total datasets tested: 41\n",
            "Models compared: 3 (GAP, TPA, Gated-TPA)\n",
            "\n",
            "================================================================================\n",
            "AVERAGE PERFORMANCE (All Datasets)\n",
            "================================================================================\n",
            "GAP         : Acc=0.9022, F1=0.8999\n",
            "TPA         : Acc=0.8942, F1=0.8913\n",
            "Gated-TPA   : Acc=0.8998, F1=0.8982\n",
            "\n",
            "================================================================================\n",
            "EXPERIMENT COMPLETE\n",
            "================================================================================\n"
          ]
        }
      ],
      "source": [
        "# -*- coding: utf-8 -*-\n",
        "\"\"\"unified_transition_transformer.py\n",
        "Unified Model Comparison with Transformer Encoder Backbone\n",
        "Compare three models on 41 pre-augmented transition datasets\n",
        "(1 original + 40 transition datasets)\n",
        "\"\"\"\n",
        "\n",
        "from google.colab import drive\n",
        "drive.mount('/content/drive')\n",
        "\n",
        "import os, random, time, copy, json\n",
        "import numpy as np\n",
        "from typing import Tuple, Dict, List\n",
        "from dataclasses import dataclass\n",
        "\n",
        "import torch\n",
        "import torch.nn as nn\n",
        "import torch.nn.functional as F\n",
        "from torch.utils.data import Dataset, DataLoader\n",
        "\n",
        "from sklearn.metrics import accuracy_score, f1_score\n",
        "from sklearn.model_selection import train_test_split\n",
        "\n",
        "# ========================\n",
        "# Config & Reproducibility\n",
        "# ========================\n",
        "SEED = 42\n",
        "random.seed(SEED)\n",
        "np.random.seed(SEED)\n",
        "torch.manual_seed(SEED)\n",
        "torch.cuda.manual_seed_all(SEED)\n",
        "torch.backends.cudnn.deterministic = True\n",
        "torch.backends.cudnn.benchmark = False\n",
        "\n",
        "@dataclass\n",
        "class Config:\n",
        "    data_dir: str = \"/content/drive/MyDrive/AI_data/TPA2/uci_har_transition_datasets\"\n",
        "    save_dir: str = \"/content/drive/MyDrive/AI_data/TPA2\"\n",
        "\n",
        "    epochs: int = 100\n",
        "    batch_size: int = 128\n",
        "    lr: float = 1e-4\n",
        "    weight_decay: float = 1e-4\n",
        "    grad_clip: float = 1.0\n",
        "    label_smoothing: float = 0.05\n",
        "\n",
        "    patience: int = 20\n",
        "    min_delta: float = 0.0001\n",
        "    val_split: float = 0.2\n",
        "\n",
        "    d_model: int = 128\n",
        "\n",
        "    # Transformer hyperparameters\n",
        "    num_layers: int = 2\n",
        "    n_heads: int = 4\n",
        "    ff_dim: int = 256\n",
        "    dropout: float = 0.1\n",
        "\n",
        "    # TPA hyperparameters\n",
        "    tpa_num_prototypes: int = 16\n",
        "    tpa_heads: int = 4\n",
        "    tpa_dropout: float = 0.1\n",
        "    tpa_temperature: float = 0.07\n",
        "    tpa_topk_ratio: float = 0.25\n",
        "\n",
        "    device: str = \"cuda\" if torch.cuda.is_available() else \"cpu\"\n",
        "    num_workers: int = 2\n",
        "\n",
        "cfg = Config()\n",
        "\n",
        "# ========================\n",
        "# Dataset Class\n",
        "# ========================\n",
        "class PreloadedDataset(Dataset):\n",
        "    \"\"\"Dataset for pre-loaded numpy arrays\"\"\"\n",
        "    def __init__(self, X: np.ndarray, y: np.ndarray):\n",
        "        super().__init__()\n",
        "        self.X = torch.from_numpy(X).float()\n",
        "\n",
        "        # Label 범위 확인 및 조정 (1-6 -> 0-5)\n",
        "        if y.min() >= 1:\n",
        "            y = y - 1\n",
        "\n",
        "        self.y = torch.from_numpy(y).long()\n",
        "\n",
        "    def __len__(self):\n",
        "        return len(self.X)\n",
        "\n",
        "    def __getitem__(self, idx):\n",
        "        return self.X[idx], self.y[idx]\n",
        "\n",
        "# ========================\n",
        "# Data Loading Functions\n",
        "# ========================\n",
        "def load_dataset(base_dir: str, dataset_name: str):\n",
        "    \"\"\"\n",
        "    Load pre-augmented dataset\n",
        "    Args:\n",
        "        base_dir: base directory containing all datasets\n",
        "        dataset_name: e.g., \"ORIGINAL\", \"STANDING_TO_SITTING_10pct\", etc.\n",
        "    Returns:\n",
        "        train_dataset, test_dataset\n",
        "    \"\"\"\n",
        "    dataset_dir = os.path.join(base_dir, dataset_name)\n",
        "\n",
        "    print(f\"\\nLoading {dataset_name}...\")\n",
        "    print(f\"  Path: {dataset_dir}\")\n",
        "\n",
        "    # Load data\n",
        "    X_train = np.load(os.path.join(dataset_dir, \"X_train.npy\"))\n",
        "    y_train = np.load(os.path.join(dataset_dir, \"y_train.npy\"))\n",
        "    X_test = np.load(os.path.join(dataset_dir, \"X_test.npy\"))\n",
        "    y_test = np.load(os.path.join(dataset_dir, \"y_test.npy\"))\n",
        "\n",
        "    print(f\"  Train: {X_train.shape}, Test: {X_test.shape}\")\n",
        "\n",
        "    train_dataset = PreloadedDataset(X_train, y_train)\n",
        "    test_dataset = PreloadedDataset(X_test, y_test)\n",
        "\n",
        "    return train_dataset, test_dataset\n",
        "\n",
        "# ========================\n",
        "# Transformer Backbone Components\n",
        "# ========================\n",
        "class PositionalEncoding(nn.Module):\n",
        "    \"\"\"Sinusoidal Positional Encoding\"\"\"\n",
        "    def __init__(self, d_model: int, max_len: int = 5000, dropout: float = 0.1):\n",
        "        super().__init__()\n",
        "        self.dropout = nn.Dropout(p=dropout)\n",
        "\n",
        "        # Create positional encoding matrix\n",
        "        pe = torch.zeros(max_len, d_model)\n",
        "        position = torch.arange(0, max_len, dtype=torch.float).unsqueeze(1)\n",
        "        div_term = torch.exp(torch.arange(0, d_model, 2).float() * (-np.log(10000.0) / d_model))\n",
        "\n",
        "        pe[:, 0::2] = torch.sin(position * div_term)\n",
        "        pe[:, 1::2] = torch.cos(position * div_term)\n",
        "\n",
        "        pe = pe.unsqueeze(0)  # [1, max_len, d_model]\n",
        "        self.register_buffer('pe', pe)\n",
        "\n",
        "    def forward(self, x):\n",
        "        \"\"\"\n",
        "        Args:\n",
        "            x: [B, T, D]\n",
        "        Returns:\n",
        "            [B, T, D]\n",
        "        \"\"\"\n",
        "        x = x + self.pe[:, :x.size(1), :]\n",
        "        return self.dropout(x)\n",
        "\n",
        "class TransformerBackbone(nn.Module):\n",
        "    \"\"\"\n",
        "    Lightweight Transformer Encoder Backbone\n",
        "    - 2 layers\n",
        "    - d_model=128\n",
        "    - n_heads=4\n",
        "    - ff_dim=256\n",
        "    - Dropout=0.1\n",
        "    \"\"\"\n",
        "    def __init__(self,\n",
        "                 in_channels: int = 9,\n",
        "                 d_model: int = 128,\n",
        "                 num_layers: int = 2,\n",
        "                 n_heads: int = 4,\n",
        "                 ff_dim: int = 256,\n",
        "                 dropout: float = 0.1,\n",
        "                 max_seq_len: int = 128):\n",
        "        super().__init__()\n",
        "\n",
        "        self.d_model = d_model\n",
        "\n",
        "        # Input projection: [B, C, T] -> [B, T, D]\n",
        "        self.input_projection = nn.Linear(in_channels, d_model)\n",
        "\n",
        "        # Positional encoding\n",
        "        self.pos_encoder = PositionalEncoding(d_model, max_seq_len, dropout)\n",
        "\n",
        "        # Transformer Encoder layers\n",
        "        encoder_layer = nn.TransformerEncoderLayer(\n",
        "            d_model=d_model,\n",
        "            nhead=n_heads,\n",
        "            dim_feedforward=ff_dim,\n",
        "            dropout=dropout,\n",
        "            activation='gelu',\n",
        "            batch_first=True,\n",
        "            norm_first=True  # Pre-LN for better stability\n",
        "        )\n",
        "\n",
        "        self.transformer_encoder = nn.TransformerEncoder(\n",
        "            encoder_layer,\n",
        "            num_layers=num_layers\n",
        "        )\n",
        "\n",
        "        # Output normalization\n",
        "        self.norm = nn.LayerNorm(d_model)\n",
        "\n",
        "    def forward(self, x):\n",
        "        \"\"\"\n",
        "        Args:\n",
        "            x: [B, C, T] - input sensor data\n",
        "        Returns:\n",
        "            [B, T, D] - transformed sequence\n",
        "        \"\"\"\n",
        "        # [B, C, T] -> [B, T, C]\n",
        "        x = x.transpose(1, 2)\n",
        "\n",
        "        # Project to d_model: [B, T, C] -> [B, T, D]\n",
        "        x = self.input_projection(x)\n",
        "\n",
        "        # Add positional encoding: [B, T, D]\n",
        "        x = self.pos_encoder(x)\n",
        "\n",
        "        # Transformer encoding: [B, T, D]\n",
        "        x = self.transformer_encoder(x)\n",
        "\n",
        "        # Final normalization: [B, T, D]\n",
        "        x = self.norm(x)\n",
        "\n",
        "        return x\n",
        "\n",
        "# ========================\n",
        "# GAP Model with Transformer\n",
        "# ========================\n",
        "class GAPModel(nn.Module):\n",
        "    \"\"\"Baseline: Global Average Pooling with Transformer Backbone\"\"\"\n",
        "    def __init__(self,\n",
        "                 in_channels: int = 9,\n",
        "                 d_model: int = 128,\n",
        "                 num_layers: int = 2,\n",
        "                 n_heads: int = 4,\n",
        "                 ff_dim: int = 256,\n",
        "                 dropout: float = 0.1,\n",
        "                 num_classes: int = 6):\n",
        "        super().__init__()\n",
        "        self.backbone = TransformerBackbone(\n",
        "            in_channels=in_channels,\n",
        "            d_model=d_model,\n",
        "            num_layers=num_layers,\n",
        "            n_heads=n_heads,\n",
        "            ff_dim=ff_dim,\n",
        "            dropout=dropout\n",
        "        )\n",
        "        self.fc = nn.Linear(d_model, num_classes)\n",
        "\n",
        "    def forward(self, x):\n",
        "        features = self.backbone(x)  # [B, T, D]\n",
        "        pooled = features.mean(dim=1)  # [B, D]\n",
        "        logits = self.fc(pooled)\n",
        "        return logits\n",
        "\n",
        "# ========================\n",
        "# Pure-TPA with Transformer\n",
        "# ========================\n",
        "class ProductionTPA(nn.Module):\n",
        "    \"\"\"Pure TPA\"\"\"\n",
        "    def __init__(self, dim, num_prototypes=16, heads=4, dropout=0.1,\n",
        "                 temperature=0.07, topk_ratio=0.25):\n",
        "        super().__init__()\n",
        "        assert dim % heads == 0\n",
        "\n",
        "        self.dim = dim\n",
        "        self.heads = heads\n",
        "        self.head_dim = dim // heads\n",
        "        self.num_prototypes = num_prototypes\n",
        "        self.temperature = temperature\n",
        "        self.topk_ratio = topk_ratio\n",
        "\n",
        "        self.proto = nn.Parameter(torch.randn(num_prototypes, dim) * 0.02)\n",
        "\n",
        "        self.pre_norm = nn.LayerNorm(dim)\n",
        "\n",
        "        self.q_proj = nn.Linear(dim, dim, bias=False)\n",
        "        self.k_proj = nn.Linear(dim, dim, bias=False)\n",
        "        self.v_proj = nn.Linear(dim, dim, bias=False)\n",
        "\n",
        "        self.fuse = nn.Sequential(\n",
        "            nn.Linear(dim, dim),\n",
        "            nn.SiLU(),\n",
        "            nn.Dropout(dropout),\n",
        "            nn.Linear(dim, dim)\n",
        "        )\n",
        "\n",
        "        self.dropout = nn.Dropout(dropout)\n",
        "\n",
        "    def forward(self, x):\n",
        "        B, T, D = x.shape\n",
        "        P = self.num_prototypes\n",
        "\n",
        "        x_norm = self.pre_norm(x)\n",
        "\n",
        "        K = self.k_proj(x_norm)\n",
        "        V = self.v_proj(x_norm)\n",
        "        Qp = self.q_proj(self.proto).unsqueeze(0).expand(B, -1, -1)\n",
        "\n",
        "        def split_heads(t, length):\n",
        "            return t.view(B, length, self.heads, self.head_dim).transpose(1, 2)\n",
        "\n",
        "        Qh = split_heads(Qp, P)\n",
        "        Kh = split_heads(K, T)\n",
        "        Vh = split_heads(V, T)\n",
        "\n",
        "        Qh = F.normalize(Qh, dim=-1)\n",
        "        Kh = F.normalize(Kh, dim=-1)\n",
        "\n",
        "        scores = torch.matmul(Qh, Kh.transpose(-2, -1)) / self.temperature\n",
        "        attn = F.softmax(scores, dim=-1)\n",
        "        attn = torch.nan_to_num(attn, nan=0.0)\n",
        "        attn = self.dropout(attn)\n",
        "\n",
        "        proto_tokens = torch.matmul(attn, Vh)\n",
        "        proto_tokens = proto_tokens.transpose(1, 2).contiguous().view(B, P, D)\n",
        "\n",
        "        z_tpa = proto_tokens.mean(dim=1)\n",
        "\n",
        "        z = self.fuse(z_tpa)\n",
        "\n",
        "        return z\n",
        "\n",
        "class TPAModel(nn.Module):\n",
        "    def __init__(self,\n",
        "                 in_channels: int = 9,\n",
        "                 d_model: int = 128,\n",
        "                 num_layers: int = 2,\n",
        "                 n_heads: int = 4,\n",
        "                 ff_dim: int = 256,\n",
        "                 dropout: float = 0.1,\n",
        "                 num_classes: int = 6,\n",
        "                 tpa_config=None):\n",
        "        super().__init__()\n",
        "        self.backbone = TransformerBackbone(\n",
        "            in_channels=in_channels,\n",
        "            d_model=d_model,\n",
        "            num_layers=num_layers,\n",
        "            n_heads=n_heads,\n",
        "            ff_dim=ff_dim,\n",
        "            dropout=dropout\n",
        "        )\n",
        "        self.tpa = ProductionTPA(\n",
        "            dim=d_model,\n",
        "            num_prototypes=tpa_config['num_prototypes'],\n",
        "            heads=tpa_config['heads'],\n",
        "            dropout=tpa_config['dropout'],\n",
        "            temperature=tpa_config['temperature'],\n",
        "            topk_ratio=tpa_config['topk_ratio']\n",
        "        )\n",
        "        self.classifier = nn.Linear(d_model, num_classes)\n",
        "\n",
        "    def forward(self, x):\n",
        "        features = self.backbone(x)  # [B, T, D]\n",
        "        z = self.tpa(features)  # [B, D]\n",
        "        logits = self.classifier(z)\n",
        "        return logits\n",
        "\n",
        "# ========================\n",
        "# Gated-TPA with Transformer\n",
        "# ========================\n",
        "class GatedTPAModel(nn.Module):\n",
        "    \"\"\"Gated-TPA: Hybrid of TPA and GAP\"\"\"\n",
        "    def __init__(self,\n",
        "                 in_channels: int = 9,\n",
        "                 d_model: int = 128,\n",
        "                 num_layers: int = 2,\n",
        "                 n_heads: int = 4,\n",
        "                 ff_dim: int = 256,\n",
        "                 dropout: float = 0.1,\n",
        "                 num_classes: int = 6,\n",
        "                 tpa_config=None):\n",
        "        super().__init__()\n",
        "        self.backbone = TransformerBackbone(\n",
        "            in_channels=in_channels,\n",
        "            d_model=d_model,\n",
        "            num_layers=num_layers,\n",
        "            n_heads=n_heads,\n",
        "            ff_dim=ff_dim,\n",
        "            dropout=dropout\n",
        "        )\n",
        "        self.tpa = ProductionTPA(\n",
        "            dim=d_model,\n",
        "            num_prototypes=tpa_config['num_prototypes'],\n",
        "            heads=tpa_config['heads'],\n",
        "            dropout=tpa_config['dropout'],\n",
        "            temperature=tpa_config['temperature'],\n",
        "            topk_ratio=tpa_config['topk_ratio']\n",
        "        )\n",
        "\n",
        "        # Gating mechanism\n",
        "        self.gate = nn.Sequential(\n",
        "            nn.Linear(d_model * 2, d_model),\n",
        "            nn.Sigmoid()\n",
        "        )\n",
        "\n",
        "        self.classifier = nn.Linear(d_model, num_classes)\n",
        "\n",
        "    def forward(self, x):\n",
        "        features = self.backbone(x)  # [B, T, D]\n",
        "\n",
        "        # TPA path\n",
        "        z_tpa = self.tpa(features)  # [B, D]\n",
        "\n",
        "        # GAP path\n",
        "        z_gap = features.mean(dim=1)  # [B, D]\n",
        "\n",
        "        # Gating\n",
        "        gate_input = torch.cat([z_tpa, z_gap], dim=-1)  # [B, 2D]\n",
        "        alpha = self.gate(gate_input)  # [B, D]\n",
        "\n",
        "        # Combine\n",
        "        z = alpha * z_tpa + (1 - alpha) * z_gap  # [B, D]\n",
        "\n",
        "        logits = self.classifier(z)\n",
        "        return logits\n",
        "\n",
        "# ========================\n",
        "# Training & Evaluation\n",
        "# ========================\n",
        "def train_one_epoch(model, loader, opt, cfg: Config):\n",
        "    model.train()\n",
        "    loss_sum = 0\n",
        "    correct, total = 0, 0\n",
        "    criterion = nn.CrossEntropyLoss(label_smoothing=cfg.label_smoothing)\n",
        "\n",
        "    for x, y in loader:\n",
        "        x, y = x.to(cfg.device), y.to(cfg.device)\n",
        "\n",
        "        opt.zero_grad()\n",
        "        logits = model(x)\n",
        "        loss = criterion(logits, y)\n",
        "\n",
        "        if torch.isnan(loss) or torch.isinf(loss):\n",
        "            print(\"[Warning] NaN/Inf loss detected, skipping batch\")\n",
        "            continue\n",
        "\n",
        "        loss.backward()\n",
        "        nn.utils.clip_grad_norm_(model.parameters(), cfg.grad_clip)\n",
        "        opt.step()\n",
        "\n",
        "        with torch.no_grad():\n",
        "            pred = logits.argmax(dim=-1)\n",
        "            correct += (pred == y).sum().item()\n",
        "            total += y.size(0)\n",
        "            loss_sum += loss.item() * y.size(0)\n",
        "\n",
        "    return {\n",
        "        \"loss\": loss_sum / total if total > 0 else 0,\n",
        "        \"acc\": correct / total if total > 0 else 0\n",
        "    }\n",
        "\n",
        "@torch.no_grad()\n",
        "def evaluate(model, loader, cfg: Config):\n",
        "    model.eval()\n",
        "    ys, ps = [], []\n",
        "\n",
        "    for x, y in loader:\n",
        "        x, y = x.to(cfg.device), y.to(cfg.device)\n",
        "        logits = model(x)\n",
        "        ps.append(logits.argmax(dim=-1).cpu().numpy())\n",
        "        ys.append(y.cpu().numpy())\n",
        "\n",
        "    y_true, y_pred = np.concatenate(ys), np.concatenate(ps)\n",
        "    acc = accuracy_score(y_true, y_pred)\n",
        "    f1 = f1_score(y_true, y_pred, average='macro')\n",
        "\n",
        "    return acc, f1\n",
        "\n",
        "def train_model(model, train_loader, val_loader, cfg: Config, model_name: str):\n",
        "    \"\"\"Train a single model\"\"\"\n",
        "    print(f\"\\n[Training {model_name}]\")\n",
        "\n",
        "    opt = torch.optim.AdamW(model.parameters(), lr=cfg.lr, weight_decay=cfg.weight_decay)\n",
        "\n",
        "    best_acc, best_wts = 0.0, None\n",
        "    patience_counter = 0\n",
        "\n",
        "    for epoch in range(1, cfg.epochs + 1):\n",
        "        stats = train_one_epoch(model, train_loader, opt, cfg)\n",
        "        val_acc, val_f1 = evaluate(model, val_loader, cfg)\n",
        "\n",
        "        if val_acc > best_acc + cfg.min_delta:\n",
        "            best_acc = val_acc\n",
        "            best_wts = copy.deepcopy(model.state_dict())\n",
        "            patience_counter = 0\n",
        "        else:\n",
        "            patience_counter += 1\n",
        "\n",
        "        if epoch % 10 == 0:\n",
        "            print(f\"  Epoch {epoch:3d}: Train Acc={stats['acc']:.4f}, Val Acc={val_acc:.4f}, F1={val_f1:.4f}\")\n",
        "\n",
        "        if patience_counter >= cfg.patience:\n",
        "            print(f\"  Early stopping at epoch {epoch}\")\n",
        "            break\n",
        "\n",
        "    if best_wts:\n",
        "        model.load_state_dict(best_wts)\n",
        "\n",
        "    print(f\"  Best Val Acc: {best_acc:.4f}\")\n",
        "    return best_acc\n",
        "\n",
        "def create_model(model_name: str, cfg: Config):\n",
        "    \"\"\"Create model by name\"\"\"\n",
        "    tpa_config = {\n",
        "        'num_prototypes': cfg.tpa_num_prototypes,\n",
        "        'heads': cfg.tpa_heads,\n",
        "        'dropout': cfg.tpa_dropout,\n",
        "        'temperature': cfg.tpa_temperature,\n",
        "        'topk_ratio': cfg.tpa_topk_ratio\n",
        "    }\n",
        "\n",
        "    if model_name == \"GAP\":\n",
        "        return GAPModel(\n",
        "            d_model=cfg.d_model,\n",
        "            num_layers=cfg.num_layers,\n",
        "            n_heads=cfg.n_heads,\n",
        "            ff_dim=cfg.ff_dim,\n",
        "            dropout=cfg.dropout\n",
        "        ).to(cfg.device).float()\n",
        "    elif model_name == \"TPA\":\n",
        "        return TPAModel(\n",
        "            d_model=cfg.d_model,\n",
        "            num_layers=cfg.num_layers,\n",
        "            n_heads=cfg.n_heads,\n",
        "            ff_dim=cfg.ff_dim,\n",
        "            dropout=cfg.dropout,\n",
        "            tpa_config=tpa_config\n",
        "        ).to(cfg.device).float()\n",
        "    elif model_name == \"Gated-TPA\":\n",
        "        return GatedTPAModel(\n",
        "            d_model=cfg.d_model,\n",
        "            num_layers=cfg.num_layers,\n",
        "            n_heads=cfg.n_heads,\n",
        "            ff_dim=cfg.ff_dim,\n",
        "            dropout=cfg.dropout,\n",
        "            tpa_config=tpa_config\n",
        "        ).to(cfg.device).float()\n",
        "    else:\n",
        "        raise ValueError(f\"Unknown model: {model_name}\")\n",
        "\n",
        "# ========================\n",
        "# Main Experiment\n",
        "# ========================\n",
        "def run_experiment(dataset_name: str, cfg: Config):\n",
        "    \"\"\"Run complete experiment for one dataset\"\"\"\n",
        "\n",
        "    print(f\"\\n{'='*80}\")\n",
        "    print(f\"EXPERIMENT: {dataset_name}\")\n",
        "    print(f\"{'='*80}\")\n",
        "\n",
        "    # Load data\n",
        "    train_dataset, test_dataset = load_dataset(cfg.data_dir, dataset_name)\n",
        "\n",
        "    # Split train into train/val using indices\n",
        "    n_total = len(train_dataset)\n",
        "    indices = np.arange(n_total)\n",
        "\n",
        "    # Get labels for stratification\n",
        "    y_labels = train_dataset.y.numpy()\n",
        "\n",
        "    train_indices, val_indices = train_test_split(\n",
        "        indices,\n",
        "        test_size=cfg.val_split,\n",
        "        random_state=SEED,\n",
        "        stratify=y_labels\n",
        "    )\n",
        "\n",
        "    # Create subsets using Subset\n",
        "    from torch.utils.data import Subset\n",
        "    train_subset = Subset(train_dataset, train_indices)\n",
        "    val_subset = Subset(train_dataset, val_indices)\n",
        "\n",
        "    # Create data loaders\n",
        "    g = torch.Generator(device='cpu').manual_seed(SEED)\n",
        "    train_loader = DataLoader(train_subset, cfg.batch_size, shuffle=True,\n",
        "                              num_workers=cfg.num_workers, generator=g)\n",
        "    val_loader = DataLoader(val_subset, cfg.batch_size, num_workers=cfg.num_workers)\n",
        "    test_loader = DataLoader(test_dataset, cfg.batch_size, num_workers=cfg.num_workers)\n",
        "\n",
        "    print(f\"\\nDataset splits:\")\n",
        "    print(f\"  Train: {len(train_subset)}, Val: {len(val_subset)}, Test: {len(test_dataset)}\")\n",
        "\n",
        "    # Train and evaluate all models\n",
        "    results = []\n",
        "    model_names = [\"GAP\", \"TPA\", \"Gated-TPA\"]\n",
        "\n",
        "    for model_name in model_names:\n",
        "        # Reset seed for each model\n",
        "        random.seed(SEED)\n",
        "        np.random.seed(SEED)\n",
        "        torch.manual_seed(SEED)\n",
        "\n",
        "        # Create and train model\n",
        "        model = create_model(model_name, cfg)\n",
        "        best_val_acc = train_model(model, train_loader, val_loader, cfg, model_name)\n",
        "\n",
        "        # Evaluate on test set\n",
        "        test_acc, test_f1 = evaluate(model, test_loader, cfg)\n",
        "\n",
        "        print(f\"\\n[{model_name} Results]\")\n",
        "        print(f\"  Val Acc: {best_val_acc:.4f}\")\n",
        "        print(f\"  Test Acc: {test_acc:.4f}, F1: {test_f1:.4f}\")\n",
        "\n",
        "        results.append({\n",
        "            'Model': model_name,\n",
        "            'Dataset': dataset_name,\n",
        "            'Val_Accuracy': float(best_val_acc),\n",
        "            'Test_Accuracy': float(test_acc),\n",
        "            'Test_F1_Score': float(test_f1)\n",
        "        })\n",
        "\n",
        "    return results\n",
        "\n",
        "# ========================\n",
        "# Run All Experiments\n",
        "# ========================\n",
        "if __name__ == \"__main__\":\n",
        "    print(\"\\n\" + \"=\"*80)\n",
        "    print(\"UNIFIED MODEL COMPARISON: GAP vs TPA vs Gated-TPA\")\n",
        "    print(\"WITH TRANSFORMER ENCODER BACKBONE\")\n",
        "    print(\"Testing on 41 Datasets (1 Original + 40 Transition)\")\n",
        "    print(\"=\"*80)\n",
        "\n",
        "    # Define all 41 datasets\n",
        "    datasets = [\"ORIGINAL\"]  # 원본 데이터셋\n",
        "\n",
        "    # 정적 활동 전이 (6개 × 4개 비율 = 24개)\n",
        "    static_transitions = [\n",
        "        \"STANDING_TO_SITTING\",\n",
        "        \"STANDING_TO_LAYING\",\n",
        "        \"SITTING_TO_LAYING\",\n",
        "        \"SITTING_TO_STANDING\",\n",
        "        \"LAYING_TO_SITTING\",\n",
        "        \"LAYING_TO_STANDING\"\n",
        "    ]\n",
        "\n",
        "    # 걷기 활동 전이 (4개 × 4개 비율 = 16개)\n",
        "    walking_transitions = [\n",
        "        \"WALKING_TO_WALKING_UPSTAIRS\",\n",
        "        \"WALKING_TO_WALKING_DOWNSTAIRS\",\n",
        "        \"WALKING_UPSTAIRS_TO_WALKING\",\n",
        "        \"WALKING_DOWNSTAIRS_TO_WALKING\"\n",
        "    ]\n",
        "\n",
        "    # 모든 전이에 대해 10%, 20%, 30%, 40% 추가\n",
        "    mix_pcts = [10, 20, 30, 40]\n",
        "\n",
        "    for transition in static_transitions + walking_transitions:\n",
        "        for pct in mix_pcts:\n",
        "            datasets.append(f\"{transition}_{pct}pct\")\n",
        "\n",
        "    print(f\"\\nTotal datasets to test: {len(datasets)}\")\n",
        "    print(f\"  - Original: 1\")\n",
        "    print(f\"  - Static transitions: {len(static_transitions) * len(mix_pcts)}\")\n",
        "    print(f\"  - Walking transitions: {len(walking_transitions) * len(mix_pcts)}\")\n",
        "\n",
        "    all_results = []\n",
        "\n",
        "    # Run experiments\n",
        "    for i, dataset_name in enumerate(datasets, 1):\n",
        "        print(f\"\\n[Progress: {i}/{len(datasets)}]\")\n",
        "        results = run_experiment(dataset_name, cfg)\n",
        "        all_results.extend(results)\n",
        "\n",
        "    # Save all results\n",
        "    print(f\"\\n{'='*80}\")\n",
        "    print(\"SAVING RESULTS\")\n",
        "    print(f\"{'='*80}\")\n",
        "\n",
        "    results_dict = {\n",
        "        'experiment_info': {\n",
        "            'date': time.strftime('%Y-%m-%d %H:%M:%S'),\n",
        "            'models': ['GAP', 'TPA', 'Gated-TPA'],\n",
        "            'backbone': 'Transformer Encoder',\n",
        "            'total_datasets': len(datasets),\n",
        "            'datasets': datasets,\n",
        "            'config': {\n",
        "                'epochs': cfg.epochs,\n",
        "                'batch_size': cfg.batch_size,\n",
        "                'lr': cfg.lr,\n",
        "                'd_model': cfg.d_model,\n",
        "                'num_layers': cfg.num_layers,\n",
        "                'n_heads': cfg.n_heads,\n",
        "                'ff_dim': cfg.ff_dim,\n",
        "                'dropout': cfg.dropout,\n",
        "                'tpa_num_prototypes': cfg.tpa_num_prototypes,\n",
        "                'tpa_heads': cfg.tpa_heads\n",
        "            }\n",
        "        },\n",
        "        'results': all_results\n",
        "    }\n",
        "\n",
        "    # Save to JSON\n",
        "    json_path = os.path.join(cfg.save_dir, \"unified_transformer_41datasets_results.json\")\n",
        "    with open(json_path, 'w') as f:\n",
        "        json.dump(results_dict, f, indent=2)\n",
        "\n",
        "    print(f\"\\nResults saved to: {json_path}\")\n",
        "\n",
        "    # Print summary\n",
        "    print(f\"\\n{'='*80}\")\n",
        "    print(\"SUMMARY\")\n",
        "    print(f\"{'='*80}\")\n",
        "    print(f\"Total experiments: {len(all_results)}\")\n",
        "    print(f\"Total datasets tested: {len(datasets)}\")\n",
        "    print(f\"Models compared: 3 (GAP, TPA, Gated-TPA)\")\n",
        "\n",
        "    # Calculate average performance per model\n",
        "    print(f\"\\n{'='*80}\")\n",
        "    print(\"AVERAGE PERFORMANCE (All Datasets)\")\n",
        "    print(f\"{'='*80}\")\n",
        "\n",
        "    for model_name in ['GAP', 'TPA', 'Gated-TPA']:\n",
        "        model_results = [r for r in all_results if r['Model'] == model_name]\n",
        "        avg_acc = np.mean([r['Test_Accuracy'] for r in model_results])\n",
        "        avg_f1 = np.mean([r['Test_F1_Score'] for r in model_results])\n",
        "        print(f\"{model_name:12s}: Acc={avg_acc:.4f}, F1={avg_f1:.4f}\")\n",
        "\n",
        "    print(f\"\\n{'='*80}\")\n",
        "    print(\"EXPERIMENT COMPLETE\")\n",
        "    print(f\"{'='*80}\")"
      ]
    }
  ]
}